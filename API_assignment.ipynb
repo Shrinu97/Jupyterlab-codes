{
 "cells": [
  {
   "cell_type": "markdown",
   "id": "0b626451-b6b9-4475-8e86-06144ff2f98f",
   "metadata": {},
   "source": [
    "Q1. What is an API? Give an example, where an API is used in real life."
   ]
  },
  {
   "cell_type": "markdown",
   "id": "c7eed372-a4e5-456f-877a-3fc5482ce3a2",
   "metadata": {},
   "source": [
    "ans:\n",
    "\n",
    "APIs are mechanisms that enable two software components to communicate with each other using a set of definitions and protocols. For example, the weather bureau's software system contains daily weather data. The weather app on your phone “talks” to this system via APIs and shows you daily weather updates on your phone."
   ]
  },
  {
   "cell_type": "markdown",
   "id": "d57c13aa-c4d2-45de-b268-568e1c269f0b",
   "metadata": {},
   "source": [
    "Q2. Give advantages and disadvantages of using API."
   ]
  },
  {
   "cell_type": "markdown",
   "id": "1074af3b-1f7b-40bb-adc2-54b4c42f2469",
   "metadata": {},
   "source": [
    "ans:\n",
    "\n",
    "*ADVANTAGES*\n",
    "\n",
    "Increased Interoperability: \n",
    "\n",
    "API solutions enable different software systems to communicate with each other, regardless of their programming language or platform. This enhances the interoperability between systems, allowing for the exchange of data and functionality.\n",
    "\n",
    "Improved Efficiency: \n",
    "\n",
    "API driven infrastructures enable developers to reuse code and functionality from existing software systems, saving time and reducing the amount of code that needs to be written from scratch.\n",
    "\n",
    "Improved Efficiency: \n",
    "\n",
    "API driven infrastructures enable developers to reuse code and functionality from existing software systems, saving time and reducing the amount of code that needs to be written from scratch.\n",
    "\n",
    "Increased Flexibility: \n",
    "\n",
    "APIs provide developers with greater flexibility, enabling them to choose the best programming languages and frameworks for their needs.\n",
    "\n",
    "New Revenue Streams: \n",
    "\n",
    "APIs can enable companies to create new revenue streams by providing third-party developers with access to their software systems.\n",
    "\n",
    "\n",
    "*DISADVANTAGES*\n",
    "\n",
    "\n",
    "Security Concerns: \n",
    "\n",
    "API infrastructures can be vulnerable to security breaches, such as SQL injection attacks and cross-site scripting (XSS) attacks, making it crucial to implement security measures to protect against these threats.\n",
    "\n",
    "Complexity: \n",
    "\n",
    "APIs can be complex, requiring a significant amount of development effort to implement and maintain.\n",
    "\n",
    "Compatibility Issues: \n",
    "\n",
    "APIs can have compatibility issues between different versions of the same software system or between different systems, which can lead to errors and system failures.\n",
    "\n",
    "Dependency on Third-Party Developers: \n",
    "\n",
    "APIs rely on third-party developers to create applications that integrate with the software system. This can create dependencies that are outside of the control of the company that owns the software system.\n",
    "\n",
    "Governance and Management: \n",
    "\n",
    "APIs require proper governance and management to ensure they are being used correctly and consistently across different applications and systems.\n",
    " \n",
    "    "
   ]
  },
  {
   "cell_type": "markdown",
   "id": "f644a0e6-263b-4c82-a740-e53ea4bf5e82",
   "metadata": {},
   "source": [
    "Q3. What is a Web API? Differentiate between API and Web API."
   ]
  },
  {
   "cell_type": "markdown",
   "id": "667e5845-dd06-4694-96c2-a72050437983",
   "metadata": {},
   "source": [
    "ans:\n",
    "\n",
    "A web API is an application programming interface (API) for either a web server or a web browser."
   ]
  },
  {
   "cell_type": "markdown",
   "id": "48a81ee0-7502-47f1-80db-b963fd4d0132",
   "metadata": {},
   "source": [
    "*Differentiation*:\n",
    "\n",
    "API can be constructed by using different protocol like TCP/IP or HTTP.\n",
    "\n",
    "When API is constructed using HTTP protocol then it is called Web API.\n",
    "\n",
    "WEB API is a subset of API."
   ]
  },
  {
   "cell_type": "markdown",
   "id": "c605f696-102b-4078-94c0-4794b4cddb8c",
   "metadata": {},
   "source": [
    "Q4. Explain REST and SOAP Architecture. Mention shortcomings of SOAP."
   ]
  },
  {
   "cell_type": "markdown",
   "id": "9f8aae6b-bff6-4a3b-96a3-e564d862ebf6",
   "metadata": {},
   "source": [
    "ans:\n",
    "\n",
    "*REST*\n",
    "\n",
    "REST stands for REpresentational State Transfer and API stands for Application Program Interface. REST is a software architectural style that defines the set of rules to be used for creating web services. Web services which follow the REST architectural style are known as RESTful web services. It allows requesting systems to access and manipulate web resources by using a uniform and predefined set of rules. Interaction in REST based systems happen through Internet’s Hypertext Transfer Protocol (HTTP).\n",
    "\n",
    "A Restful system consists of a:\n",
    "\n",
    "client who requests for the resources.\n",
    "\n",
    "server who has the resources.\n"
   ]
  },
  {
   "cell_type": "markdown",
   "id": "c2a3efa0-503b-4ea1-9d09-35802212b1dc",
   "metadata": {},
   "source": [
    "*SOAP*\n",
    "\n",
    "Simple Object Access Protocol(SOAP) is a network protocol for exchanging structured data between nodes. It uses XML format to transfer messages. It works on top of application layer protocols like HTML and SMTP for notations and transmission. SOAP allows processes to communicate throughout platforms, languages and operating systems, since protocols like HTTP are already installed on all platforms.\n"
   ]
  },
  {
   "cell_type": "markdown",
   "id": "af769fef-8c93-4973-8880-b7f69ae471c9",
   "metadata": {},
   "source": [
    "*SHORTCOMINGS*\n",
    "\n",
    "Resource-consuming:\n",
    "\n",
    "Due to the larger size of an XML-file and a payload created by the massive structure of a message, a SOAP API requires a larger bandwidth. Sometimes, this trade-off isn’t worth dealing with. Simply put, it’s slow to process these strings of tags that XML messages abound with.\n",
    "\n",
    "Hard learning curve:\n",
    "\n",
    "Being protocol-based, building SOAP API servers requires knowledge and understanding of all protocols you may use with it. Developers dealing with building these types of APIs should dive deep into all processes inside the protocol with its highly restricted rules.\n",
    "\n",
    "Lacks flexibility:\n",
    "\n",
    "We’ve mentioned that a SOAP API serves as a strict contract between a client and a server. With this in mind, this rigid SOAP schema requires additional effort to add or remove the message properties on both sides of the communication, the server and the client. It makes updating requests and responses a tedious process and slows down adoption.\n",
    "\n"
   ]
  },
  {
   "cell_type": "markdown",
   "id": "d93ccf28-f720-4c8e-a09d-862063d72faf",
   "metadata": {},
   "source": [
    "Q5. Differentiate between REST and SOAP."
   ]
  },
  {
   "cell_type": "markdown",
   "id": "c14cd143-c15a-41ad-a92a-c26117bde808",
   "metadata": {},
   "source": [
    "ans:\n",
    "\n",
    "*SOAP*\n",
    "\n",
    "Relies on SOAP (Simple Object Access Protocol)\n",
    "\n",
    "Transports data in standard XML format.\n",
    "\n",
    "Because it is XML based and relies on SOAP, it works with WSDL\n",
    "\n",
    "Works over HTTP, HTTPS, SMTP, XMPP\n",
    "\n",
    "Highly structured/typed\n",
    "\n",
    "Designed with large enterprise applications in mind\n",
    "\n",
    "\n",
    "*REST*\n",
    "\n",
    "Relies on REST (Representational State Transfer) architecture using HTTP.\n",
    "\n",
    "Generally transports data in JSON. It is based on URI. Because REST follows stateless model, REST does not enforces message format as XML or JSON etc.\n",
    "\n",
    "It works with GET, POST, PUT, DELETE\n",
    "\n",
    "Works over HTTP and HTTPS\n",
    "\n",
    "Less structured -> less bulky data\n",
    "\n",
    "Designed with mobile devices in mind"
   ]
  },
  {
   "cell_type": "code",
   "execution_count": null,
   "id": "698a5671-9ba6-4ca2-ab94-526fb406e6ec",
   "metadata": {},
   "outputs": [],
   "source": []
  }
 ],
 "metadata": {
  "kernelspec": {
   "display_name": "Python 3 (ipykernel)",
   "language": "python",
   "name": "python3"
  },
  "language_info": {
   "codemirror_mode": {
    "name": "ipython",
    "version": 3
   },
   "file_extension": ".py",
   "mimetype": "text/x-python",
   "name": "python",
   "nbconvert_exporter": "python",
   "pygments_lexer": "ipython3",
   "version": "3.10.8"
  }
 },
 "nbformat": 4,
 "nbformat_minor": 5
}

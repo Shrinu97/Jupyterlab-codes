{
 "cells": [
  {
   "cell_type": "markdown",
   "id": "dc4e2eaf-812f-4cec-be8e-6b19c7558696",
   "metadata": {},
   "source": [
    "Q1.Explain with an example each when to use a for loop and a while loop."
   ]
  },
  {
   "cell_type": "markdown",
   "id": "469f3412-4d28-42fb-b8b8-af3ebcb95294",
   "metadata": {},
   "source": [
    "ans:- The for loop iterates through a collection or iterable object or generator function. The while statement simply loops until a condition is False. Examples are as follow:"
   ]
  },
  {
   "cell_type": "code",
   "execution_count": 17,
   "id": "71014a5a-d8da-4862-a692-50669e2b3bc8",
   "metadata": {},
   "outputs": [],
   "source": [
    "l=[1,\"shrinu\", 234.56,[2,5,6]]"
   ]
  },
  {
   "cell_type": "code",
   "execution_count": 18,
   "id": "976af6c2-cbca-4db7-911f-8182d741fc96",
   "metadata": {},
   "outputs": [
    {
     "name": "stdout",
     "output_type": "stream",
     "text": [
      "1\n",
      "shrinu\n",
      "234.56\n",
      "[2, 5, 6]\n"
     ]
    }
   ],
   "source": [
    "for i in l:\n",
    "    print(i)"
   ]
  },
  {
   "cell_type": "code",
   "execution_count": 15,
   "id": "1e57d9c9-ce8f-4e35-92d8-5276ca1bbe87",
   "metadata": {},
   "outputs": [
    {
     "name": "stdin",
     "output_type": "stream",
     "text": [
      "enter the number for its table 3\n"
     ]
    },
    {
     "name": "stdout",
     "output_type": "stream",
     "text": [
      "3 * 1 = 3\n",
      "3 * 2 = 6\n",
      "3 * 3 = 9\n",
      "3 * 4 = 12\n",
      "3 * 5 = 15\n",
      "3 * 6 = 18\n",
      "3 * 7 = 21\n",
      "3 * 8 = 24\n",
      "3 * 9 = 27\n",
      "3 * 10 = 30\n"
     ]
    }
   ],
   "source": [
    "number=int(input(\"enter the number for its table\"))\n",
    "multiple=1\n",
    "while multiple<=10:\n",
    "    result= number*multiple\n",
    "    print(number,\"*\",multiple,\"=\",result)\n",
    "    multiple=multiple+1\n",
    "    "
   ]
  },
  {
   "cell_type": "markdown",
   "id": "3b863c43-9cad-4b48-8262-d2e53f43cd91",
   "metadata": {},
   "source": [
    "Q2. Write a python program to print the sum and product of the first 10 natural numbers using for and while loop."
   ]
  },
  {
   "cell_type": "code",
   "execution_count": 19,
   "id": "0b3976b0-5f59-49c7-ac7f-27809e4c78da",
   "metadata": {},
   "outputs": [
    {
     "name": "stdout",
     "output_type": "stream",
     "text": [
      "55\n"
     ]
    }
   ],
   "source": [
    "n=1\n",
    "counter=0\n",
    "while n<=10:\n",
    "    counter=counter+n\n",
    "    n=n+1\n",
    "print(counter)\n"
   ]
  },
  {
   "cell_type": "code",
   "execution_count": 13,
   "id": "24c6a663-ca91-4df7-86a3-a372495b30ae",
   "metadata": {},
   "outputs": [
    {
     "name": "stdout",
     "output_type": "stream",
     "text": [
      "3628800\n"
     ]
    }
   ],
   "source": [
    "n=1\n",
    "counter=1\n",
    "while n<=10:\n",
    "    counter=counter*n\n",
    "    n=n+1\n",
    "print(counter)\n"
   ]
  },
  {
   "cell_type": "code",
   "execution_count": 12,
   "id": "6a7989a4-e4d3-41bf-97d7-12cfec8e23a7",
   "metadata": {},
   "outputs": [
    {
     "name": "stdout",
     "output_type": "stream",
     "text": [
      "55\n"
     ]
    }
   ],
   "source": [
    "counter=0\n",
    "for i in range(11):\n",
    "    counter=counter+i\n",
    "print(counter)\n",
    "    "
   ]
  },
  {
   "cell_type": "code",
   "execution_count": 11,
   "id": "5d4c7c75-d771-4318-93ed-ec1272b3c798",
   "metadata": {},
   "outputs": [
    {
     "name": "stdout",
     "output_type": "stream",
     "text": [
      "3628800\n"
     ]
    }
   ],
   "source": [
    "counter=1\n",
    "for i in range(1,11):\n",
    "    counter=counter*i\n",
    "print(counter)\n",
    "    "
   ]
  },
  {
   "cell_type": "markdown",
   "id": "cbeb67b4-f8f0-4a20-a217-8b123299381d",
   "metadata": {},
   "source": [
    "Q3. Create a python program to compute the electricity bill for a household. The per-unit charges in rupees are as follows: For the first 100 units, the user will be charged Rs. 4.5 per unit, for the next 100 units, the user will be charged Rs. 6 per unit, and for the next 100 units, the user will be charged Rs. 10 per unit, After 300 units and above the user will be charged Rs. 20 per unit."
   ]
  },
  {
   "cell_type": "code",
   "execution_count": 10,
   "id": "c1955da8-cf04-49d2-b009-ab3147a7b424",
   "metadata": {},
   "outputs": [
    {
     "name": "stdin",
     "output_type": "stream",
     "text": [
      "enter the units of electricity consumed in a month 300\n"
     ]
    },
    {
     "name": "stdout",
     "output_type": "stream",
     "text": [
      "Final bill = Rs 2050.0\n"
     ]
    }
   ],
   "source": [
    "elec_unit=int(input(\"enter the units of electricity consumed in a month\"))\n",
    "if elec_unit<=100:\n",
    "    elec_bill=4.5*elec_unit\n",
    "elif elec_unit>100 and elec_unit<=200:\n",
    "    elec_bill=(4.5*100)+((elec_unit-100)*6)\n",
    "elif elec_unit>200 and elec_unit<=300:\n",
    "    elec_bill=(4.5*100)+(6*100)+((elec_unit-200)*10)\n",
    "elif elec_unit>300:\n",
    "    elec_bill=(4.5*100)+(6*100)+(100*10)+((elec_unit-300)*20)\n",
    "print(\"Final bill\",\"=\",\"Rs\",elec_bill)\n",
    "    \n"
   ]
  },
  {
   "cell_type": "markdown",
   "id": "ebf73d1d-338e-470d-80f6-a0ddac1a640a",
   "metadata": {},
   "source": [
    "Q4. Create a list of numbers from 1 to 100. Use for loop and while loop to calculate the cube of each number and if the cube of     that number is divisible by 4 or 5 then append that number in a list and print that list"
   ]
  },
  {
   "cell_type": "code",
   "execution_count": 7,
   "id": "148b13d4-b6a9-49f6-a344-ed172b518aaa",
   "metadata": {},
   "outputs": [],
   "source": [
    "l=list(range(1,101))"
   ]
  },
  {
   "cell_type": "code",
   "execution_count": 8,
   "id": "920708bf-1103-4d0e-b4cc-f3b0250f3370",
   "metadata": {},
   "outputs": [],
   "source": [
    "l1=[]\n",
    "for i in l:\n",
    "    cube=i*i*i\n",
    "    if cube%4==0 or cube%5==0:\n",
    "        l1.append(cube)"
   ]
  },
  {
   "cell_type": "code",
   "execution_count": 9,
   "id": "e8667695-6a0c-494b-9bd8-1e213a75cf03",
   "metadata": {
    "tags": []
   },
   "outputs": [
    {
     "data": {
      "text/plain": [
       "[8,\n",
       " 64,\n",
       " 125,\n",
       " 216,\n",
       " 512,\n",
       " 1000,\n",
       " 1728,\n",
       " 2744,\n",
       " 3375,\n",
       " 4096,\n",
       " 5832,\n",
       " 8000,\n",
       " 10648,\n",
       " 13824,\n",
       " 15625,\n",
       " 17576,\n",
       " 21952,\n",
       " 27000,\n",
       " 32768,\n",
       " 39304,\n",
       " 42875,\n",
       " 46656,\n",
       " 54872,\n",
       " 64000,\n",
       " 74088,\n",
       " 85184,\n",
       " 91125,\n",
       " 97336,\n",
       " 110592,\n",
       " 125000,\n",
       " 140608,\n",
       " 157464,\n",
       " 166375,\n",
       " 175616,\n",
       " 195112,\n",
       " 216000,\n",
       " 238328,\n",
       " 262144,\n",
       " 274625,\n",
       " 287496,\n",
       " 314432,\n",
       " 343000,\n",
       " 373248,\n",
       " 405224,\n",
       " 421875,\n",
       " 438976,\n",
       " 474552,\n",
       " 512000,\n",
       " 551368,\n",
       " 592704,\n",
       " 614125,\n",
       " 636056,\n",
       " 681472,\n",
       " 729000,\n",
       " 778688,\n",
       " 830584,\n",
       " 857375,\n",
       " 884736,\n",
       " 941192,\n",
       " 1000000]"
      ]
     },
     "execution_count": 9,
     "metadata": {},
     "output_type": "execute_result"
    }
   ],
   "source": [
    "l1"
   ]
  },
  {
   "cell_type": "code",
   "execution_count": 4,
   "id": "cc793eff-8ac7-43e6-a30e-a5bfabb3f5d2",
   "metadata": {},
   "outputs": [],
   "source": [
    "l1=[]\n",
    "l=1\n",
    "while l<=100:\n",
    "    cube=l*l*l\n",
    "    if cube%4==0 or cube%5==0:\n",
    "        l1.append(cube)\n",
    "    l=l+1"
   ]
  },
  {
   "cell_type": "code",
   "execution_count": 5,
   "id": "9d7d5280-5702-4151-8a15-25c022b342a3",
   "metadata": {
    "tags": []
   },
   "outputs": [
    {
     "data": {
      "text/plain": [
       "[8,\n",
       " 64,\n",
       " 125,\n",
       " 216,\n",
       " 512,\n",
       " 1000,\n",
       " 1728,\n",
       " 2744,\n",
       " 3375,\n",
       " 4096,\n",
       " 5832,\n",
       " 8000,\n",
       " 10648,\n",
       " 13824,\n",
       " 15625,\n",
       " 17576,\n",
       " 21952,\n",
       " 27000,\n",
       " 32768,\n",
       " 39304,\n",
       " 42875,\n",
       " 46656,\n",
       " 54872,\n",
       " 64000,\n",
       " 74088,\n",
       " 85184,\n",
       " 91125,\n",
       " 97336,\n",
       " 110592,\n",
       " 125000,\n",
       " 140608,\n",
       " 157464,\n",
       " 166375,\n",
       " 175616,\n",
       " 195112,\n",
       " 216000,\n",
       " 238328,\n",
       " 262144,\n",
       " 274625,\n",
       " 287496,\n",
       " 314432,\n",
       " 343000,\n",
       " 373248,\n",
       " 405224,\n",
       " 421875,\n",
       " 438976,\n",
       " 474552,\n",
       " 512000,\n",
       " 551368,\n",
       " 592704,\n",
       " 614125,\n",
       " 636056,\n",
       " 681472,\n",
       " 729000,\n",
       " 778688,\n",
       " 830584,\n",
       " 857375,\n",
       " 884736,\n",
       " 941192,\n",
       " 1000000]"
      ]
     },
     "execution_count": 5,
     "metadata": {},
     "output_type": "execute_result"
    }
   ],
   "source": [
    "l1"
   ]
  },
  {
   "cell_type": "markdown",
   "id": "484a3c35-2eca-4e99-aa10-5cbd514531aa",
   "metadata": {},
   "source": [
    "Q5. Write a program to filter count vowels in the below-given string.\n",
    "    string = \"I want to become a data scientist\""
   ]
  },
  {
   "cell_type": "code",
   "execution_count": 3,
   "id": "5125e4ac-38b5-45d4-9ded-3d5fbd25648b",
   "metadata": {},
   "outputs": [
    {
     "name": "stdin",
     "output_type": "stream",
     "text": [
      "enter the string I want to become a data scientist\n"
     ]
    },
    {
     "name": "stdout",
     "output_type": "stream",
     "text": [
      "12\n"
     ]
    }
   ],
   "source": [
    "string_input=input(\"enter the string\")\n",
    "string=string_input.lower()\n",
    "count=0\n",
    "for i in range(len(string)):\n",
    "    if string[i]==\"a\" or string[i]==\"e\" or string[i]==\"o\" or string[i]==\"i\" or string[i]==\"u\":\n",
    "        count=count+1\n",
    "print(count)\n"
   ]
  },
  {
   "cell_type": "code",
   "execution_count": 2,
   "id": "17566a42-5ba6-4bd2-9bd5-11235fef04ac",
   "metadata": {},
   "outputs": [
    {
     "name": "stdin",
     "output_type": "stream",
     "text": [
      "enter the string I WANT TO BECOME A DATA SCIENTIST\n"
     ]
    },
    {
     "name": "stdout",
     "output_type": "stream",
     "text": [
      "a= 4 e= 3 i= 3 o= 2 u= 0\n"
     ]
    }
   ],
   "source": [
    "string_input=input(\"enter the string\")\n",
    "string=string_input.lower()\n",
    "count_a=0\n",
    "count_e=0\n",
    "count_i=0\n",
    "count_o=0\n",
    "count_u=0\n",
    "for i in range(len(string)):\n",
    "    if string[i]==\"a\":\n",
    "        count_a=count_a+1\n",
    "    elif string[i]==\"e\":\n",
    "        count_e=count_e+1\n",
    "    elif string[i]==\"i\":\n",
    "        count_i=count_i+1\n",
    "    elif string[i]==\"o\":\n",
    "        count_o=count_o+1\n",
    "    elif string[i]==\"u\":\n",
    "        count_u=count_u+1\n",
    "print(\"a=\",count_a,\"e=\",count_e,\"i=\",count_i,\"o=\",count_o,\"u=\",count_u)"
   ]
  }
 ],
 "metadata": {
  "kernelspec": {
   "display_name": "Python 3 (ipykernel)",
   "language": "python",
   "name": "python3"
  },
  "language_info": {
   "codemirror_mode": {
    "name": "ipython",
    "version": 3
   },
   "file_extension": ".py",
   "mimetype": "text/x-python",
   "name": "python",
   "nbconvert_exporter": "python",
   "pygments_lexer": "ipython3",
   "version": "3.10.8"
  }
 },
 "nbformat": 4,
 "nbformat_minor": 5
}

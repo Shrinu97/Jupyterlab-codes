{
 "cells": [
  {
   "cell_type": "markdown",
   "id": "46765769-b75e-4af5-9322-ba07eedb8977",
   "metadata": {},
   "source": [
    "Q1. Which keyword is used to create a function? Create a function to return a list of odd numbers in the \n",
    "    range of 1 to 25."
   ]
  },
  {
   "cell_type": "markdown",
   "id": "62dc3fe1-7101-46dd-9725-35cfc212be20",
   "metadata": {},
   "source": [
    "ans:-def keyword is used to create a function."
   ]
  },
  {
   "cell_type": "code",
   "execution_count": 4,
   "id": "05dadd36-c37f-4660-b753-efc0f9f1b8b7",
   "metadata": {},
   "outputs": [],
   "source": [
    "def odd_num(a):\n",
    "    l1=[]\n",
    "    for i in range(0,a+1): \n",
    "        if i%2!=0:\n",
    "            l1.append(i)\n",
    "    return l1"
   ]
  },
  {
   "cell_type": "code",
   "execution_count": 5,
   "id": "19f08af5-7394-4b7b-9fb1-6468a5cd6d89",
   "metadata": {},
   "outputs": [
    {
     "data": {
      "text/plain": [
       "[1, 3, 5, 7, 9, 11, 13, 15, 17, 19, 21, 23, 25]"
      ]
     },
     "execution_count": 5,
     "metadata": {},
     "output_type": "execute_result"
    }
   ],
   "source": [
    "odd_num(25)"
   ]
  },
  {
   "cell_type": "markdown",
   "id": "d4b8ce99-8f83-44ba-9412-419f2bff6fce",
   "metadata": {},
   "source": [
    "Q2. Why *args and **kwargs is used in some functions? Create a function each for *args and **kwargs \n",
    "    to demonstrate their use"
   ]
  },
  {
   "cell_type": "markdown",
   "id": "f6f83fc9-ecbf-478e-be4d-cb2580f743cf",
   "metadata": {},
   "source": [
    "ans:-when we are unsure about the number of arguments to pass in the functions, we use *args and **kwargs in some functions."
   ]
  },
  {
   "cell_type": "code",
   "execution_count": 6,
   "id": "3fd434e7-9e4e-427b-ae8c-ec0eeea4037c",
   "metadata": {},
   "outputs": [],
   "source": [
    "def test(*args):\n",
    "    l1=[]\n",
    "    l1.append(args)\n",
    "    return l1"
   ]
  },
  {
   "cell_type": "code",
   "execution_count": 7,
   "id": "77893350-8c83-4bef-ba6e-ebc122776a24",
   "metadata": {},
   "outputs": [
    {
     "data": {
      "text/plain": [
       "[(1, 2, 3, 4, 'shrinu', [1, 223, 4])]"
      ]
     },
     "execution_count": 7,
     "metadata": {},
     "output_type": "execute_result"
    }
   ],
   "source": [
    "test(1,2,3,4,\"shrinu\", [1,223,4])"
   ]
  },
  {
   "cell_type": "code",
   "execution_count": 8,
   "id": "2c881f17-f833-470d-b213-8764b0711260",
   "metadata": {},
   "outputs": [],
   "source": [
    "def fruit_price(**kwargs):\n",
    "    total=0\n",
    "    for n in kwargs.values():\n",
    "        total=total+n\n",
    "    return total\n",
    "    "
   ]
  },
  {
   "cell_type": "code",
   "execution_count": 9,
   "id": "802ffd69-dce9-461a-878c-7e718bfa28e2",
   "metadata": {},
   "outputs": [
    {
     "data": {
      "text/plain": [
       "75"
      ]
     },
     "execution_count": 9,
     "metadata": {},
     "output_type": "execute_result"
    }
   ],
   "source": [
    "fruit_price(apple=25,banana=30,guava=20)"
   ]
  },
  {
   "cell_type": "markdown",
   "id": "67ec64db-bdcf-44c7-8ba7-ae016f4dc50c",
   "metadata": {},
   "source": [
    "Q3.  What is an iterator in python? Name the method used to initialise the iterator object and the method used for iteration. Use these methods to print the \n",
    "     first five elements of the given list \n",
    "     [2, 4, 6, 8, 10, 12, 14, 16, 18, 20]."
   ]
  },
  {
   "cell_type": "markdown",
   "id": "d14be578-09f1-4bc9-93a4-85c3a91d2b15",
   "metadata": {},
   "source": [
    "ans:-In Python, an iterator is an object that allows you to iterate over collections of data, such as lists, tuples, dictionaries,      and sets. \n",
    "The iterator consists of two methods:\n",
    "1. iter()\n",
    "2. next()\n",
    "\n",
    "Iter() method is used to initialize the iterator object so that the instance of this object can be used for iterating.\n",
    "\n",
    "Syntax :- myiterator = iter()\n",
    "\n",
    "The next() method is used to iterate over the iterable objects. The next() method returns the next value in the iterable object.\n",
    "\n",
    "Syntax :- item = next(myiterator)\n"
   ]
  },
  {
   "cell_type": "code",
   "execution_count": 10,
   "id": "f7bf6327-03c2-4806-987d-5c2d8d70b44e",
   "metadata": {
    "tags": []
   },
   "outputs": [
    {
     "name": "stdout",
     "output_type": "stream",
     "text": [
      "2\n",
      "4\n",
      "6\n",
      "8\n",
      "10\n"
     ]
    }
   ],
   "source": [
    "iter_list=[2, 4, 6, 8, 10, 12, 14, 16, 18, 20]\n",
    "list_iterator=iter(iter_list)\n",
    "print(next(list_iterator))\n",
    "print(next(list_iterator))\n",
    "print(next(list_iterator))\n",
    "print(next(list_iterator))\n",
    "print(next(list_iterator))"
   ]
  },
  {
   "cell_type": "markdown",
   "id": "b22d99e2-ea7c-4011-bfec-88de0300ec6a",
   "metadata": {},
   "source": [
    "Q4.  What is a generator function in python? Why yield keyword is used? Give an example of a generator function."
   ]
  },
  {
   "cell_type": "markdown",
   "id": "1d537b1e-bc47-40e5-b2b2-a3683361808a",
   "metadata": {},
   "source": [
    "ans:-A generator-function is defined like a normal function, but whenever it needs to generate a value, it does so with the yield keyword rather than return.\n",
    "     If the body of a def contains yield, the function automatically becomes a generator function.\n",
    "ans:-The yield statement suspends a function’s execution and sends a value back to the caller, but retains enough state to enable the function to resume where it left      off. When the function resumes, it continues execution immediately after the last yield run. This allows its code to produce a series of values over time, rather      than computing them at once and sending them back like a list."
   ]
  },
  {
   "cell_type": "code",
   "execution_count": 11,
   "id": "847275ef-1c53-42de-8ed2-6b092f32c215",
   "metadata": {},
   "outputs": [],
   "source": [
    "def generator_fun():\n",
    "    yield 150\n",
    "    yield 250\n",
    "    yield 300"
   ]
  },
  {
   "cell_type": "code",
   "execution_count": 12,
   "id": "0b61c1e5-ee21-4eb0-b027-a172879b56b5",
   "metadata": {},
   "outputs": [
    {
     "name": "stdout",
     "output_type": "stream",
     "text": [
      "150\n",
      "250\n",
      "300\n"
     ]
    }
   ],
   "source": [
    "for i in generator_fun():\n",
    "    print(i)"
   ]
  },
  {
   "cell_type": "markdown",
   "id": "f310f24c-2563-4690-a93d-7640b4a2dcf3",
   "metadata": {},
   "source": [
    "Q5. Create a generator function for prime numbers less than 1000. Use the next() method to print the first 20 prime numbers"
   ]
  },
  {
   "cell_type": "code",
   "execution_count": 13,
   "id": "e24ee936-8bb6-4b82-822f-e58c56149a1e",
   "metadata": {},
   "outputs": [],
   "source": [
    "def prime_generator(l):\n",
    "    for i in range(l):\n",
    "        if i==2:\n",
    "            yield i\n",
    "        elif i>2:\n",
    "            set_num=set(range(2,i))\n",
    "            for num in set_num:\n",
    "                if i%num==0:\n",
    "                    break\n",
    "            else:\n",
    "                yield i     "
   ]
  },
  {
   "cell_type": "code",
   "execution_count": 14,
   "id": "faa3341b-b885-4f61-97cc-97d03c64b069",
   "metadata": {
    "tags": []
   },
   "outputs": [
    {
     "name": "stdout",
     "output_type": "stream",
     "text": [
      "2\n",
      "3\n",
      "5\n",
      "7\n",
      "11\n",
      "13\n",
      "17\n",
      "19\n",
      "23\n",
      "29\n",
      "31\n",
      "37\n",
      "41\n",
      "43\n",
      "47\n",
      "53\n",
      "59\n",
      "61\n",
      "67\n",
      "71\n",
      "73\n",
      "79\n",
      "83\n",
      "89\n",
      "97\n",
      "101\n",
      "103\n",
      "107\n",
      "109\n",
      "113\n",
      "127\n",
      "131\n",
      "137\n",
      "139\n",
      "149\n",
      "151\n",
      "157\n",
      "163\n",
      "167\n",
      "173\n",
      "179\n",
      "181\n",
      "191\n",
      "193\n",
      "197\n",
      "199\n",
      "211\n",
      "223\n",
      "227\n",
      "229\n",
      "233\n",
      "239\n",
      "241\n",
      "251\n",
      "257\n",
      "263\n",
      "269\n",
      "271\n",
      "277\n",
      "281\n",
      "283\n",
      "293\n",
      "307\n",
      "311\n",
      "313\n",
      "317\n",
      "331\n",
      "337\n",
      "347\n",
      "349\n",
      "353\n",
      "359\n",
      "367\n",
      "373\n",
      "379\n",
      "383\n",
      "389\n",
      "397\n",
      "401\n",
      "409\n",
      "419\n",
      "421\n",
      "431\n",
      "433\n",
      "439\n",
      "443\n",
      "449\n",
      "457\n",
      "461\n",
      "463\n",
      "467\n",
      "479\n",
      "487\n",
      "491\n",
      "499\n",
      "503\n",
      "509\n",
      "521\n",
      "523\n",
      "541\n",
      "547\n",
      "557\n",
      "563\n",
      "569\n",
      "571\n",
      "577\n",
      "587\n",
      "593\n",
      "599\n",
      "601\n",
      "607\n",
      "613\n",
      "617\n",
      "619\n",
      "631\n",
      "641\n",
      "643\n",
      "647\n",
      "653\n",
      "659\n",
      "661\n",
      "673\n",
      "677\n",
      "683\n",
      "691\n",
      "701\n",
      "709\n",
      "719\n",
      "727\n",
      "733\n",
      "739\n",
      "743\n",
      "751\n",
      "757\n",
      "761\n",
      "769\n",
      "773\n",
      "787\n",
      "797\n",
      "809\n",
      "811\n",
      "821\n",
      "823\n",
      "827\n",
      "829\n",
      "839\n",
      "853\n",
      "857\n",
      "859\n",
      "863\n",
      "877\n",
      "881\n",
      "883\n",
      "887\n",
      "907\n",
      "911\n",
      "919\n",
      "929\n",
      "937\n",
      "941\n",
      "947\n",
      "953\n",
      "967\n",
      "971\n",
      "977\n",
      "983\n",
      "991\n",
      "997\n"
     ]
    }
   ],
   "source": [
    "for a in prime_generator(1000):\n",
    "    print(a)"
   ]
  },
  {
   "cell_type": "code",
   "execution_count": 15,
   "id": "e37f377b-18d3-4f00-a485-e9646901c7a0",
   "metadata": {},
   "outputs": [
    {
     "name": "stdout",
     "output_type": "stream",
     "text": [
      "2\n",
      "3\n",
      "5\n",
      "7\n",
      "11\n",
      "13\n",
      "17\n",
      "19\n"
     ]
    }
   ],
   "source": [
    "l=list(prime_generator(20))\n",
    "list_iterator=iter(l)\n",
    "print(next(list_iterator))\n",
    "print(next(list_iterator))\n",
    "print(next(list_iterator))\n",
    "print(next(list_iterator))\n",
    "print(next(list_iterator))\n",
    "print(next(list_iterator))\n",
    "print(next(list_iterator))\n",
    "print(next(list_iterator))"
   ]
  },
  {
   "cell_type": "markdown",
   "id": "2ac80b7a-05f0-4e2e-8165-19f34fd494ef",
   "metadata": {},
   "source": [
    "Q6. Write a python program to print the first 10 Fibonacci numbers using a while loop."
   ]
  },
  {
   "cell_type": "code",
   "execution_count": 16,
   "id": "de6448de-1daf-466e-ad9f-a32f1c4c84ac",
   "metadata": {},
   "outputs": [
    {
     "name": "stdin",
     "output_type": "stream",
     "text": [
      "enter the limit for the fibonacci series 10\n"
     ]
    },
    {
     "name": "stdout",
     "output_type": "stream",
     "text": [
      "1\n",
      "2\n",
      "3\n",
      "5\n",
      "8\n",
      "13\n",
      "21\n",
      "34\n",
      "55\n",
      "89\n",
      "144\n"
     ]
    }
   ],
   "source": [
    "n=int(input(\"enter the limit for the fibonacci series\"))\n",
    "counter=0\n",
    "x=0\n",
    "y=1\n",
    "while counter<=n:\n",
    "    z=x+y\n",
    "    x=y\n",
    "    y=z\n",
    "    counter=counter+1\n",
    "    print(z)"
   ]
  },
  {
   "cell_type": "markdown",
   "id": "80263a08-4d51-4f27-bf3a-d8e9f0990f4b",
   "metadata": {},
   "source": [
    "Q7. Write a List Comprehension to iterate through the given string: ‘pwskills’.\n",
    "    Expected output: ['p', 'w', 's', 'k', 'i', 'l', 'l', 's']"
   ]
  },
  {
   "cell_type": "code",
   "execution_count": 3,
   "id": "506581e9-44e4-4e8b-ad3c-5ebd34f7ae32",
   "metadata": {},
   "outputs": [
    {
     "name": "stdout",
     "output_type": "stream",
     "text": [
      "['p', 'w', 's', 'k', 'i', 'l', 'l', 's']\n"
     ]
    }
   ],
   "source": [
    "l=\"pwskills\"\n",
    "l1=[i for i in l]\n",
    "print(l1)"
   ]
  },
  {
   "cell_type": "markdown",
   "id": "66c7dbdf-0520-4ba2-938a-f4068dc39ff7",
   "metadata": {},
   "source": [
    "Q8. Write a python program to check whether a given number is Palindrome or not using a while loop"
   ]
  },
  {
   "cell_type": "code",
   "execution_count": 1,
   "id": "c30a501d-860f-459a-8feb-91a40f3019cc",
   "metadata": {},
   "outputs": [
    {
     "name": "stdin",
     "output_type": "stream",
     "text": [
      "enter your number to check whether it is palindrome or not = 12321\n"
     ]
    },
    {
     "name": "stdout",
     "output_type": "stream",
     "text": [
      "Its a palindrome number\n"
     ]
    }
   ],
   "source": [
    "n=(input(\"enter your number to check whether it is palindrome or not =\"))\n",
    "length=len(n)\n",
    "reverse=\"\"\n",
    "while length>0:\n",
    "    reverse=reverse+n[length-1]\n",
    "    length=length-1\n",
    "if reverse==n:\n",
    "    print(\"Its a palindrome number\")\n",
    "else:\n",
    "    print(\"not a palindrome number\")"
   ]
  },
  {
   "cell_type": "markdown",
   "id": "47654dcd-a8dc-4929-82f7-ccf5aa830747",
   "metadata": {},
   "source": [
    "Q9. Write a code to print odd numbers from 1 to 100 using list comprehension.\n",
    "    Note: Use a list comprehension to create a list from 1 to 100 and use another List comprehension to filter \n",
    "    out odd numbers"
   ]
  },
  {
   "cell_type": "code",
   "execution_count": 4,
   "id": "53f7d200-9f9f-499e-8c5d-7ed94f546133",
   "metadata": {},
   "outputs": [
    {
     "name": "stdout",
     "output_type": "stream",
     "text": [
      "[0, 1, 2, 3, 4, 5, 6, 7, 8, 9, 10, 11, 12, 13, 14, 15, 16, 17, 18, 19, 20, 21, 22, 23, 24, 25, 26, 27, 28, 29, 30, 31, 32, 33, 34, 35, 36, 37, 38, 39, 40, 41, 42, 43, 44, 45, 46, 47, 48, 49, 50, 51, 52, 53, 54, 55, 56, 57, 58, 59, 60, 61, 62, 63, 64, 65, 66, 67, 68, 69, 70, 71, 72, 73, 74, 75, 76, 77, 78, 79, 80, 81, 82, 83, 84, 85, 86, 87, 88, 89, 90, 91, 92, 93, 94, 95, 96, 97, 98, 99, 100]\n"
     ]
    }
   ],
   "source": [
    "number=[i for i in range(101)]\n",
    "print(number)"
   ]
  },
  {
   "cell_type": "code",
   "execution_count": 7,
   "id": "983c55e7-769e-4d14-8aa3-d8078343e276",
   "metadata": {},
   "outputs": [
    {
     "name": "stdout",
     "output_type": "stream",
     "text": [
      "[1, 3, 5, 7, 9, 11, 13, 15, 17, 19, 21, 23, 25, 27, 29, 31, 33, 35, 37, 39, 41, 43, 45, 47, 49, 51, 53, 55, 57, 59, 61, 63, 65, 67, 69, 71, 73, 75, 77, 79, 81, 83, 85, 87, 89, 91, 93, 95, 97, 99]\n"
     ]
    }
   ],
   "source": [
    "odd_number=[a for a in number if a%2!=0]\n",
    "print(odd_number)"
   ]
  },
  {
   "cell_type": "code",
   "execution_count": null,
   "id": "32363ad2-6779-40ae-9948-ed6d1e17b91e",
   "metadata": {},
   "outputs": [],
   "source": []
  }
 ],
 "metadata": {
  "kernelspec": {
   "display_name": "Python 3 (ipykernel)",
   "language": "python",
   "name": "python3"
  },
  "language_info": {
   "codemirror_mode": {
    "name": "ipython",
    "version": 3
   },
   "file_extension": ".py",
   "mimetype": "text/x-python",
   "name": "python",
   "nbconvert_exporter": "python",
   "pygments_lexer": "ipython3",
   "version": "3.10.8"
  }
 },
 "nbformat": 4,
 "nbformat_minor": 5
}

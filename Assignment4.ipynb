{
 "cells": [
  {
   "cell_type": "raw",
   "id": "4f0e1853-628a-48ae-8fe8-b12f1609d402",
   "metadata": {},
   "source": [
    "Q1. Explain Class and Object with respect to Object-Oriented Programming. Give a suitable example."
   ]
  },
  {
   "cell_type": "raw",
   "id": "ae877fc2-5961-4730-825f-8a74abf741f8",
   "metadata": {},
   "source": [
    "ans:- \n",
    "### Class is a detailed description, the definition, and the template of what an object will be. But it is not the object itself. Also, what we call, a class is the building block that leads to Object-Oriented Programming. It is a user-defined data type, that holds its own data members and member functions, which can be accessed and used by creating an instance of that class. It is the blueprint of any object. Once we have written a class and defined it, we can use it to create as many objects based on that class as we want.\n",
    "    For example, consider the Class of Accounts. There may be many accounts with different names and types,  but all of them will share some common properties, as all of them will have some common attributes like balance, account holder name, etc. So here, the Account is the class.\n",
    "### Object is an instance of a class. All data members and member functions of the class can be accessed with the help of objects. When a class is defined, no memory is allocated, but memory is allocated when it is instantiated (i.e. an object is created).\n",
    "    For Example, considering the objects for the class Account are SBI Account, ICICI account, etc."
   ]
  },
  {
   "cell_type": "raw",
   "id": "024f9df8-70c2-4ca8-863b-2405f45dad62",
   "metadata": {},
   "source": [
    "Q2. Name the four pillars of OOPs."
   ]
  },
  {
   "cell_type": "raw",
   "id": "a4666378-c6aa-4c04-8916-e5542e2ad0b3",
   "metadata": {},
   "source": [
    "1. Abstraction:Data abstraction refers to providing only necessary information about the data to the outside world, hiding the background info or implementation.\n",
    "2. Encapsulation: In object-oriented programming, Encapsulation is defined as binding together the data and the functions that manipulate them.\n",
    "3. Inheritance:Inheritance is the process in which two classes have a relationship with each other, and objects of one class acquire properties and features of the \n",
    "other class. The class which inherits the features is known as the child class, and the class whose features it inherited is called the parent class.\n",
    "4. Polymorphism:In programming, polymorphism means the same function name is used for different types."
   ]
  },
  {
   "cell_type": "raw",
   "id": "dc8c74f0-1f9f-4795-af18-5a586f528368",
   "metadata": {},
   "source": [
    "Q3. Explain why the __init__() function is used. Give a suitable example."
   ]
  },
  {
   "cell_type": "raw",
   "id": "dd800488-c922-429a-9f4c-88f64ea730f2",
   "metadata": {},
   "source": [
    "ans:-\n",
    "__init__() function is an default constructor.Constructors are used for initialising the object's state. The task of __init__() function is to initialise(assign values) to thr data members of the class when an object of the class is created.\n",
    "  for example:\n",
    "   "
   ]
  },
  {
   "cell_type": "code",
   "execution_count": 1,
   "id": "2b25bf39-f413-4686-a4e5-ed1dbd10a2ea",
   "metadata": {},
   "outputs": [
    {
     "name": "stdout",
     "output_type": "stream",
     "text": [
      "Hello, my name is Nikhil\n"
     ]
    }
   ],
   "source": [
    "class Person:\n",
    " \n",
    "    def __init__(self, name):\n",
    "        self.name = name\n",
    " \n",
    "    def say_hi(self):\n",
    "        print('Hello, my name is', self.name)\n",
    " \n",
    " \n",
    "p = Person('Nikhil')\n",
    "p.say_hi()"
   ]
  },
  {
   "cell_type": "raw",
   "id": "2f97537d-51b9-4cfc-b447-85deffaed65b",
   "metadata": {},
   "source": [
    "Q4. Why self is used in OOPs?"
   ]
  },
  {
   "cell_type": "raw",
   "id": "e285cad3-bd4c-413b-b0ab-34808dd5b56c",
   "metadata": {},
   "source": [
    "ans:-\n",
    "The self variable is used to represent the instance of the class which is often used in object-oriented programming. It works as a reference to the object. Python uses the self parameter to refer to instance attributes and methods of the class."
   ]
  },
  {
   "cell_type": "raw",
   "id": "65745bd7-9d39-4d54-9c50-f658b64120f0",
   "metadata": {},
   "source": [
    "Q5. What is inheritance? Give an example for each type of inheritance."
   ]
  },
  {
   "cell_type": "raw",
   "id": "9d060053-7dac-4a74-a485-0a1b4a760a8b",
   "metadata": {},
   "source": [
    "ans:-\n",
    "Inheritance is defined as the mechanism of inheriting the properties of the base class to the child class.\n",
    "Types of Inheritance depend upon the number of child and parent classes involved. There are four types of inheritance in Python:"
   ]
  },
  {
   "cell_type": "raw",
   "id": "555d63eb-ff67-4e6e-9957-fa657a2319f7",
   "metadata": {},
   "source": [
    "Single Inheritance: \n",
    "Single inheritance enables a derived class to inherit properties from a single parent class, thus enabling code reusability and the addition of new features to existing code."
   ]
  },
  {
   "cell_type": "code",
   "execution_count": 3,
   "id": "c49905c6-4681-468a-a8ad-0e8b177ceb81",
   "metadata": {},
   "outputs": [],
   "source": [
    "class Parent:\n",
    "    def func1(self):\n",
    "        print(\"This function is in parent class.\")\n",
    " \n",
    " \n",
    "class Child(Parent):\n",
    "    def func2(self):\n",
    "        print(\"This function is in child class.\")\n",
    " "
   ]
  },
  {
   "cell_type": "code",
   "execution_count": 4,
   "id": "714f9058-b8c2-45d0-8095-f79f5cdee071",
   "metadata": {},
   "outputs": [
    {
     "name": "stdout",
     "output_type": "stream",
     "text": [
      "This function is in parent class.\n",
      "This function is in child class.\n"
     ]
    }
   ],
   "source": [
    "object = Child()\n",
    "object.func1()\n",
    "object.func2()"
   ]
  },
  {
   "cell_type": "raw",
   "id": "af90e39a-6223-435d-8ba6-1395536fa7ed",
   "metadata": {},
   "source": [
    "Multiple Inheritance: \n",
    "When a class can be derived from more than one base class this type of inheritance is called multiple inheritances. In multiple inheritances, all the features of the base classes are inherited into the derived class. "
   ]
  },
  {
   "cell_type": "code",
   "execution_count": 5,
   "id": "6a3d9ff5-fa99-4af4-8f6c-fc7aeac07350",
   "metadata": {},
   "outputs": [],
   "source": [
    "class Mother:\n",
    "    mothername = \"\"\n",
    " \n",
    "    def mother(self):\n",
    "        print(self.mothername)\n",
    " \n",
    " \n",
    "class Father:\n",
    "    fathername = \"\"\n",
    " \n",
    "    def father(self):\n",
    "        print(self.fathername)\n",
    "        \n",
    "class Son(Mother, Father):\n",
    "    def parents(self):\n",
    "        print(\"Father :\", self.fathername)\n",
    "        print(\"Mother :\", self.mothername)\n",
    "    \n",
    " "
   ]
  },
  {
   "cell_type": "code",
   "execution_count": 6,
   "id": "5a3eaf1c-7ab9-4c04-aed3-5f77601c6382",
   "metadata": {},
   "outputs": [
    {
     "name": "stdout",
     "output_type": "stream",
     "text": [
      "Father : RAM\n",
      "Mother : SITA\n"
     ]
    }
   ],
   "source": [
    "s1 = Son()\n",
    "s1.fathername = \"RAM\"\n",
    "s1.mothername = \"SITA\"\n",
    "s1.parents()"
   ]
  },
  {
   "cell_type": "raw",
   "id": "e02a1fa7-dc4a-4bc1-9aa0-63816d85ef4b",
   "metadata": {},
   "source": [
    "Multilevel Inheritance :\n",
    "In multilevel inheritance, features of the base class and the derived class are further inherited into the new derived class. This is similar to a relationship representing a child and a grandfather. "
   ]
  },
  {
   "cell_type": "code",
   "execution_count": 7,
   "id": "925baa4f-9faf-4944-a8b6-1ecf1eb83b94",
   "metadata": {},
   "outputs": [],
   "source": [
    "class Grandfather:\n",
    " \n",
    "    def __init__(self, grandfathername):\n",
    "        self.grandfathername = grandfathername\n",
    " \n",
    " \n",
    "class Father(Grandfather):\n",
    "    def __init__(self, fathername, grandfathername):\n",
    "        self.fathername = fathername\n",
    "        \n",
    "        Grandfather.__init__(self, grandfathername)\n",
    " \n",
    " \n",
    "class Son(Father):\n",
    "    def __init__(self, sonname, fathername, grandfathername):\n",
    "        self.sonname = sonname\n",
    " \n",
    "        Father.__init__(self, fathername, grandfathername)\n",
    " \n",
    "    def print_name(self):\n",
    "        print('Grandfather name :', self.grandfathername)\n",
    "        print(\"Father name :\", self.fathername)\n",
    "        print(\"Son name :\", self.sonname)"
   ]
  },
  {
   "cell_type": "code",
   "execution_count": 8,
   "id": "0a51cd54-0eeb-4732-8fe3-8ea11351c561",
   "metadata": {},
   "outputs": [
    {
     "name": "stdout",
     "output_type": "stream",
     "text": [
      "Lal mani\n",
      "Grandfather name : Lal mani\n",
      "Father name : Rampal\n",
      "Son name : Prince\n"
     ]
    }
   ],
   "source": [
    "s1 = Son('Prince', 'Rampal', 'Lal mani')\n",
    "print(s1.grandfathername)\n",
    "s1.print_name()"
   ]
  },
  {
   "cell_type": "raw",
   "id": "a962726e-d313-45f4-9b69-0ef87c781c0e",
   "metadata": {},
   "source": [
    "Hierarchical Inheritance: \n",
    "When more than one derived class are created from a single base this type of inheritance is called hierarchical inheritance. In this program, we have a parent (base) class and two child (derived) classes."
   ]
  },
  {
   "cell_type": "code",
   "execution_count": 9,
   "id": "1160eb99-a04f-4f9e-8e0a-5efc729a9507",
   "metadata": {},
   "outputs": [],
   "source": [
    "class Parent:\n",
    "    def func1(self):\n",
    "        print(\"This function is in parent class.\")\n",
    "class Child1(Parent):\n",
    "    def func2(self):\n",
    "        print(\"This function is in child 1.\") \n",
    "class Child2(Parent):\n",
    "    def func3(self):\n",
    "        print(\"This function is in child 2.\")\n",
    " "
   ]
  },
  {
   "cell_type": "code",
   "execution_count": 10,
   "id": "7fc154df-2402-48e8-a530-a93c7d76c936",
   "metadata": {},
   "outputs": [
    {
     "name": "stdout",
     "output_type": "stream",
     "text": [
      "This function is in parent class.\n",
      "This function is in child 1.\n",
      "This function is in parent class.\n",
      "This function is in child 2.\n"
     ]
    }
   ],
   "source": [
    "object1 = Child1()\n",
    "object2 = Child2()\n",
    "object1.func1()\n",
    "object1.func2()\n",
    "object2.func1()\n",
    "object2.func3()"
   ]
  },
  {
   "cell_type": "code",
   "execution_count": null,
   "id": "e440b1dd-ec96-408e-9677-5ef0879a3be1",
   "metadata": {},
   "outputs": [],
   "source": []
  }
 ],
 "metadata": {
  "kernelspec": {
   "display_name": "Python 3 (ipykernel)",
   "language": "python",
   "name": "python3"
  },
  "language_info": {
   "codemirror_mode": {
    "name": "ipython",
    "version": 3
   },
   "file_extension": ".py",
   "mimetype": "text/x-python",
   "name": "python",
   "nbconvert_exporter": "python",
   "pygments_lexer": "ipython3",
   "version": "3.10.8"
  }
 },
 "nbformat": 4,
 "nbformat_minor": 5
}

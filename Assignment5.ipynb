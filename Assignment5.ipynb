{
 "cells": [
  {
   "cell_type": "markdown",
   "id": "08e1a693-20b3-4d18-93bc-5577dae5686b",
   "metadata": {},
   "source": [
    "Q1. Who developed Python programming language?"
   ]
  },
  {
   "cell_type": "markdown",
   "id": "fb993055-3d9a-4699-828d-b108db743bbd",
   "metadata": {},
   "source": [
    "ans:- A Dutch programmer, Guido Von Rossum developed Python programming language."
   ]
  },
  {
   "cell_type": "markdown",
   "id": "490ee8b7-c314-4c17-a201-9a2f2eef653f",
   "metadata": {},
   "source": [
    "Q2. Which type of Programming does python support?"
   ]
  },
  {
   "cell_type": "markdown",
   "id": "fd893eca-6732-47e5-a94a-3cad82fc2155",
   "metadata": {},
   "source": [
    "ans:- Python is an interpreted programming language, supporting object-oriented, structured, and functional programming."
   ]
  },
  {
   "cell_type": "markdown",
   "id": "47cc24c6-1a0f-42ce-b855-a5f32f3d1b5f",
   "metadata": {},
   "source": [
    "Q3. Is python case sensitive when dealing with identifiers?"
   ]
  },
  {
   "cell_type": "markdown",
   "id": "ef16be80-37d7-47ae-b506-9e77a2dbd22f",
   "metadata": {},
   "source": [
    "ans:- Yes, Python is a case−sensitive programming language. This means that it considers uppercase and lowercase letters differently."
   ]
  },
  {
   "cell_type": "markdown",
   "id": "328687f3-d316-4665-a208-d54c70d769af",
   "metadata": {},
   "source": [
    "Q4. What is the correct extension of the python file?"
   ]
  },
  {
   "cell_type": "markdown",
   "id": "e93c0e07-484f-4d8a-90d4-d21fc9f0c796",
   "metadata": {},
   "source": [
    "ans:- .py is the correct extension of the pyhton file."
   ]
  },
  {
   "cell_type": "markdown",
   "id": "b40e11a7-8714-42ef-afe6-ae826782f218",
   "metadata": {},
   "source": [
    "Q5. Is python code compiled or interpreted?"
   ]
  },
  {
   "cell_type": "markdown",
   "id": "da78d652-40f6-4fbe-b893-67024e8fea58",
   "metadata": {},
   "source": [
    "ans:- Python is an interpreted language, which means the source code of a Python program is converted into bytecode that is then executed by the Python virtual machine. Python is different from major compiled languages, such as C and C + +, as Python code is not required to be built and linked like code for these languages."
   ]
  },
  {
   "cell_type": "markdown",
   "id": "45aa64fa-29d2-4709-807b-5117a964b457",
   "metadata": {},
   "source": [
    "Q6. Name a few blocks of code used to define in python language?"
   ]
  },
  {
   "cell_type": "markdown",
   "id": "77cdd8e5-be22-4efe-9a4e-355d275a8e67",
   "metadata": {},
   "source": [
    "ans:- Function definition, class definition , assignment expression and formal parameter to functions."
   ]
  },
  {
   "cell_type": "markdown",
   "id": "4f5e2670-39a3-4bad-a71b-e85df86aa3ef",
   "metadata": {},
   "source": [
    "Q7. State a character used to give a single-line comments in python?"
   ]
  },
  {
   "cell_type": "markdown",
   "id": "8c5826bf-d22b-447a-83d1-5bd07b2878a8",
   "metadata": {},
   "source": [
    "ans:- Comments in Python are identified with a hash symbol, #, and extend to the end of the line."
   ]
  },
  {
   "cell_type": "markdown",
   "id": "39295d03-b3cc-4e09-a2bc-5156bac0a621",
   "metadata": {},
   "source": [
    "Q8. Mention functions which can help us to find the version of python that we are currently working on?"
   ]
  },
  {
   "cell_type": "markdown",
   "id": "1d449020-7e58-4a6f-99f0-66365bc64f21",
   "metadata": {},
   "source": [
    "ans:- The function sys. version can help us to find the version of python that we are currently working on. It also contains information on the build number and compiler used."
   ]
  },
  {
   "cell_type": "markdown",
   "id": "918066f0-931b-411f-9985-783b12e46784",
   "metadata": {},
   "source": [
    "Q9. Python supports the creation of anonymous functions at runtime, using a construct called _ _ _ _ _ _ _ _ "
   ]
  },
  {
   "cell_type": "markdown",
   "id": "240d604a-f915-4758-b361-570af11e3982",
   "metadata": {},
   "source": [
    "ans:- lambda"
   ]
  },
  {
   "cell_type": "markdown",
   "id": "55576f53-6eb6-49f7-9135-09730cad415d",
   "metadata": {},
   "source": [
    "Q10. What does pip stand for python?"
   ]
  },
  {
   "cell_type": "markdown",
   "id": "9c1d4560-b43f-470a-9936-7c4832be6f2e",
   "metadata": {},
   "source": [
    "ans:- Pip Installs Packages"
   ]
  },
  {
   "cell_type": "markdown",
   "id": "749a576e-19c1-46bc-a5a4-61b73f77908f",
   "metadata": {},
   "source": [
    "Q11. Mention a few built-in functions in python?"
   ]
  },
  {
   "cell_type": "markdown",
   "id": "1fc92895-8b8b-446d-a023-33c42feb1e63",
   "metadata": {},
   "source": [
    "ans:- range(), len(), type(), list(), dict(), tuple(), set()"
   ]
  },
  {
   "cell_type": "markdown",
   "id": "8094f683-1602-41a7-83f7-b5040e0be766",
   "metadata": {},
   "source": [
    "Q12. What is the maximum possible length of an identifier in Python?"
   ]
  },
  {
   "cell_type": "markdown",
   "id": "41b006e4-b1ec-4f8c-8655-c56b46104fb7",
   "metadata": {},
   "source": [
    "ans:-  An identifier can have a maximum length of 79 characters in Python."
   ]
  },
  {
   "cell_type": "markdown",
   "id": "a74ecbba-b231-4f7c-b22b-ab7e8f99cec1",
   "metadata": {},
   "source": [
    "Q13. What are the benefits of using Python??"
   ]
  },
  {
   "cell_type": "markdown",
   "id": "5ae6df7b-ca66-4e94-a7a9-70b9fb5ce231",
   "metadata": {},
   "source": [
    "ans:- Extensive support libraries(NumPy for numerical calculations, Pandas for data analytics, etc.), Open source and large active community base, Versatile, Easy to read, learn and write, User-friendly data structures, High-level language"
   ]
  },
  {
   "cell_type": "markdown",
   "id": "9f18178c-0005-49b9-9021-a1529ba664ac",
   "metadata": {},
   "source": [
    "Q14. How is memory managed in Python?"
   ]
  },
  {
   "cell_type": "markdown",
   "id": "d39bcb18-068f-41f0-8e8b-1c4f150b4d16",
   "metadata": {},
   "source": [
    "ans:- Memory management in Python involves a private heap containing all Python objects and data structures. The management of this private heap is ensured internally by the Python memory manager. The Python memory manager has different components which deal with various dynamic storage management aspects, like sharing, segmentation, preallocation or caching."
   ]
  },
  {
   "cell_type": "markdown",
   "id": "147cd32e-4dbb-423d-91fb-d2c83fca060b",
   "metadata": {},
   "source": [
    "Q15. How to install Python on Windows and set path variables?"
   ]
  },
  {
   "cell_type": "markdown",
   "id": "1d3bc534-df55-40ca-8c64-d7a575693e66",
   "metadata": {},
   "source": [
    "ans:- Go on Python.org at the section where you can download the windows executables:\n",
    "\n",
    "https://www.python.org/downloads/windows/\n",
    "\n",
    "Go down in the page and download the following executable (if your computer is 64 bits):\n",
    "\n",
    "Windows x86-64 executable installer\n",
    "\n",
    "Double click on the executable and install it\n",
    "\n",
    "By default, it installs in the path:\n",
    "\n",
    "C:\\Users\\cypri\\AppData\\Local\\Programs\\Python\n",
    "\n",
    "Move is to C:/\n",
    "\n",
    "Change the name of the executable to python3.exe for convenience\n",
    "\n",
    "Let’s now edit the environment variables to add this new python 3 to the path\n",
    "\n",
    "Add the 2 new variables as follow\n",
    "\n",
    "C:\\Python38\\\n",
    "C:\\Python38\\Scripts\n",
    "then click on OK\n",
    "\n"
   ]
  },
  {
   "cell_type": "markdown",
   "id": "a64976db-e290-4735-9604-0ed0b6df2ae4",
   "metadata": {},
   "source": [
    "Q16. Is identatiom requires in python?"
   ]
  },
  {
   "cell_type": "markdown",
   "id": "56b5ebc2-d3ff-4226-82ee-b6c804ddfe22",
   "metadata": {},
   "source": [
    "ans:- Indentation is an important concept in the Python programming language that is used to group statements that belong to the same block of code."
   ]
  },
  {
   "cell_type": "code",
   "execution_count": null,
   "id": "00f67345-ae92-4b2b-a360-7125624ef844",
   "metadata": {},
   "outputs": [],
   "source": []
  }
 ],
 "metadata": {
  "kernelspec": {
   "display_name": "Python 3 (ipykernel)",
   "language": "python",
   "name": "python3"
  },
  "language_info": {
   "codemirror_mode": {
    "name": "ipython",
    "version": 3
   },
   "file_extension": ".py",
   "mimetype": "text/x-python",
   "name": "python",
   "nbconvert_exporter": "python",
   "pygments_lexer": "ipython3",
   "version": "3.10.8"
  }
 },
 "nbformat": 4,
 "nbformat_minor": 5
}

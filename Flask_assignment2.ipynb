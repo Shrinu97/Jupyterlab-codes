{
 "cells": [
  {
   "cell_type": "markdown",
   "id": "edb42258-901a-4b5a-b935-009badd0a27d",
   "metadata": {},
   "source": [
    "Q1. Explain GET and POST methods."
   ]
  },
  {
   "cell_type": "markdown",
   "id": "963dbcd7-89d4-4d43-844e-234a71eb2c58",
   "metadata": {},
   "source": [
    "ans:\n",
    "\n",
    "GET is used to request data from a specified resource. It can retrieve any visible data to a client, such as HTML documents, images, and videos: To send a GET request, a client needs to specify the URL of the resource it wants to retrieve.\n",
    "\n",
    "POST is a request method supported by HTTP used by the World Wide Web. By design, the POST request method requests that a web server accept the data enclosed in the body of the request message, most likely for storing it. It is often used when uploading a file or when submitting a completed web form.\n",
    " "
   ]
  },
  {
   "cell_type": "markdown",
   "id": "2169b00d-6f9c-4426-a83f-3be4cc03c467",
   "metadata": {},
   "source": [
    "Q2. Why is request used in Flask?"
   ]
  },
  {
   "cell_type": "markdown",
   "id": "1f0dfb01-8b73-4dd4-8945-02530c8e7e15",
   "metadata": {},
   "source": [
    "ans:\n",
    "\n",
    "The Request, in Flask, is an object that contains all the data sent from the Client to Server. This data can be recovered using the GET/POST Methods."
   ]
  },
  {
   "cell_type": "markdown",
   "id": "c43a5da0-977c-47b1-8a09-0fbd2878525b",
   "metadata": {},
   "source": [
    "Q3. Why is redirect() used in Flask?"
   ]
  },
  {
   "cell_type": "markdown",
   "id": "33faea43-580c-467d-9b63-21dc9d14cd9c",
   "metadata": {},
   "source": [
    "ans:\n",
    "\n",
    "A redirect is used in the Flask class to send the user to a particular URL with the status code. conversely, this status code additionally identifies the issue.\n"
   ]
  },
  {
   "cell_type": "markdown",
   "id": "c77ceee0-0a0d-4209-8793-150b7c6fbc65",
   "metadata": {},
   "source": [
    "Q4. What are templates in Flask? Why is the render_template() function used?"
   ]
  },
  {
   "cell_type": "markdown",
   "id": "37821547-7ce7-4a30-a15e-942993508365",
   "metadata": {},
   "source": [
    "ans:\n",
    "\n",
    "Templates are files that contain static data as well as placeholders for dynamic data. A template is rendered with specific data to produce a final document.\n",
    "\n",
    "render_template is used to generate output from a template file based on the Jinja2 engine that is found in the application's templates folder. Note that render_template is typically imported directly from the flask package instead of from flask\n",
    "\n",
    "    "
   ]
  },
  {
   "cell_type": "markdown",
   "id": "cc0e592e-882c-4185-8780-38175f40fca8",
   "metadata": {},
   "source": [
    "Q5. Create a simple API. Use Postman to test it. Attach the screenshot of the output in the Jupyter Notebook."
   ]
  },
  {
   "cell_type": "code",
   "execution_count": null,
   "id": "1936cf12-52a7-4abc-8e5b-c9250e16c18e",
   "metadata": {},
   "outputs": [],
   "source": [
    "from PIL import Image\n",
    "img = Image.open('Hello_World.png')\n",
    "img"
   ]
  }
 ],
 "metadata": {
  "kernelspec": {
   "display_name": "Python 3 (ipykernel)",
   "language": "python",
   "name": "python3"
  },
  "language_info": {
   "codemirror_mode": {
    "name": "ipython",
    "version": 3
   },
   "file_extension": ".py",
   "mimetype": "text/x-python",
   "name": "python",
   "nbconvert_exporter": "python",
   "pygments_lexer": "ipython3",
   "version": "3.10.8"
  }
 },
 "nbformat": 4,
 "nbformat_minor": 5
}

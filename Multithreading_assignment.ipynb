{
 "cells": [
  {
   "cell_type": "markdown",
   "id": "d5ca7746-f548-475d-a453-49887c7aa15c",
   "metadata": {},
   "source": [
    "Q1. What is multithreading in python? Why it is used? Name the module used to handle threads in python."
   ]
  },
  {
   "cell_type": "markdown",
   "id": "c7abd2b1-268c-4f0d-9efd-8841d01b3f37",
   "metadata": {},
   "source": [
    "ans: Multithreading is defined as the ability of a processor to execute multiple threads concurrently. In a simple, single-core CPU, it is achieved using frequent switching between threads. This is termed context switching."
   ]
  },
  {
   "cell_type": "markdown",
   "id": "f4a66144-44a6-45ec-b490-0c267d416e8e",
   "metadata": {},
   "source": [
    "It is used because:\n",
    "\n",
    "Multithreading in Python allows the concurrent and parallel occurrence of various tasks. It causes a reduction in time consumption or response time, thereby increasing the performance.\n",
    "    "
   ]
  },
  {
   "cell_type": "markdown",
   "id": "e508838d-e33f-4398-8bcb-8c2f6027e1b9",
   "metadata": {},
   "source": [
    "Threading Modules. The threading module is a high-level implementation of multithreading used to deploy an application in Python. To use multithreading, we need to import the threading module in Python Program."
   ]
  },
  {
   "cell_type": "markdown",
   "id": "76f177c8-f92a-4e2e-bbf3-919d9f216a32",
   "metadata": {},
   "source": [
    "Q2. Why threading module used? Write the use of the following functions:\n",
    "\n",
    "*1. activecount()*\n",
    "\n",
    "*2. currentThread()*\n",
    "\n",
    "*3. enumerate()*"
   ]
  },
  {
   "cell_type": "markdown",
   "id": "dd23d508-95a4-47b8-9b6e-d36f108ac8fe",
   "metadata": {},
   "source": [
    "ans: To use multithreading, we need to import the threading module in Python Program."
   ]
  },
  {
   "cell_type": "markdown",
   "id": "ff65fa60-e768-45d6-af29-b7dffa2a8cf3",
   "metadata": {},
   "source": [
    "threading.activeCount() − Returns the number of thread objects that are active.\n",
    "\n",
    "threading.currentThread() − Returns the number of thread objects in the caller's thread control.\n",
    "\n",
    "threading.enumerate() − Returns a list of all thread objects that are currently active."
   ]
  },
  {
   "cell_type": "markdown",
   "id": "929a3362-1b3c-47a6-9e6f-45d995c62708",
   "metadata": {},
   "source": [
    "Q3. Explain the following functions:\n",
    "\n",
    "*1. run()*\n",
    "\n",
    "*1. start()*\n",
    "\n",
    "*1. join()*\n",
    "\n",
    "*1. isAlive()*\n"
   ]
  },
  {
   "cell_type": "markdown",
   "id": "67bbfd02-de37-4872-9c66-8bfa282b23c7",
   "metadata": {},
   "source": [
    "ans:\n",
    "\n",
    "run() − The run() method is the entry point for a thread. \n",
    "\n",
    "start() − The start() method starts a thread by calling the run method. \n",
    "\n",
    "join([time]) − The join() waits for threads to terminate. \n",
    "\n",
    "isAlive() − The isAlive() method checks whether a thread is still executing.\n",
    "    \n"
   ]
  },
  {
   "cell_type": "markdown",
   "id": "8607458b-9beb-455e-a473-02a478c50f18",
   "metadata": {},
   "source": [
    "Q4. Write a python program to create two threads. Thread one must print the list of squares and thread two must print the list of cubes."
   ]
  },
  {
   "cell_type": "code",
   "execution_count": 36,
   "id": "56b916a1-6144-4be6-8453-c72c4c1008ac",
   "metadata": {},
   "outputs": [],
   "source": [
    "import threading"
   ]
  },
  {
   "cell_type": "code",
   "execution_count": 37,
   "id": "56c2aa7e-b5a8-4add-9917-1eb0fd62f95f",
   "metadata": {},
   "outputs": [],
   "source": [
    "def square(l):\n",
    "    print(\"Square of number %d is %d\" %(l, l**2))"
   ]
  },
  {
   "cell_type": "code",
   "execution_count": 38,
   "id": "c394519e-bf88-481e-950a-6841a7dbd37e",
   "metadata": {},
   "outputs": [],
   "source": [
    "def cube(l):\n",
    "    print(\"Cube of number %d is %d\" %(l, l**3))"
   ]
  },
  {
   "cell_type": "code",
   "execution_count": 39,
   "id": "4f17720f-03b9-428d-9571-919157a59940",
   "metadata": {},
   "outputs": [],
   "source": [
    "thread1 = [threading.Thread( target=square, args=(i,)) for i in range(10)]"
   ]
  },
  {
   "cell_type": "code",
   "execution_count": 40,
   "id": "60e786fd-bac8-4079-bf83-9e5c4cd47c56",
   "metadata": {},
   "outputs": [],
   "source": [
    "thread2 = [threading.Thread( target=cube, args=(i,)) for i in range(10)]"
   ]
  },
  {
   "cell_type": "code",
   "execution_count": 41,
   "id": "87b65ce6-f4fa-422c-8bce-7ed9c006c7ac",
   "metadata": {},
   "outputs": [
    {
     "name": "stdout",
     "output_type": "stream",
     "text": [
      "Square of number 0 is 0\n",
      "Square of number 1 is 1\n",
      "Square of number 2 is 4\n",
      "Square of number 3 is 9\n",
      "Square of number 4 is 16\n",
      "Square of number 5 is 25\n",
      "Square of number 6 is 36\n",
      "Square of number 7 is 49\n",
      "Square of number 8 is 64\n",
      "Square of number 9 is 81\n"
     ]
    }
   ],
   "source": [
    "for t in thread1:\n",
    "    t.start()"
   ]
  },
  {
   "cell_type": "code",
   "execution_count": 42,
   "id": "e8c02035-1ce8-4561-9163-dfe4738d23ec",
   "metadata": {},
   "outputs": [
    {
     "name": "stdout",
     "output_type": "stream",
     "text": [
      "Cube of number 0 is 0\n",
      "Cube of number 1 is 1\n",
      "Cube of number 2 is 8\n",
      "Cube of number 3 is 27\n",
      "Cube of number 4 is 64\n",
      "Cube of number 5 is 125\n",
      "Cube of number 6 is 216\n",
      "Cube of number 7 is 343\n",
      "Cube of number 8 is 512\n",
      "Cube of number 9 is 729\n"
     ]
    }
   ],
   "source": [
    "for t in thread2:\n",
    "    t.start()"
   ]
  },
  {
   "cell_type": "markdown",
   "id": "9919df0f-640e-4059-a1d1-a2d615b8025a",
   "metadata": {},
   "source": [
    "Q5. State advantages and disadvantages of multithreading."
   ]
  },
  {
   "cell_type": "markdown",
   "id": "9cb30c8a-07c6-4089-bae2-17d02261d486",
   "metadata": {},
   "source": [
    "ans: \n",
    "\n",
    "Advantages: \n",
    "\n",
    "Improved performance: Multithreading can help increase the overall performance of an application, especially on systems with multiple processors or cores. It allows multiple tasks to run concurrently, utilizing the available CPU resources more efficiently.\n",
    "\n",
    "Responsiveness: In a single-threaded environment, if a long-running task blocks the main thread, the entire application becomes unresponsive. Multithreading can prevent this issue by running such tasks in separate threads, ensuring the application remains responsive.\n",
    "\n",
    "Better resource utilization: Multithreading allows better utilization of system resources by keeping the CPU busy while waiting for I/O operations or other tasks to complete.\n",
    "\n",
    "Simplified modeling: Some problems can be more naturally modeled using multiple threads. This makes the program easier to design, understand, and maintain.\n",
    "\n",
    "Parallelism: Multithreading enables parallelism, which can lead to significant performance improvements in applications that can be divided into smaller, independent tasks.\n",
    "    \n"
   ]
  },
  {
   "cell_type": "markdown",
   "id": "df362835-2f9c-4038-9a3d-a03d17abc067",
   "metadata": {},
   "source": [
    "Disadvantages:\n",
    "\n",
    "Complexity: Multithreading adds complexity to the program, making it more difficult to design, implement, and debug. Developers need to be aware of synchronization, deadlocks, race conditions, and other concurrency-related issues.\n",
    "\n",
    "Synchronization overhead: To avoid data corruption and maintain consistency, developers must synchronize access to shared resources, which can result in additional overhead and reduced performance.\n",
    "\n",
    "Context switching: Context switching between threads consumes CPU time and resources, which can lead to performance degradation if not managed efficiently.\n",
    "\n",
    "Hard to predict behavior: Due to the concurrent nature of multithreading, the behavior of the program can be hard to predict and reproduce, especially when it comes to debugging.\n",
    "\n",
    "Limited by hardware: The performance benefits of multithreading are limited by the number of available cores or processors in the system. In some cases, excessive use of threads can lead to performance degradation instead of improvement."
   ]
  },
  {
   "cell_type": "markdown",
   "id": "fc646657-c3c5-4797-bea6-683bb3ffc0dc",
   "metadata": {},
   "source": [
    "Q6. Explain deadlocks and race conditions."
   ]
  },
  {
   "cell_type": "markdown",
   "id": "a323f68f-559d-419f-89d2-a81b97244354",
   "metadata": {},
   "source": [
    "ans:\n",
    "\n",
    "A race condition occurs when two threads use the same variable at a given time. A race condition is a failure case where the behavior of the program is dependent upon the order of execution by two or more threads. This means that the behavior of the program will not be predictable, possibly changing each time it is run.\n",
    "\n",
    "Deadlock exists when two threads seek one lock simultaneously.Deadlocks can occur when two (or more) threads are blocking each other's progress — for example, thread_1 is waiting for the release of lock_2 held by thread_2 upon which it will release its lock — lock_1, but the same is true for thread_2 — it will release lock_2 only upon the release of lock_1 by thread_1."
   ]
  },
  {
   "cell_type": "code",
   "execution_count": null,
   "id": "9e53c751-c4a9-4f9f-91bf-1b8547b72d27",
   "metadata": {},
   "outputs": [],
   "source": []
  }
 ],
 "metadata": {
  "kernelspec": {
   "display_name": "Python 3 (ipykernel)",
   "language": "python",
   "name": "python3"
  },
  "language_info": {
   "codemirror_mode": {
    "name": "ipython",
    "version": 3
   },
   "file_extension": ".py",
   "mimetype": "text/x-python",
   "name": "python",
   "nbconvert_exporter": "python",
   "pygments_lexer": "ipython3",
   "version": "3.10.8"
  }
 },
 "nbformat": 4,
 "nbformat_minor": 5
}

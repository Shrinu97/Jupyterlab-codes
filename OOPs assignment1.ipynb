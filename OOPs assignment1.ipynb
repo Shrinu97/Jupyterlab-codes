{
 "cells": [
  {
   "cell_type": "markdown",
   "id": "654ce591-40eb-4f39-b5a2-23a4e17e4dad",
   "metadata": {},
   "source": [
    "Q1. What is Abstraction in OOps? Explain with an example."
   ]
  },
  {
   "cell_type": "markdown",
   "id": "faa0eb08-238f-40bc-bcd2-dfc42baa3eb7",
   "metadata": {},
   "source": [
    "ans:-\n",
    "Abstraction in python is defined as a process of handling complexity by hiding unnecessary information from the user. This is one of the core concepts of object-oriented programming (OOP) languages. That enables the user to implement even more complex logic on top of the provided abstraction without understanding or even thinking about all the hidden background/back-end complexity. EXample:"
   ]
  },
  {
   "cell_type": "code",
   "execution_count": 6,
   "id": "0fd385cf-a9c6-452e-bd39-b998c23ba5c0",
   "metadata": {},
   "outputs": [],
   "source": [
    "import abc\n",
    "class measurement:\n",
    "    \n",
    "    @abc.abstractmethod\n",
    "    def area(self):\n",
    "        pass\n",
    "    \n",
    "    @abc.abstractmethod\n",
    "    def perimeter(self):\n",
    "        pass"
   ]
  },
  {
   "cell_type": "code",
   "execution_count": 7,
   "id": "79500137-bcd3-4fce-a38e-c91a7f448de6",
   "metadata": {},
   "outputs": [],
   "source": [
    "class square(measurement):\n",
    "    \n",
    "    def area(self,x):\n",
    "        return x**2\n",
    "    \n",
    "    def perimeter(self,y):\n",
    "        return y*4"
   ]
  },
  {
   "cell_type": "code",
   "execution_count": 8,
   "id": "68ab48d8-613e-4751-a61a-f013d5be8ff5",
   "metadata": {},
   "outputs": [],
   "source": [
    "pw2=square()"
   ]
  },
  {
   "cell_type": "code",
   "execution_count": 9,
   "id": "105007ea-6a97-41ec-ade5-47a01b051650",
   "metadata": {},
   "outputs": [
    {
     "data": {
      "text/plain": [
       "4"
      ]
     },
     "execution_count": 9,
     "metadata": {},
     "output_type": "execute_result"
    }
   ],
   "source": [
    "pw2.area(2)"
   ]
  },
  {
   "cell_type": "code",
   "execution_count": 10,
   "id": "6ada42bd-2817-4df2-a6f1-5973f304f0c8",
   "metadata": {},
   "outputs": [
    {
     "data": {
      "text/plain": [
       "8"
      ]
     },
     "execution_count": 10,
     "metadata": {},
     "output_type": "execute_result"
    }
   ],
   "source": [
    "pw2.perimeter(2)"
   ]
  },
  {
   "cell_type": "markdown",
   "id": "d9cabdb0-d6f5-49ba-a036-0d70097162fa",
   "metadata": {},
   "source": [
    "Q2. Differentiate between Abstraction and Encapsulation. Explain with an example."
   ]
  },
  {
   "cell_type": "markdown",
   "id": "17c40444-84d3-4607-acc3-ae3f57c832d8",
   "metadata": {},
   "source": [
    "ans:- Abstraction provides you with a more abstract overview and thus hides the complexity. Encapsulation hides the internal working, which helps you to change it later.\n",
    "Examples:"
   ]
  },
  {
   "cell_type": "code",
   "execution_count": 4,
   "id": "6afffbe1-60dd-46dd-8fa9-d187562364c0",
   "metadata": {},
   "outputs": [],
   "source": [
    "#Encapsulation\n",
    "class measurement:\n",
    "    \n",
    "    def area(self, radius, shape):\n",
    "        self.radius=radius\n",
    "        self.__shape=shape\n",
    "        \n",
    "#shape data is encapsulated."
   ]
  },
  {
   "cell_type": "code",
   "execution_count": 5,
   "id": "3dd7f291-3516-413a-9815-57d8bece3589",
   "metadata": {},
   "outputs": [],
   "source": [
    "#Abstraction\n",
    "import abc\n",
    "class measurement:\n",
    "    \n",
    "    @abc.abstractmethod\n",
    "    def area(self):\n",
    "        pass\n",
    "    \n",
    "    @abc.abstractmethod\n",
    "    def perimeter(self):\n",
    "        pass"
   ]
  },
  {
   "cell_type": "code",
   "execution_count": 6,
   "id": "a3c148fc-e302-4bf7-9006-96fecd5049fc",
   "metadata": {},
   "outputs": [],
   "source": [
    "class square(measurement):\n",
    "    \n",
    "    def area(self,x):\n",
    "        return x**2\n",
    "    \n",
    "    def perimeter(self,y):\n",
    "        return y*4\n",
    "    \n",
    "#the abstarction of measurement class has reduce complexity of the program."
   ]
  },
  {
   "cell_type": "markdown",
   "id": "18c5123d-1796-4193-a6de-cc8863c18727",
   "metadata": {},
   "source": [
    "Q3. What is abc module in python? Why is it used?"
   ]
  },
  {
   "cell_type": "markdown",
   "id": "1bdf5632-258b-429e-961d-17ebdc2b1edd",
   "metadata": {},
   "source": [
    "ans:- Python has a module called abc (abstract base class) that offers the necessary tools for crafting an abstract base class. First and foremost, you should understand the ABCMeta metaclass provided by the abstract base class. The rule is every abstract class must use ABCMeta metaclass.\n",
    "The 'abc' module in Python library provides the infrastructure for defining custom abstract base classes. 'abc' works by marking methods of the base class as abstract. This is done by @absttractmethod decorator."
   ]
  },
  {
   "cell_type": "markdown",
   "id": "db4dfa5b-9e2c-475a-9064-df6cb05d74dc",
   "metadata": {},
   "source": [
    "Q4. How can we achieve data abstraction?"
   ]
  },
  {
   "cell_type": "markdown",
   "id": "8374458a-157c-405b-9751-ef13358cfdf5",
   "metadata": {},
   "source": [
    "ans:- Data Abstraction in Python can be achieved through creating abstract classes and inheriting them later."
   ]
  },
  {
   "cell_type": "markdown",
   "id": "31f3b88e-59e9-4b84-81ce-54e094f79a2b",
   "metadata": {},
   "source": [
    "Q5. Can we create an instance of an abstract class? Explain your answer."
   ]
  },
  {
   "cell_type": "markdown",
   "id": "52ca3669-744a-4eeb-9987-29aeaaedbbcc",
   "metadata": {},
   "source": [
    "ans:-Abstract classes are not complete, as they may have some methods that are not defined. So we cannot create an instance or object of an abstract class in Python."
   ]
  },
  {
   "cell_type": "code",
   "execution_count": null,
   "id": "5011814d-8ede-4091-b721-03d7fa7229d8",
   "metadata": {},
   "outputs": [],
   "source": []
  }
 ],
 "metadata": {
  "kernelspec": {
   "display_name": "Python 3 (ipykernel)",
   "language": "python",
   "name": "python3"
  },
  "language_info": {
   "codemirror_mode": {
    "name": "ipython",
    "version": 3
   },
   "file_extension": ".py",
   "mimetype": "text/x-python",
   "name": "python",
   "nbconvert_exporter": "python",
   "pygments_lexer": "ipython3",
   "version": "3.10.8"
  }
 },
 "nbformat": 4,
 "nbformat_minor": 5
}

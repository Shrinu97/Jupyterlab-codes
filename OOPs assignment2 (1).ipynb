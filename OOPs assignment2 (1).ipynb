{
 "cells": [
  {
   "cell_type": "markdown",
   "id": "435aa57c-565c-4032-81ea-d49585d22ca7",
   "metadata": {},
   "source": [
    "Q1. Create a vehicle class with an init method having instance variables as name_of_vehicle, max_speed\n",
    "and average_of_vehicle."
   ]
  },
  {
   "cell_type": "code",
   "execution_count": 2,
   "id": "f07d8e51-eb60-4261-90e8-3e0ea1c65ec2",
   "metadata": {},
   "outputs": [],
   "source": [
    "class vehicle:\n",
    "    \n",
    "    def __init__(self,name_of_vehicle,max_speed,average_of_vehicle):\n",
    "        self.name_of_vehicle=name_of_vehicle\n",
    "        self.max_speed=max_speed\n",
    "        self.average_of_vehicle=average_of_vehicle\n",
    "        \n",
    "    def vehicle_details(self):\n",
    "        return self.name_of_vehicle,self.max_speed,self.average_of_vehicle "
   ]
  },
  {
   "cell_type": "markdown",
   "id": "df77780a-2892-485e-8dba-5f54a1cde7d8",
   "metadata": {},
   "source": [
    "Q2. Create a child class car from the vehicle class created in Que 1, which will inherit the vehicle class.\n",
    "Create a method named seating_capacity which takes capacity as an argument and returns the name of\n",
    "the vehicle and its seating capacity."
   ]
  },
  {
   "cell_type": "code",
   "execution_count": 7,
   "id": "97d9de73-b434-4e67-8548-8bd005b459f2",
   "metadata": {},
   "outputs": [],
   "source": [
    "class car(vehicle):\n",
    "    \n",
    "    def seating_capacity(self,capacity):\n",
    "        self.capacity=capacity\n",
    "        return self.name_of_vehicle,  self.capacity"
   ]
  },
  {
   "cell_type": "code",
   "execution_count": 8,
   "id": "75e02163-f435-4423-94de-fa14b78782cc",
   "metadata": {},
   "outputs": [],
   "source": [
    "oject_car=car(\"Mercedes\", \"220 kmph\", 20)"
   ]
  },
  {
   "cell_type": "code",
   "execution_count": 9,
   "id": "29c6eacd-e709-4408-9a84-e4e8a450c6b3",
   "metadata": {},
   "outputs": [
    {
     "data": {
      "text/plain": [
       "('Mercedes', 4)"
      ]
     },
     "execution_count": 9,
     "metadata": {},
     "output_type": "execute_result"
    }
   ],
   "source": [
    "oject_car.seating_capacity(4)"
   ]
  },
  {
   "cell_type": "markdown",
   "id": "75fe8d2a-1e27-4481-9710-3f88a658af11",
   "metadata": {},
   "source": [
    "Q3. What is multiple inheritance? Write a python code to demonstrate multiple inheritance."
   ]
  },
  {
   "cell_type": "markdown",
   "id": "5fd2d37e-5e9a-4a66-a442-9c0ceb79b625",
   "metadata": {},
   "source": [
    "ans:- When a class is derived from more than one base class it is called multiple Inheritance. The derived class inherits all the features of the base case.\n",
    " "
   ]
  },
  {
   "cell_type": "code",
   "execution_count": 10,
   "id": "a8729ca3-5ef4-4cfc-b31f-f181181b4dee",
   "metadata": {},
   "outputs": [],
   "source": [
    "class vehicle:\n",
    "    \n",
    "    def __init__(self,name_of_vehicle,max_speed,average_of_vehicle):\n",
    "        self.name_of_vehicle=name_of_vehicle\n",
    "        self.max_speed=max_speed\n",
    "        self.average_of_vehicle=average_of_vehicle\n",
    "        \n",
    "    def vehicle_details(self):\n",
    "        return self.name_of_vehicle,self.max_speed,self.average_of_vehicle "
   ]
  },
  {
   "cell_type": "code",
   "execution_count": 17,
   "id": "2dbbe084-e2a2-4547-8d32-389ce406de2d",
   "metadata": {},
   "outputs": [],
   "source": [
    "class car:\n",
    "    \n",
    "    def seating_capacity(self,capacity):\n",
    "        self.capacity=capacity\n",
    "        pass"
   ]
  },
  {
   "cell_type": "code",
   "execution_count": 18,
   "id": "ef6141e6-f0bc-4e4e-8553-c18f0f333906",
   "metadata": {},
   "outputs": [],
   "source": [
    "class car_other_details(vehicle,car):\n",
    "    \n",
    "    def car_details(self,driven_distance):\n",
    "        self.driven_distance=driven_distance\n",
    "        return self.name_of_vehicle, self.capacity, self.driven_distance"
   ]
  },
  {
   "cell_type": "code",
   "execution_count": 16,
   "id": "9ab34934-5cea-482c-b84e-682a4595c672",
   "metadata": {},
   "outputs": [],
   "source": [
    "obj_car=car_other_details(\"Mercedes\", \"220 kmph\", 20)"
   ]
  },
  {
   "cell_type": "code",
   "execution_count": 20,
   "id": "60ad475d-6e99-45e9-b984-94160a5fc5e0",
   "metadata": {},
   "outputs": [
    {
     "data": {
      "text/plain": [
       "4"
      ]
     },
     "execution_count": 20,
     "metadata": {},
     "output_type": "execute_result"
    }
   ],
   "source": [
    "obj_car.seating_capacity(4)"
   ]
  },
  {
   "cell_type": "code",
   "execution_count": 21,
   "id": "40b8a192-ef23-4100-bdda-bede497a65e6",
   "metadata": {},
   "outputs": [
    {
     "data": {
      "text/plain": [
       "('Mercedes', 4, '2000km')"
      ]
     },
     "execution_count": 21,
     "metadata": {},
     "output_type": "execute_result"
    }
   ],
   "source": [
    "obj_car.car_details(\"2000km\")"
   ]
  },
  {
   "cell_type": "markdown",
   "id": "0aa668a0-478b-4ee4-a6de-9604408e4094",
   "metadata": {},
   "source": [
    "Q4. What are getter and setter in python? Create a class and create a getter and a setter method in this class."
   ]
  },
  {
   "cell_type": "markdown",
   "id": "e22442e0-874b-4ddc-a360-6774547d78fa",
   "metadata": {},
   "source": [
    "ans:- Getter: A method that allows you to access an attribute in a given class. Setter: A method that allows you to set or mutate the value of an attribute in a class."
   ]
  },
  {
   "cell_type": "code",
   "execution_count": 36,
   "id": "df8768f7-8001-4b3c-8d4f-a1a68ad032fc",
   "metadata": {},
   "outputs": [],
   "source": [
    "class vehicle:\n",
    "    \n",
    "    def __init__(self,name_of_vehicle,max_speed,average_of_vehicle):\n",
    "        self.name_of_vehicle=name_of_vehicle\n",
    "        self.max_speed=max_speed\n",
    "        self.average_of_vehicle=average_of_vehicle\n",
    "      \n",
    "    def average_of_vehicle_change(self, vehicle_average):\n",
    "        self.average_of_vehicle=vehicle_average\n",
    "        \n",
    "\n",
    "    def get_average_of_vehicle(self):\n",
    "        return  self.average_of_vehicle\n",
    "        \n",
    "    def vehicle_details(self):\n",
    "        return self.name_of_vehicle,self.max_speed,self.average_of_vehicle "
   ]
  },
  {
   "cell_type": "code",
   "execution_count": 37,
   "id": "6039740d-a167-4854-9993-bd7db753f9c3",
   "metadata": {},
   "outputs": [],
   "source": [
    "obj_car1=vehicle(\"Mercedes\", \"220 kmph\", 20)"
   ]
  },
  {
   "cell_type": "code",
   "execution_count": 38,
   "id": "e8d8672a-05fd-4a85-aad4-e565a69b3c20",
   "metadata": {},
   "outputs": [
    {
     "data": {
      "text/plain": [
       "20"
      ]
     },
     "execution_count": 38,
     "metadata": {},
     "output_type": "execute_result"
    }
   ],
   "source": [
    "obj_car1.get_average_of_vehicle()"
   ]
  },
  {
   "cell_type": "code",
   "execution_count": 39,
   "id": "6ebf1465-86e6-49b1-93b2-02c262024496",
   "metadata": {},
   "outputs": [],
   "source": [
    "obj_car1.average_of_vehicle_change(22)"
   ]
  },
  {
   "cell_type": "code",
   "execution_count": 40,
   "id": "bfe8d5fc-5074-4e6e-a21e-21c8390e005f",
   "metadata": {},
   "outputs": [
    {
     "data": {
      "text/plain": [
       "22"
      ]
     },
     "execution_count": 40,
     "metadata": {},
     "output_type": "execute_result"
    }
   ],
   "source": [
    "obj_car1.get_average_of_vehicle()"
   ]
  },
  {
   "cell_type": "markdown",
   "id": "d40b6cc0-e3be-498b-98c0-35577ea130af",
   "metadata": {},
   "source": [
    "Q5.What is method overriding in python? Write a python code to demonstrate method overriding."
   ]
  },
  {
   "cell_type": "markdown",
   "id": "fb21c3ef-6727-4747-b4f2-aab300de9457",
   "metadata": {},
   "source": [
    "ans:- Method overriding in Python is when you have two methods with the same name that each perform different tasks. This is an important feature of inheritance in Python. In method overriding, the child class can change its functions that are defined by its ancestral classes."
   ]
  },
  {
   "cell_type": "markdown",
   "id": "2cf38f45-35ca-4922-9bcb-d1761e4ac483",
   "metadata": {},
   "source": [
    "There are two prerequisite conditions for Method overriding:\n",
    "\n",
    "Inheritance should be present in the code, method overriding cannot be performed in the same class, and overriding can only be executed when a child class is derived through inheritance.\n",
    "\n",
    "The child class should have the same name and the same number of parameters as the parent class."
   ]
  },
  {
   "cell_type": "code",
   "execution_count": 41,
   "id": "98f38cdc-8af6-492c-a445-15435adf7a08",
   "metadata": {},
   "outputs": [],
   "source": [
    "class parent:\n",
    "    \n",
    "    def remark(self):\n",
    "        print(\" My son got 9.8 cgpa\")\n",
    "        "
   ]
  },
  {
   "cell_type": "code",
   "execution_count": 42,
   "id": "f99e155b-e3a9-4dfc-8486-2671ac872a02",
   "metadata": {},
   "outputs": [],
   "source": [
    "class child(parent):\n",
    "    \n",
    "    def remark(self):\n",
    "        print(\" My father was really happy\")"
   ]
  },
  {
   "cell_type": "code",
   "execution_count": 43,
   "id": "fdb9cd2b-3653-4be8-b279-d21fa6341b97",
   "metadata": {},
   "outputs": [],
   "source": [
    "object_1=child()"
   ]
  },
  {
   "cell_type": "code",
   "execution_count": 45,
   "id": "12440bb7-5f5c-4b30-98e1-a6fa727caa6c",
   "metadata": {},
   "outputs": [
    {
     "name": "stdout",
     "output_type": "stream",
     "text": [
      " My father was really happy\n"
     ]
    }
   ],
   "source": [
    "object_1.remark()"
   ]
  },
  {
   "cell_type": "code",
   "execution_count": 46,
   "id": "425b2523-6d84-4700-a926-354cc6224660",
   "metadata": {},
   "outputs": [],
   "source": [
    "object_1=parent()"
   ]
  },
  {
   "cell_type": "code",
   "execution_count": 47,
   "id": "d15c9f76-691f-4be8-817c-b7f147e8fd86",
   "metadata": {},
   "outputs": [
    {
     "name": "stdout",
     "output_type": "stream",
     "text": [
      " My son got 9.8 cgpa\n"
     ]
    }
   ],
   "source": [
    "object_1.remark()"
   ]
  },
  {
   "cell_type": "code",
   "execution_count": null,
   "id": "64de14da-59de-4183-831b-7bcae0120233",
   "metadata": {},
   "outputs": [],
   "source": []
  }
 ],
 "metadata": {
  "kernelspec": {
   "display_name": "Python 3 (ipykernel)",
   "language": "python",
   "name": "python3"
  },
  "language_info": {
   "codemirror_mode": {
    "name": "ipython",
    "version": 3
   },
   "file_extension": ".py",
   "mimetype": "text/x-python",
   "name": "python",
   "nbconvert_exporter": "python",
   "pygments_lexer": "ipython3",
   "version": "3.10.8"
  }
 },
 "nbformat": 4,
 "nbformat_minor": 5
}

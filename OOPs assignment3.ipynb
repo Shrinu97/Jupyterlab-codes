{
 "cells": [
  {
   "cell_type": "markdown",
   "id": "5bee195d-2525-4f86-bf53-efb445a8a79c",
   "metadata": {},
   "source": [
    "Q1. Which function is used to open a file? What are the different modes of opening a file? Explain each mode\n",
    "of file opening."
   ]
  },
  {
   "cell_type": "markdown",
   "id": "f8cffe74-6467-486a-9a3c-e0a4d41ef295",
   "metadata": {},
   "source": [
    "ans: open() function is used to open a file.\n",
    "Diffferent modes to open a file in python:\n"
   ]
  },
  {
   "cell_type": "code",
   "execution_count": 1,
   "id": "e8e10143-3479-4ab0-8301-1066fb3e3d2f",
   "metadata": {},
   "outputs": [],
   "source": [
    "#-Open a file for reading. (default)\n",
    "#w-Open a file for writing. Creates a new file if it does not exist or truncates the file if it exists.\n",
    "#x-Open a file for exclusive creation. If the file already   exists, the operation fails.\n",
    "#a-Open a file for appending at the end of the file without truncating it. Creates a new file if it does not exist.\n",
    "#t-Open in text mode. (default)\n",
    "#b-Open in binary mode.\n",
    "#+-Open a file for updating (reading and writing)"
   ]
  },
  {
   "cell_type": "markdown",
   "id": "e12ed184-33ba-45d3-9a3a-b84deb297880",
   "metadata": {},
   "source": [
    "Q2. Why close() function is used? Why is it important to close a file?"
   ]
  },
  {
   "cell_type": "markdown",
   "id": "ad9269d4-0e78-4a49-817d-80f6e5f1c4c5",
   "metadata": {},
   "source": [
    "ans: The close() method closes an open file. You should always close your files, in some cases, due to buffering, changes made to a file may not show until you close the file"
   ]
  },
  {
   "cell_type": "markdown",
   "id": "a8eeecbd-1883-4599-bf83-799f45c400c4",
   "metadata": {},
   "source": [
    "Q3. Write a python program to create a text file. Write ‘I want to become a Data Scientist’ in that file. Thenclose the file. Open this file and read the content of the file."
   ]
  },
  {
   "cell_type": "code",
   "execution_count": 2,
   "id": "0109ef87-0d81-4b18-8841-7928b171d94b",
   "metadata": {},
   "outputs": [],
   "source": [
    "with open(\"text.txt\",\"w\") as f:\n",
    "    f.write(\"I want to become a Data Scientist\")"
   ]
  },
  {
   "cell_type": "code",
   "execution_count": 3,
   "id": "69a82871-9065-4e73-a0fd-953ca4f863a9",
   "metadata": {},
   "outputs": [],
   "source": [
    "f.close()"
   ]
  },
  {
   "cell_type": "code",
   "execution_count": 4,
   "id": "06523f77-6a25-4906-b07a-c40db9e69035",
   "metadata": {},
   "outputs": [
    {
     "name": "stdout",
     "output_type": "stream",
     "text": [
      "I want to become a Data Scientist\n"
     ]
    }
   ],
   "source": [
    "with open(\"text.txt\",\"r\") as f:\n",
    "    data=print(f.read())"
   ]
  },
  {
   "cell_type": "markdown",
   "id": "0b340272-9ac2-4d44-9b7a-a632254ed67f",
   "metadata": {},
   "source": [
    "Q4. Explain the following with python code: read(), readline() and readlines()."
   ]
  },
  {
   "cell_type": "code",
   "execution_count": 5,
   "id": "dd1fff52-814f-4730-b33c-30008f4be187",
   "metadata": {},
   "outputs": [],
   "source": [
    "#ans: \n",
    "#read(): the read method reads the entire contents of a file and returns it as a string.\n",
    "#readline(): The readline method reads a single line from a file and returns it as a string. This means that if you use readline, you can read the contents of a file line by line, which can be useful for processing large files that do not fit in memory.\n",
    "#readlines: the readline method reads a single line from a file and returns it as a string, while the readlines method reads the entire contents of a file and returns it as a list of strings, where each element of the list is a single line of the file."
   ]
  },
  {
   "cell_type": "code",
   "execution_count": 14,
   "id": "bbf877da-d05e-4962-b847-079bfa756c3a",
   "metadata": {},
   "outputs": [],
   "source": [
    "with open(\"file.txt\", \"w\") as file:\n",
    "    file.write(\"Reading operations for files involve the use of read(), readline(), and readlines() methods.\\n read() retrieves the entire content as a single string, readline() reads one line at a time, and readlines() returns a list containing all lines in the file. These methods offer versatile ways to access and process file content.\") \n",
    "  "
   ]
  },
  {
   "cell_type": "code",
   "execution_count": 15,
   "id": "1cd166ec-7c93-459a-9fd5-02ab3ab46c1b",
   "metadata": {},
   "outputs": [
    {
     "name": "stdout",
     "output_type": "stream",
     "text": [
      "Reading operations for files involve the use of read(), readline(), and readlines() methods.\n",
      " read() retrieves the entire content as a single string, readline() reads one line at a time, and readlines() returns a list containing all lines in the file. These methods offer versatile ways to access and process file content.\n"
     ]
    }
   ],
   "source": [
    "#read() command\n",
    "with open(\"file.txt\",\"r\") as f:\n",
    "    data=print(f.read())"
   ]
  },
  {
   "cell_type": "code",
   "execution_count": 16,
   "id": "e3609e36-903b-47f9-a8ca-e04261307557",
   "metadata": {},
   "outputs": [
    {
     "name": "stdout",
     "output_type": "stream",
     "text": [
      "Reading operations for files involve the use of read(), readline(), and readlines() methods.\n",
      "\n"
     ]
    }
   ],
   "source": [
    "#readline() command\n",
    "with open(\"file.txt\") as f:\n",
    "    line = f.readline()\n",
    "    print(line)"
   ]
  },
  {
   "cell_type": "code",
   "execution_count": 17,
   "id": "7f37e7be-0a28-4104-945d-f084380ae7da",
   "metadata": {},
   "outputs": [
    {
     "name": "stdout",
     "output_type": "stream",
     "text": [
      "['Reading operations for files involve the use of read(), readline(), and readlines() methods.\\n', ' read() retrieves the entire content as a single string, readline() reads one line at a time, and readlines() returns a list containing all lines in the file. These methods offer versatile ways to access and process file content.']\n"
     ]
    }
   ],
   "source": [
    "#readlines() command\n",
    "with open(\"file.txt\") as f:\n",
    "    lines = f.readlines()\n",
    "    print(lines)"
   ]
  },
  {
   "cell_type": "markdown",
   "id": "70e1aa39-2c8e-4143-a634-028a7957c2aa",
   "metadata": {},
   "source": [
    "Q5. Explain why with statement is used with open(). What is the advantage of using with statement and open() together?"
   ]
  },
  {
   "cell_type": "markdown",
   "id": "6ad8ce62-a038-4d3e-aea3-bbdc7b460450",
   "metadata": {},
   "source": [
    "ans: \n",
    "In Python, with statement is used in exception handling to make the code cleaner and much more readable. It simplifies the management of common resources like file streams.\n"
   ]
  },
  {
   "cell_type": "markdown",
   "id": "40894164-4f57-41aa-a0c7-3753ec49e732",
   "metadata": {},
   "source": [
    " Advantage: combining the with statement and the open() function in Python helps us read and write to the file without being worried about closing it."
   ]
  },
  {
   "cell_type": "markdown",
   "id": "eac78a03-fbc5-4eff-ab56-e2ffae8b1f3b",
   "metadata": {},
   "source": [
    "Q6. Explain the write() and writelines() functions. Give a suitable example."
   ]
  },
  {
   "cell_type": "markdown",
   "id": "f6f1165d-d2f7-4230-8e40-0c679a05945f",
   "metadata": {},
   "source": [
    "ans: The write() function will write the content in the file without adding any extra characters."
   ]
  },
  {
   "cell_type": "code",
   "execution_count": 21,
   "id": "b43429eb-b61c-46d8-8c77-ab9ee2311cc0",
   "metadata": {},
   "outputs": [
    {
     "name": "stdin",
     "output_type": "stream",
     "text": [
      "Enter the name of the employee:  Shrinu\n",
      "Enter the name of the employee:  Prakhar\n",
      "Enter the name of the employee:  Pratistha\n"
     ]
    },
    {
     "name": "stdout",
     "output_type": "stream",
     "text": [
      "Data is written into the file.\n"
     ]
    }
   ],
   "source": [
    "file = open(\"Employees.txt\", \"w\")\n",
    "  \n",
    "for i in range(3):\n",
    "   name = input(\"Enter the name of the employee: \")\n",
    "   file.write(name)\n",
    "   file.write(\"\\n\")\n",
    "     \n",
    "file.close()\n",
    "  \n",
    "print(\"Data is written into the file.\")"
   ]
  },
  {
   "cell_type": "markdown",
   "id": "16bbe376-e0d9-4194-9f31-71eed2d2346d",
   "metadata": {},
   "source": [
    "writeline() function: This function writes the content of a list to a file."
   ]
  },
  {
   "cell_type": "code",
   "execution_count": 23,
   "id": "62da63dd-d4c9-48bb-8965-a281e5b0f2d9",
   "metadata": {},
   "outputs": [
    {
     "name": "stdin",
     "output_type": "stream",
     "text": [
      "Enter the name of the employee:  Shrinu \n",
      "Enter the name of the employee:  Prakhar\n",
      "Enter the name of the employee:  Pratistha\n"
     ]
    },
    {
     "name": "stdout",
     "output_type": "stream",
     "text": [
      "Data is written into the file.\n"
     ]
    }
   ],
   "source": [
    "\n",
    "file1 = open(\"Employees.txt\", \"w\")\n",
    "lst = []\n",
    "for i in range(3):\n",
    "    name = input(\"Enter the name of the employee: \")\n",
    "    lst.append(name + '\\n')\n",
    "      \n",
    "file1.writelines(lst)\n",
    "file1.close()\n",
    "print(\"Data is written into the file.\") "
   ]
  },
  {
   "cell_type": "markdown",
   "id": "5b7f2e01-4b2d-4223-85fb-65eb0f03c152",
   "metadata": {},
   "source": [
    "The only difference between the write() and writelines() is that write() is used to write a string to an already opened file while writelines() method is used to write a list of strings in an opened file."
   ]
  },
  {
   "cell_type": "code",
   "execution_count": null,
   "id": "8a9966b5-679e-4121-8496-719a6de2d32c",
   "metadata": {},
   "outputs": [],
   "source": []
  }
 ],
 "metadata": {
  "kernelspec": {
   "display_name": "Python 3 (ipykernel)",
   "language": "python",
   "name": "python3"
  },
  "language_info": {
   "codemirror_mode": {
    "name": "ipython",
    "version": 3
   },
   "file_extension": ".py",
   "mimetype": "text/x-python",
   "name": "python",
   "nbconvert_exporter": "python",
   "pygments_lexer": "ipython3",
   "version": "3.10.8"
  }
 },
 "nbformat": 4,
 "nbformat_minor": 5
}

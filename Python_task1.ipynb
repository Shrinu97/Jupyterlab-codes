{
 "cells": [
  {
   "cell_type": "markdown",
   "id": "e7a42a1e-3897-462f-a5a4-6be7c6f04a61",
   "metadata": {},
   "source": [
    "Q1. Create a function which will take a list as an argument and return the product of all the numbers\n",
    "after creating a flat list.\n",
    "Use the below-given list as an argument for your function.\n",
    "list1 = [1,2,3,4, [44,55,66, True], False, (34,56,78,89,34), {1,2,3,3,2,1}, {1:34, \"key2\": [55, 67, 78, 89], 4: (45,\n",
    "22, 61, 34)}, [56, 'data science'], 'Machine Learning']\n",
    "Note: you must extract numeric keys and values of the dictionary also."
   ]
  },
  {
   "cell_type": "code",
   "execution_count": 11,
   "id": "4df909e4-9d12-4413-bd1e-63c1cd41caba",
   "metadata": {},
   "outputs": [],
   "source": [
    "list1 = [1,2,3,4, [44,55,66, True], False, (34,56,78,89,34), {1,2,3,3,2,1}, {1:34, \"key2\": [55, 67, 78, 89], 4: (45, 22, 61, 34)}, [56, 'data science'], 'Machine Learning']"
   ]
  },
  {
   "cell_type": "code",
   "execution_count": 12,
   "id": "baa71c64-7519-40e5-bdc0-3543af3a96f6",
   "metadata": {},
   "outputs": [],
   "source": [
    "from functools import reduce\n",
    "def nest_to_flat(l):\n",
    "    l1=[]\n",
    "    for i in l:\n",
    "        if type(i)==int:\n",
    "            l1.append(i)\n",
    "        elif type(i)==list:\n",
    "            for x in i:\n",
    "                if type(x)==int:\n",
    "                    l1.append(x)\n",
    "        elif type(i)==set:\n",
    "            for j in i:\n",
    "                if type(j)==int:\n",
    "                    l1.append(j)\n",
    "        elif type(i)==tuple:\n",
    "            for k in i :\n",
    "                if type(k)==int:\n",
    "                    l1.append(k)\n",
    "        elif type(i)==dict:\n",
    "            a=i.keys()\n",
    "            b=i.values()\n",
    "            for y in a:\n",
    "                if type(y)==int:\n",
    "                    l1.append(y)\n",
    "            for z in b:\n",
    "                if type(z)==int:\n",
    "                    l1.append(z)\n",
    "                elif type(z)==list:\n",
    "                    for q in z:\n",
    "                        if type(q)==int:\n",
    "                            l1.append(q)\n",
    "                elif type(z)==tuple:\n",
    "                    for w in z:\n",
    "                        if type(w)==int:\n",
    "                            l1.append(w)\n",
    "    return reduce(lambda x,y:x*y,l1)\n"
   ]
  },
  {
   "cell_type": "code",
   "execution_count": 13,
   "id": "ae1271f3-d9eb-47f8-98f4-a7880ca38593",
   "metadata": {},
   "outputs": [
    {
     "data": {
      "text/plain": [
       "4134711838987085478833841242112000"
      ]
     },
     "execution_count": 13,
     "metadata": {},
     "output_type": "execute_result"
    }
   ],
   "source": [
    "nest_to_flat(list1)"
   ]
  },
  {
   "cell_type": "markdown",
   "id": "24c5ccb2-db79-4277-89b9-c5c8cfbf88b1",
   "metadata": {},
   "source": [
    "Q2. Write a python program for encrypting a message sent to you by your friend. The logic of encryption should be such that, for a the output should be z. For b, the output should be y. For c, the output should be x respectively. Also, the whitespace should be replaced with a dollar sign. Keep the punctuation marks unchanged.\n",
    "\n",
    "Input Sentence: I want to become a Data Scientist.\n",
    "\n",
    "Encrypt the above input sentence using the program you just created.\n",
    "\n",
    "Note: Convert the given input sentence into lowercase before encrypting.The final output should be lowercase.\n"
   ]
  },
  {
   "cell_type": "code",
   "execution_count": 3,
   "id": "50b71147-88ce-43de-bde8-851c7ca68183",
   "metadata": {},
   "outputs": [
    {
     "name": "stdin",
     "output_type": "stream",
     "text": [
      "enter the message asfafs\n"
     ]
    },
    {
     "name": "stdout",
     "output_type": "stream",
     "text": [
      "zhuzuh\n"
     ]
    }
   ],
   "source": [
    "dict_Q={'a':'z', 'b':'y', 'c':'x','d':'w', 'e':'v', 'f':'u', 'g':'t', 'h':'s', 'i':'r', 'j':'q', 'k':'p','l':'o', 'm':'n', 'n':'m', 'o':'l', 'p':'k','q':'j', 'r':'i', 's':'h', \n",
    "        't':'g', 'u':'f', 'v':'e', 'w':'d', 'x':'c','y':'b', 'z':'a', ' ':'$'}\n",
    "message=input(\"enter the message\")\n",
    "encrypt=message.lower()\n",
    "for i in encrypt:\n",
    "    encrypt=encrypt.replace(i,dict_Q[i])\n",
    "print(encrypt)"
   ]
  },
  {
   "cell_type": "code",
   "execution_count": null,
   "id": "e5564450-9e42-4106-a046-5cf3a909ba41",
   "metadata": {},
   "outputs": [],
   "source": []
  }
 ],
 "metadata": {
  "kernelspec": {
   "display_name": "Python 3 (ipykernel)",
   "language": "python",
   "name": "python3"
  },
  "language_info": {
   "codemirror_mode": {
    "name": "ipython",
    "version": 3
   },
   "file_extension": ".py",
   "mimetype": "text/x-python",
   "name": "python",
   "nbconvert_exporter": "python",
   "pygments_lexer": "ipython3",
   "version": "3.10.8"
  }
 },
 "nbformat": 4,
 "nbformat_minor": 5
}

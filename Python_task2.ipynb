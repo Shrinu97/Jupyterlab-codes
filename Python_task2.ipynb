{
 "cells": [
  {
   "cell_type": "markdown",
   "id": "a6fdb434-4413-4333-a4ab-49b0c0a588eb",
   "metadata": {},
   "source": [
    "Q1. You are writing code for a company. The requirement of the company is that you create a python\n",
    "function that will check whether the password entered by the user is correct or not. The function should\n",
    "take the password as input and return the string “Valid Password” if the entered password follows the\n",
    "below-given password guidelines else it should return “Invalid Password”.\n",
    "Note: 1. The Password should contain at least two uppercase letters and at least two lowercase letters. 2. The Password should contain at least a number and three special characters. 3. The length of the password should be 10 characters long."
   ]
  },
  {
   "cell_type": "code",
   "execution_count": 1,
   "id": "2ee0c785-73f0-4bb7-ae35-2545247e4855",
   "metadata": {},
   "outputs": [],
   "source": [
    "def password_checker(l):\n",
    "    lower_count=0\n",
    "    upper_count=0\n",
    "    num_count=0\n",
    "    special_count=0\n",
    "    count=0\n",
    "    if count<=len(l):\n",
    "        for i in l:\n",
    "            if i.islower()==True:\n",
    "                lower_count=lower_count+1\n",
    "            elif i.isupper()==True:\n",
    "                upper_count=upper_count+1\n",
    "            elif i.isdigit()==True:\n",
    "                num_count=num_count+1\n",
    "            else:\n",
    "                special_count=special_count+1\n",
    "        count=lower_count+upper_count+num_count+special_count\n",
    "    print(lower_count, upper_count, num_count, special_count, count)\n",
    "    if lower_count>=2 and upper_count>=2 and num_count>=1 and special_count>=3 and count==10:\n",
    "\n",
    "        print(\" password is valid\")\n",
    "    else:\n",
    "        print(\"password is not valid\")\n",
    "\n"
   ]
  },
  {
   "cell_type": "code",
   "execution_count": 2,
   "id": "d1d67772-6875-4573-b093-4a4235116932",
   "metadata": {},
   "outputs": [
    {
     "name": "stdout",
     "output_type": "stream",
     "text": [
      "4 2 3 3 12\n",
      "password is not valid\n"
     ]
    }
   ],
   "source": [
    "password_checker(\"SHrinu@#$121\")"
   ]
  },
  {
   "cell_type": "markdown",
   "id": "d4ac4414-5204-4a10-ba1e-33dc8e0fd5c1",
   "metadata": {},
   "source": [
    "Q2. Solve the below-given questions using at least one of the following:\n",
    "1. Lambda function\n",
    "2. Filter function\n",
    "3. Map function\n",
    "4. List Comprehension\n",
    "\n",
    " Check if the string starts with a particular letter.\n",
    " Check if the string is numeric.\n",
    " Sort a list of tuples having fruit names and their quantity. [(\"mango\",99),(\"orange\",80), (\"grapes\", 1000)]\n",
    " Find the squares of numbers from 1 to 10\n",
    " Find the cube root of numbers from 1 to 10Y\n",
    " Check if a given number is evenY\n",
    " Filter odd numbers from the given list.[1,2,3,4,5,6,7,8,9,10]\n",
    " Sort a list of integers into positive and negative integers lists.[1,2,3,4,5,6,-1,-2,-3,-4,-5,0]"
   ]
  },
  {
   "cell_type": "code",
   "execution_count": 14,
   "id": "ffbb30a6-bf49-4b30-996c-f2831d934b97",
   "metadata": {},
   "outputs": [],
   "source": [
    "check_letter=lambda a,b:print(\"True\") if b.lower()[0]==a.lower() else print(\"False\")"
   ]
  },
  {
   "cell_type": "code",
   "execution_count": 15,
   "id": "ac5486a1-def8-4f77-87b6-8e064b083707",
   "metadata": {},
   "outputs": [
    {
     "name": "stdout",
     "output_type": "stream",
     "text": [
      "True\n"
     ]
    }
   ],
   "source": [
    "check_letter(\"S\",\"shrinu\")"
   ]
  },
  {
   "cell_type": "code",
   "execution_count": 17,
   "id": "0d7419d0-ef73-439a-8f1c-5000fc1cf9ec",
   "metadata": {},
   "outputs": [],
   "source": [
    "check_numeric=lambda x: print(\"True\") if x.isdigit() else print(\"False\")"
   ]
  },
  {
   "cell_type": "code",
   "execution_count": 19,
   "id": "1d85e134-3e50-4b84-a0f1-6b927bba417f",
   "metadata": {},
   "outputs": [
    {
     "name": "stdout",
     "output_type": "stream",
     "text": [
      "True\n"
     ]
    }
   ],
   "source": [
    "check_numeric(\"12\")"
   ]
  },
  {
   "cell_type": "code",
   "execution_count": 4,
   "id": "9f2aef86-dbb0-49ee-8031-41d90e391eaa",
   "metadata": {},
   "outputs": [],
   "source": [
    "l=[(\"mango\",99),(\"orange\",80), (\"grapes\", 1000)]"
   ]
  },
  {
   "cell_type": "code",
   "execution_count": 15,
   "id": "d06b5867-ed8f-490e-ae8c-815a90917fa1",
   "metadata": {},
   "outputs": [],
   "source": [
    "def sorting_func(l):\n",
    "    l.sort(reverse=False, key=lambda x:x[0])\n",
    "    return l"
   ]
  },
  {
   "cell_type": "code",
   "execution_count": 16,
   "id": "e90655a6-ffae-44f4-94f1-1b75ba7db46c",
   "metadata": {},
   "outputs": [
    {
     "data": {
      "text/plain": [
       "[('grapes', 1000), ('mango', 99), ('orange', 80)]"
      ]
     },
     "execution_count": 16,
     "metadata": {},
     "output_type": "execute_result"
    }
   ],
   "source": [
    "sorting_func(l)"
   ]
  },
  {
   "cell_type": "code",
   "execution_count": 37,
   "id": "1459d400-5c21-4134-b313-d4d4b91df28c",
   "metadata": {},
   "outputs": [],
   "source": [
    "def sorting_func(l):\n",
    "    l.sort(reverse=False, key=lambda x:x[1])\n",
    "    return l"
   ]
  },
  {
   "cell_type": "code",
   "execution_count": 18,
   "id": "ef55d9dc-18e6-41fc-9d9a-5a528b25bcd9",
   "metadata": {},
   "outputs": [
    {
     "data": {
      "text/plain": [
       "[('orange', 80), ('mango', 99), ('grapes', 1000)]"
      ]
     },
     "execution_count": 18,
     "metadata": {},
     "output_type": "execute_result"
    }
   ],
   "source": [
    "sorting_func(l)"
   ]
  },
  {
   "cell_type": "code",
   "execution_count": 19,
   "id": "32c45206-92b9-495c-9286-e847bfeb6595",
   "metadata": {},
   "outputs": [],
   "source": [
    "l=range(1,11)"
   ]
  },
  {
   "cell_type": "code",
   "execution_count": 20,
   "id": "5b327517-7c6b-48f9-bebd-9b5133f91dc3",
   "metadata": {},
   "outputs": [
    {
     "data": {
      "text/plain": [
       "[1, 4, 9, 16, 25, 36, 49, 64, 81, 100]"
      ]
     },
     "execution_count": 20,
     "metadata": {},
     "output_type": "execute_result"
    }
   ],
   "source": [
    "list(map(lambda x:x**2,l))"
   ]
  },
  {
   "cell_type": "code",
   "execution_count": 23,
   "id": "f8e7685c-1f17-4a8b-9cf9-21080ecd8a3c",
   "metadata": {},
   "outputs": [
    {
     "data": {
      "text/plain": [
       "[1.0,\n",
       " 1.2599210498948732,\n",
       " 1.4422495703074083,\n",
       " 1.5874010519681994,\n",
       " 1.7099759466766968,\n",
       " 1.8171205928321397,\n",
       " 1.912931182772389,\n",
       " 2.0,\n",
       " 2.080083823051904,\n",
       " 2.154434690031884]"
      ]
     },
     "execution_count": 23,
     "metadata": {},
     "output_type": "execute_result"
    }
   ],
   "source": [
    "list(map(lambda x:x**(1/3),l))"
   ]
  },
  {
   "cell_type": "code",
   "execution_count": 30,
   "id": "603c56e8-5bcc-4384-8252-36ce3cac9992",
   "metadata": {},
   "outputs": [],
   "source": [
    "even_num_check=lambda x:print(\"even number\") if x%2==0 else print(\"odd number\")"
   ]
  },
  {
   "cell_type": "code",
   "execution_count": 31,
   "id": "b6429998-4a97-4df1-bfb2-120818bcef98",
   "metadata": {},
   "outputs": [
    {
     "name": "stdout",
     "output_type": "stream",
     "text": [
      "even number\n"
     ]
    }
   ],
   "source": [
    "even_num_check(4)"
   ]
  },
  {
   "cell_type": "code",
   "execution_count": 32,
   "id": "935510e5-9bda-4bcb-8698-fe05b0f73668",
   "metadata": {},
   "outputs": [
    {
     "name": "stdout",
     "output_type": "stream",
     "text": [
      "odd number\n"
     ]
    }
   ],
   "source": [
    "even_num_check(7)"
   ]
  },
  {
   "cell_type": "code",
   "execution_count": 33,
   "id": "a25589d0-3c05-4bd2-aedb-8758c2edb122",
   "metadata": {},
   "outputs": [],
   "source": [
    "l1=[1,2,3,4,5,6,7,8,9,10]"
   ]
  },
  {
   "cell_type": "code",
   "execution_count": 34,
   "id": "98384c87-d7ab-41b5-bb81-7bc415e6446c",
   "metadata": {},
   "outputs": [
    {
     "data": {
      "text/plain": [
       "[1, 3, 5, 7, 9]"
      ]
     },
     "execution_count": 34,
     "metadata": {},
     "output_type": "execute_result"
    }
   ],
   "source": [
    "list(filter(lambda x:x%2!=0,l1))"
   ]
  },
  {
   "cell_type": "code",
   "execution_count": 36,
   "id": "3e1e0de1-8d43-4f54-b8d9-2f82a41b262f",
   "metadata": {},
   "outputs": [],
   "source": [
    "def sorting_neg_pos(l):\n",
    "    l.sort(reverse=False, key=lambda x:x<0)\n",
    "    return l\n",
    "        "
   ]
  },
  {
   "cell_type": "code",
   "execution_count": 38,
   "id": "7e10873e-c13e-4bd1-8d2a-3894a8a635d2",
   "metadata": {},
   "outputs": [],
   "source": [
    "l3=[1,2,3,4,5,6,-1,-2,-3,-4,-5,0]"
   ]
  },
  {
   "cell_type": "code",
   "execution_count": 39,
   "id": "5a509c7f-3305-462d-8e8b-51873617d468",
   "metadata": {},
   "outputs": [
    {
     "data": {
      "text/plain": [
       "[1, 2, 3, 4, 5, 6, 0, -1, -2, -3, -4, -5]"
      ]
     },
     "execution_count": 39,
     "metadata": {},
     "output_type": "execute_result"
    }
   ],
   "source": [
    "sorting_neg_pos(l3)"
   ]
  },
  {
   "cell_type": "code",
   "execution_count": null,
   "id": "a9b7b5ef-dd76-4d53-a2d8-5cf9178b3eed",
   "metadata": {},
   "outputs": [],
   "source": []
  }
 ],
 "metadata": {
  "kernelspec": {
   "display_name": "Python 3 (ipykernel)",
   "language": "python",
   "name": "python3"
  },
  "language_info": {
   "codemirror_mode": {
    "name": "ipython",
    "version": 3
   },
   "file_extension": ".py",
   "mimetype": "text/x-python",
   "name": "python",
   "nbconvert_exporter": "python",
   "pygments_lexer": "ipython3",
   "version": "3.10.8"
  }
 },
 "nbformat": 4,
 "nbformat_minor": 5
}

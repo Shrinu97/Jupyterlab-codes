{
 "cells": [
  {
   "cell_type": "markdown",
   "id": "6ed90443-6f1d-4980-9c74-0916d9dfb197",
   "metadata": {},
   "source": [
    "Q1. What is a database? Differentiate between SQL and NoSQL databases."
   ]
  },
  {
   "cell_type": "markdown",
   "id": "4158093e-3ef6-4e41-8292-c401815d010a",
   "metadata": {},
   "source": [
    "ans: \n",
    "\n",
    "A database is a systematic or organized collection of related information that is stored in such a way that it can be easily accessed, retrieved, managed, and updated."
   ]
  },
  {
   "cell_type": "markdown",
   "id": "d03fea51-6c99-444f-97c8-81733993e6ae",
   "metadata": {},
   "source": [
    "SQL databases are relational, and NoSQL databases are non-relational. SQL databases use structured query language (SQL) and have a predefined schema. NoSQL databases have dynamic schemas for unstructured data. SQL databases are vertically scalable, while NoSQL databases are horizontally scalable"
   ]
  },
  {
   "cell_type": "markdown",
   "id": "5d66c789-c411-4011-b5fa-4462ad83ac65",
   "metadata": {},
   "source": [
    "Q2. What is DDL? Explain why CREATE, DROP, ALTER, and TRUNCATE are used with an example."
   ]
  },
  {
   "cell_type": "markdown",
   "id": "ba7cc49e-28f1-4db0-b6a7-f2bd9064d931",
   "metadata": {},
   "source": [
    "ans:\n",
    "\n",
    "DDL or Data Definition Language actually consists of the SQL commands that can be used to define the database schema. It simply deals with descriptions of the database schema and is used to create and modify the structure of database objects in the database\n",
    "    \n",
    "    "
   ]
  },
  {
   "cell_type": "markdown",
   "id": "c2b88dfa-6096-4825-b7e5-8880313e115e",
   "metadata": {},
   "source": [
    "*CREATE*\n",
    "\n",
    "This command is used to create a new table in SQL."
   ]
  },
  {
   "cell_type": "markdown",
   "id": "7df28536-8dbf-44c8-9ef8-846f8690fb1f",
   "metadata": {},
   "source": [
    "Query:\n",
    "\n",
    "CREATE TABLE Student_info\n",
    "\n",
    "(College_Id number(2),\n",
    "\n",
    "College_name varchar(30),\n",
    "\n",
    "Branch varchar(10));"
   ]
  },
  {
   "cell_type": "markdown",
   "id": "4757c474-8694-42a4-b38f-bb7e0bf197d4",
   "metadata": {},
   "source": [
    "*ALTER* \n",
    "\n",
    "This command is used to add, delete or change columns in the existing table."
   ]
  },
  {
   "cell_type": "markdown",
   "id": "cec9dd00-caa5-4333-b5aa-a591f8757801",
   "metadata": {},
   "source": [
    "Query:\n",
    "\n",
    "ALTER TABLE table_name\n",
    "\n",
    "ADD column_name datatype;"
   ]
  },
  {
   "cell_type": "markdown",
   "id": "47b21f5a-5d27-4e58-b859-c81b625e189d",
   "metadata": {},
   "source": [
    "*TRUNCATE*\n",
    "\n",
    "This command is used to remove all rows from the table, but the structure of the table still exists."
   ]
  },
  {
   "cell_type": "markdown",
   "id": "7539624d-a4c3-45d1-8c48-645d968f8705",
   "metadata": {},
   "source": [
    "Query: TRUNCATE TABLE table_name;"
   ]
  },
  {
   "cell_type": "markdown",
   "id": "3b7c3d88-4dc1-4401-91c1-b2d243adbe14",
   "metadata": {},
   "source": [
    "*DROP*\n",
    "\n",
    "This command is used to remove an existing table along with its structure from the Database."
   ]
  },
  {
   "cell_type": "markdown",
   "id": "a8464aa5-1b7d-4fed-988d-dbb85c6519c8",
   "metadata": {},
   "source": [
    "Query: DROP TABLE table_name;"
   ]
  },
  {
   "cell_type": "markdown",
   "id": "6348e1ed-eacc-4839-aa48-553819534989",
   "metadata": {},
   "source": [
    "Q3. What is DML? Explain INSERT, UPDATE, and DELETE with an example."
   ]
  },
  {
   "cell_type": "markdown",
   "id": "d4d577df-6734-4c13-a254-7eec96080377",
   "metadata": {},
   "source": [
    "ans:\n",
    "\n",
    "DML is an abbreviation of Data Manipulation Language. The DML in DBMS is responsible for performing CRUD (Create Read Update and Delete) operations on the data of the database table. Data Manipulation Language (DML) allows you to modify the database tables by inserting, modifying, and deleting their data.\n"
   ]
  },
  {
   "cell_type": "markdown",
   "id": "fc5da914-26a9-4ef2-9084-f572b6d91738",
   "metadata": {},
   "source": [
    "*INSERT*\n",
    "\n",
    "This command is used to enter the information or values into a row"
   ]
  },
  {
   "cell_type": "markdown",
   "id": "acaf0740-5a9a-47b9-acd7-4de502793944",
   "metadata": {},
   "source": [
    "Query:\n",
    "\n",
    "INTO students ('stu_id' int, 'stu_name' varchar(20), 'city' varchar(20))\n",
    "\n",
    "VALUES ('1', 'Nirmit', 'Gorakhpur'); "
   ]
  },
  {
   "cell_type": "markdown",
   "id": "16eefc90-63c2-4ac2-842e-22809d085c22",
   "metadata": {},
   "source": [
    "*UPDATE*\n",
    "\n",
    "This command is used to alter existing table records. Within a table, it modifies data from one or more records."
   ]
  },
  {
   "cell_type": "markdown",
   "id": "5708a9ff-21e5-4a56-afde-4ffa38ccc71a",
   "metadata": {},
   "source": [
    "Query:\n",
    "\n",
    "UPDATE students\n",
    "\n",
    "SET due_fees = 20000\n",
    "\n",
    "WHERE stu_name = 'Mini'; "
   ]
  },
  {
   "cell_type": "markdown",
   "id": "791dab0b-8a00-4171-be17-854ceec049b1",
   "metadata": {},
   "source": [
    "*DELETE*\n",
    "\n",
    "It deletes all archives from a table. This command is used to erase some or all of the previous table’s records. If we do not specify the ‘WHERE’ condition then all the rows would be erased or deleted."
   ]
  },
  {
   "cell_type": "markdown",
   "id": "2e838a9d-13a3-4bef-b96b-1c84777c5480",
   "metadata": {},
   "source": [
    "DELETE FROM students\n",
    "\n",
    "Query:\n",
    "\n",
    "WHERE stu_id = '001';"
   ]
  },
  {
   "cell_type": "markdown",
   "id": "5d493a9a-6042-4d8f-9792-c51c5de42e74",
   "metadata": {},
   "source": [
    "Q4. What is DQL? Explain SELECT with an example."
   ]
  },
  {
   "cell_type": "markdown",
   "id": "62b8304c-6a53-4d9c-8046-c2e5f94fa81b",
   "metadata": {},
   "source": [
    "ans:\n",
    "\n",
    "DQL (Data Query Language).\n",
    "DQL statements are used for performing queries on the data within schema objects. The purpose of the DQL Command is to get some schema relation based on the query passed to it\n",
    "\n"
   ]
  },
  {
   "cell_type": "markdown",
   "id": "a182628f-8e6a-4878-8f91-f8b0ddd8e4ba",
   "metadata": {},
   "source": [
    "*SELECT*\n",
    "\n",
    "To fetch the entire table or all the fields in the table."
   ]
  },
  {
   "cell_type": "markdown",
   "id": "be620149-d4ce-4e3a-8428-3d93190cf214",
   "metadata": {},
   "source": [
    "Query:\n",
    "\n",
    "SELECT CustomerName, LastName FROM Customer;"
   ]
  },
  {
   "cell_type": "markdown",
   "id": "3fbac23c-bd87-45a9-a9e3-712806ce66a8",
   "metadata": {},
   "source": [
    " SELECT * FROM Customer; "
   ]
  },
  {
   "cell_type": "markdown",
   "id": "d2e04303-71be-4fa2-8580-6ac17d9d95f2",
   "metadata": {},
   "source": [
    "*SELECT Statement with WHERE Clause*\n",
    "\n",
    "Suppose we want to see table values with specific conditions then Where Clause is used with select statement"
   ]
  },
  {
   "cell_type": "markdown",
   "id": "23cd4fb6-1117-4319-87c5-8a2966cb0538",
   "metadata": {},
   "source": [
    "Query: SELECT CustomerName FROM Customer where Age = '21'; "
   ]
  },
  {
   "cell_type": "markdown",
   "id": "fa721dc8-0dbb-4b72-b9e9-cfc2e910b8a5",
   "metadata": {},
   "source": [
    "*SQL SELECT Statement with GROUP BY Clause Query*\n",
    "\n",
    "Query: SELECT COUNT (item), Customer_id FROM Orders GROUP BY order_id; \n"
   ]
  },
  {
   "cell_type": "markdown",
   "id": "befc2831-9a27-4717-9dca-ccfe74b6dd38",
   "metadata": {},
   "source": [
    "*SELECT Statement with HAVING Clause*\n",
    "\n",
    "Query:\n",
    "\n",
    "SELECT Department, sum(Salary) as Salary\n",
    "\n",
    "FROM employee\n",
    "\n",
    "GROUP BY department\n",
    "\n",
    "HAVING SUM(Salary) >= 50000;  "
   ]
  },
  {
   "cell_type": "markdown",
   "id": "cced3735-93ad-48eb-a424-1af7b5dba252",
   "metadata": {},
   "source": [
    "*SELECT Statement with ORDER BY clause in SQL*\n",
    "\n",
    "Query:\n",
    "\n",
    "SELECT * FROM Customer ORDER BY Age DESC;  "
   ]
  },
  {
   "cell_type": "markdown",
   "id": "3b4a76c8-eaca-43e5-a2df-590aa00f26dd",
   "metadata": {},
   "source": [
    "Q5. Explain Primary Key and Foreign Key."
   ]
  },
  {
   "cell_type": "markdown",
   "id": "db61cbb1-5470-4f8c-bc21-34f14bf9bb48",
   "metadata": {},
   "source": [
    "ans:\n",
    "\n",
    "A primary key is used to ensure that data in the specific column is unique. A column cannot have NULL values. It is either an existing table column or a column that is specifically generated by the database according to a defined sequence. \n",
    "\n",
    "Example: STUD_NO, as well as STUD_PHONE both, are candidate keys for relation STUDENT but STUD_NO can be chosen as the primary key\n",
    "    \n",
    "    "
   ]
  },
  {
   "cell_type": "markdown",
   "id": "bfceec63-c382-4150-a0bd-c205f0af0f04",
   "metadata": {},
   "source": [
    "A foreign key is a column or group of columns in a relational database table that provides a link between data in two tables. It is a column (or columns) that references a column (most often the primary key) of another table. \n",
    "\n",
    "Example: STUD_NO in STUDENT_COURSE is a foreign key to STUD_NO in STUDENT relation. "
   ]
  },
  {
   "cell_type": "markdown",
   "id": "f1e6e273-8e3e-4f0e-b3f6-e2503c4ac096",
   "metadata": {},
   "source": [
    "Q6. Write a python code to connect MySQL to python. Explain the cursor() and execute() method."
   ]
  },
  {
   "cell_type": "markdown",
   "id": "7e35bfde-dacd-461f-90d8-223710c4227f",
   "metadata": {},
   "source": [
    "import mysql.connector\n",
    "\n",
    "mydb = mysql.connector.connect(\n",
    "\n",
    "  host=\"localhost\",\n",
    "  \n",
    "  user=\"abc\",\n",
    "  \n",
    "  password=\"password\")"
   ]
  },
  {
   "cell_type": "markdown",
   "id": "616f33b4-9185-4772-a1eb-92e7ab4d3213",
   "metadata": {},
   "source": [
    "cursor() method: they are bound to the connection for the entire lifetime and all the commands are executed in the context of the database session wrapped by the connection.  Cursors are created by the connection.cursor() method"
   ]
  },
  {
   "cell_type": "markdown",
   "id": "6dc5e4d4-b8ed-4783-b586-a9eb5ea30b56",
   "metadata": {},
   "source": [
    "Example : mycursor = conn.cursor()"
   ]
  },
  {
   "cell_type": "markdown",
   "id": "23eb3507-fea7-4976-bbfc-065b7b3c2221",
   "metadata": {},
   "source": [
    "The execute () method helps us to execute the query and return records according to the query."
   ]
  },
  {
   "cell_type": "markdown",
   "id": "889c95d9-25c9-4629-97d3-fe7898d2c02e",
   "metadata": {},
   "source": [
    "Example:\n",
    "\n",
    "mycursor = conn.cursor()\n",
    "\n",
    "mycursor.execute(\"SELECT * FROM MOVIE\")\n",
    "    \n",
    "    "
   ]
  },
  {
   "cell_type": "markdown",
   "id": "ff7ff145-9650-456c-b80c-39e2682c485f",
   "metadata": {},
   "source": [
    "Q7. Give the order of execution of SQL clauses in an SQL query."
   ]
  },
  {
   "cell_type": "markdown",
   "id": "0e965b3f-3cdc-44c8-b680-6fe658fe2240",
   "metadata": {},
   "source": [
    "# *7 STAGES OF SQL ORDER OF EXECUTION*\n",
    "# 1. FROM/JOIN : Choose and join tables to get base data\n",
    "# 2. WHERE: Filters the base data\n",
    "# 3. GROUP BY: Aggregates the base data\n",
    "# 4. HAVING: Filters the aggregated data\n",
    "# 5. SELECT: Return the final data \n",
    "# 6. ORDER BY: Sorts the final data\n",
    "# 7. LIMIT/OFFSET: Limit the returned data to a row count"
   ]
  },
  {
   "cell_type": "code",
   "execution_count": null,
   "id": "d798de5e-54c4-4143-9d7e-111f82cd99cc",
   "metadata": {},
   "outputs": [],
   "source": []
  }
 ],
 "metadata": {
  "kernelspec": {
   "display_name": "Python 3 (ipykernel)",
   "language": "python",
   "name": "python3"
  },
  "language_info": {
   "codemirror_mode": {
    "name": "ipython",
    "version": 3
   },
   "file_extension": ".py",
   "mimetype": "text/x-python",
   "name": "python",
   "nbconvert_exporter": "python",
   "pygments_lexer": "ipython3",
   "version": "3.10.8"
  }
 },
 "nbformat": 4,
 "nbformat_minor": 5
}

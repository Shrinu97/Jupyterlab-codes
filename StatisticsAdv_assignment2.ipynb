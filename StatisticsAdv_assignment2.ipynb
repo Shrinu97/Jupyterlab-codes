{
 "cells": [
  {
   "cell_type": "markdown",
   "id": "0c0e8e3b-cb36-4350-9c9e-f5c84e3c044f",
   "metadata": {},
   "source": [
    "Q1: What are the Probability Mass Function (PMF) and Probability Density Function (PDF)? Explain with\n",
    "an example."
   ]
  },
  {
   "cell_type": "markdown",
   "id": "41c0514c-7597-4f5d-b92b-caee26306d8a",
   "metadata": {},
   "source": [
    "ans:\n",
    "\n",
    "**Probability Mass Function:**\n",
    "\n",
    "The Probability Mass Function (PMF) is also called a probability function or frequency function which characterizes the distribution of a discrete random variable. Let X be a discrete random variable of a function, then the probability mass function of a random variable X is given by\n",
    "\n",
    "f(x) = P( X=x ), For all x belongs to the range of X.\n",
    "\n",
    "The probability mass function P(X = x) = f(x) of a discrete random variable is a function that satisfies the following properties:\n",
    "\n",
    "i)   P(X = x) = f(x) > 0; if x ∈ Range of X that supports\n",
    "\n",
    "ii)  Summation of f(x) for  x ∈ Range of X\n",
    "\n",
    "iii) P(X ∈ A) = summation of f(x) for x ∈ A\n",
    "\n",
    "For example, we can use a PMF to calculate the probability of getting exactly three heads in a series of coin flips. This process involves plugging the value into the correct probability mass function and calculating the likelihood."
   ]
  },
  {
   "cell_type": "markdown",
   "id": "77ecba9c-b467-4b59-8506-d67a6e9fd9e0",
   "metadata": {},
   "source": [
    "**Probability Density Function:**"
   ]
  },
  {
   "cell_type": "markdown",
   "id": "9acdc80b-e802-402c-bc1c-f3258548df51",
   "metadata": {},
   "source": [
    "The probability density function is defined as an integral of the density of the variable density over a given range. It is denoted by f (x). This function is positive or non-negative at any point of the graph, and the integral, more specifically the definite integral of PDF over the entire space is always equal to one."
   ]
  },
  {
   "cell_type": "markdown",
   "id": "295579dc-7b3b-4da3-a481-4fbb8bcccc93",
   "metadata": {},
   "source": [
    "In the case of a continuous random variable, the probability taken by X on some given value x is always 0. In this case, if we find P(X = x), it does not work. Instead of this, we must calculate the probability of X lying in an interval (a, b). Now, we have to figure it for P(a< X< b), and we can calculate this using the formula of PDF. The Probability density function formula is given as,\n",
    "\n",
    "P(a < X < b) = Integral of f(x)dx from a to b\n",
    "\n",
    "or\n",
    "\n",
    "P(a <= X <= b) = Integral of f(x)dx from a to b\n",
    "\n",
    "This is because, when X is continuous, we can ignore  the endpoints of intervals while finding probabilities of continuous random variables. That means, for any constants a and b,\n",
    "\n",
    "P(a ≤ X ≤ b) = P(a < X ≤ b) = P(a ≤ X < b) = P(a < X < b).\n",
    "\n",
    "For example, what are the chances that the next IQ score you measure will fall between 120 and 140."
   ]
  },
  {
   "cell_type": "markdown",
   "id": "eccb3da7-08a3-48ec-9392-6426f4908155",
   "metadata": {},
   "source": [
    "Q2: What is Cumulative Density Function (CDF)? Explain with an example. Why CDF is used?"
   ]
  },
  {
   "cell_type": "markdown",
   "id": "08306898-7af7-4bf8-a521-524d729c3cc5",
   "metadata": {},
   "source": [
    "ans:\n",
    "\n",
    "The cumulative distribution function (cdf) gives the probability that the random variable X is less than or equal to x and is usually denoted F(x) . The cumulative distribution function of a random variable X is the function given by \n",
    "\n",
    "F(x)=P[X≤x]. F ( x ) = P [ X ≤ x ] .\n",
    "\n",
    "The cumulative distribution function (CDF) calculates the cumulative probability for a given x-value. Use the CDF to determine the likelihood that a random observation taken from the population will be less than or equal to a particular value.\n",
    "\n",
    "Example: \n",
    "\n",
    "What are the chances that when you toss a coin five times, you'll get four OR fewer heads? That's cumulative probability. The events in cumulative probability may be sequential, like coin tosses in a row, or they may be in a range.\n",
    "    "
   ]
  },
  {
   "cell_type": "markdown",
   "id": "a759bbdc-02e2-44f5-a408-1a7abfe39c43",
   "metadata": {},
   "source": [
    "Q3: What are some examples of situations where the normal distribution might be used as a model?\n",
    "Explain how the parameters of the normal distribution relate to the shape of the distribution."
   ]
  },
  {
   "cell_type": "markdown",
   "id": "d0ba3e6e-99fc-4a24-99c5-db9a3fa03883",
   "metadata": {},
   "source": [
    "Some examples of situations where the normal distribution can be used as model:\n",
    "\n",
    "1. In the scenario of increasing competition, most parents, as well as children, want to analyze the Intelligent Quotient level. Well, the IQ of a particular population is a normal distribution curve; where the IQ of a majority of the people in the population lies in the normal range whereas the IQ of the rest of the population lives in the deviated range.\n",
    "\n",
    "2. Most of us have heard about the rise and fall in the prices of shares in the stock market. These changes in the log values of Forex rates, price indices, and stock prices return often form a bell-shaped curve. For stock returns, the standard deviation is often called volatility. If returns are normally distributed, more than 99 percent of the returns are expected to fall within the deviations of the mean value. Such characteristics of the bell-shaped normal distribution allow analysts and investors to make statistical inferences about the expected return and risk of stocks. \n",
    "\n",
    "3. Blood pressure generally follows a Gaussian distribution (normal) in the general population, and it makes Gaussian mixture models a suitable candidate for modelling blood pressure behaviour.\n",
    "\n",
    "4. The normal birth weight of a newborn ranges from 2.5 to 3.5 kg. The majority of newborns have normal birthweight whereas only a few percent of newborns have a weight higher or lower than normal. Hence, birth weight also follows the normal distribution curve."
   ]
  },
  {
   "cell_type": "markdown",
   "id": "d2a7c108-233f-4994-accc-cc3e983e32c4",
   "metadata": {},
   "source": [
    "The two main parameters of a (normal) distribution are the mean and standard deviation. The parameters determine the shape and probabilities of the distribution. The shape of the distribution changes as the parameter values change.\n",
    "\n",
    "The steeper the bell curve, the smaller the standard deviation. If the examples are spread far apart, the bell curve will be much flatter, meaning the standard deviation is large."
   ]
  },
  {
   "cell_type": "markdown",
   "id": "9dcc2cc5-1d28-45e0-a0dd-e358ef5db506",
   "metadata": {},
   "source": [
    "Q4: Explain the importance of Normal Distribution. Give a few real-life examples of Normal\n",
    "Distribution."
   ]
  },
  {
   "cell_type": "markdown",
   "id": "f0ff2873-557d-45b1-b884-fea8203cd17a",
   "metadata": {},
   "source": [
    "ans: \n",
    "\n",
    "1. It has one of the important properties called central theorem. Central theorem means relationship between shape of population distribution and shape of sampling distribution of mean. This means that sampling distribution of mean approaches normal as sample size increase.\n",
    "\n",
    "2. In case the sample size is large the normal distribution serves as good approximation.\n",
    "\n",
    "3. Due to its mathematical properties it is more popular and easy to calculate.\n",
    "\n",
    "4. It is used in statistical quality control in setting up of control limits.\n",
    "\n",
    "5. The whole theory of sample tests t, f and chi-square test is based on the normal distribution.\n",
    "\n"
   ]
  },
  {
   "cell_type": "markdown",
   "id": "fc08574e-4f9e-4f1e-bf48-5e495b775081",
   "metadata": {},
   "source": [
    "Few real-life examples of Normal Distribution:\n",
    "\n",
    "1.  A person's height is determined by many small effects including genetics (there will be several genes that contribute to height), nutrition (not just good/bad, but what was actually eaten each day that the person was growing), environmental polutions (again each day contributed a small effect), and other things. So heights (within sex/race combinations) are approximately normal.\n",
    "\n",
    "2. A fair rolling of dice is also a good example of normal distribution. In an experiment, it has been found that when a dice is rolled 100 times, chances to get ‘1’ are 15-18% and if we roll the dice 1000 times, the chances to get ‘1’ is, again, the same, which averages to 16.7% (1/6). If we roll two dice simultaneously, there are 36 possible combinations. The probability of rolling ‘1’ (with six possible combinations) again averages to around 16.7%, i.e., (6/36). More the number of dice more elaborate will be the normal distribution graph.\n",
    "\n",
    "3. Flipping a coin is one of the oldest methods for settling disputes. We all have flipped a coin before a match or game. The perceived fairness in flipping a coin lies in the fact that it has equal chances to come up with either result. The chances of getting a head are 1/2, and the same is for tails. When we add both, it equals one. If we toss coins multiple times, the sum of the probability of getting heads and tails will always remain 1."
   ]
  },
  {
   "cell_type": "markdown",
   "id": "4b219615-7be2-4e6e-a804-7441507c6907",
   "metadata": {},
   "source": [
    "Q5: What is Bernaulli Distribution? Give an Example. What is the difference between Bernoulli Distribution and Binomial Distribution?"
   ]
  },
  {
   "cell_type": "markdown",
   "id": "834de7ea-5f80-4e33-950c-7f6b1fdcd7d4",
   "metadata": {},
   "source": [
    "ans:\n",
    "\n",
    "A Bernoulli distribution is a discrete probability distribution for a Bernoulli trial — a random experiment that has only two outcomes (usually called a “Success” or a “Failure”).\n",
    "It is a special case of the binomial distribution for n = 1. In other words, it is a binomial distribution with a single trial (e.g. a single coin toss).\n",
    "\n",
    "For example, the probability of getting a heads (a “success”) while flipping a coin is 0.5.The probability of “failure” is 1 – P (1 minus the probability of success, which also equals 0.5 for a coin toss)."
   ]
  },
  {
   "cell_type": "markdown",
   "id": "79923c30-9c48-4002-b102-e263f40562b7",
   "metadata": {},
   "source": [
    "The difference between Bernoulli Distribution and Binomial Distribution:\n",
    "\n",
    "1. Bernoulli deals with the outcome of the single trial of the event, whereas Binomial deals with the outcome of the multiple trials of the single event.\n",
    "\n",
    "2. Bernoulli is used when the outcome of an event is required for only one time, whereas the Binomial is used when the outcome of an event is required multiple times.\n",
    "\n",
    "3. Bernoulli is subset of Binomial Distribution."
   ]
  },
  {
   "cell_type": "markdown",
   "id": "8c189877-a4fa-4806-9ed0-ceac7a9970c7",
   "metadata": {},
   "source": [
    "Q6. Consider a dataset with a mean of 50 and a standard deviation of 10. If we assume that the dataset\n",
    "is normally distributed, what is the probability that a randomly selected observation will be greater\n",
    "than 60? Use the appropriate formula and show your calculations."
   ]
  },
  {
   "cell_type": "markdown",
   "id": "815268bf-887d-4fa0-b73a-7553f71d75ba",
   "metadata": {},
   "source": [
    "ans:\n",
    "\n",
    "Mean = 50 and standard deviation = 10\n",
    "\n",
    "As per empirical rule : 68-95-99.7\n",
    "\n",
    "1. The probability that a randomly selected observation will be in mean +/- 1st standard deviation = 68% or 0.68\n",
    "\n",
    "2. The probability that a randomly selected observation will be in mean +/- 2nd standard deviation = 95% or 0.95\n",
    "\n",
    "3. The probability that a randomly selected observation will be in mean +/- 3rd standard deviation = 99.7% or 0.997\n",
    "\n",
    "Mean + standard deviation = 50+10 = 60\n",
    "\n",
    "The probability that a randomly selected observation will be greater than 60 = ((50-(68/2)) = 16% or 0.16"
   ]
  },
  {
   "cell_type": "markdown",
   "id": "2a5d1e14-7b26-41ae-b071-15f5cab36345",
   "metadata": {},
   "source": [
    "Q7: Explain uniform Distribution with an example."
   ]
  },
  {
   "cell_type": "markdown",
   "id": "7b5d662c-be07-48d6-8fd8-6f5e22dc3a42",
   "metadata": {},
   "source": [
    "ans: \n",
    "\n",
    "In statistics, uniform distribution refers to a type of probability distribution in which all outcomes are equally likely.\n",
    "\n",
    "The uniform distribution can be visualized as a straight horizontal line, so for a coin flip returning a head or tail, both have a probability p = 0.50 and would be depicted by a line from the y-axis at 0.50.\n",
    "\n",
    "A deck of cards has within it uniform distributions because the likelihood of drawing a heart, a club, a diamond, or a spade is equally likely. A coin also has a uniform distribution because the probability of getting either heads or tails in a coin toss is the same."
   ]
  },
  {
   "cell_type": "markdown",
   "id": "2089d640-6637-4ab8-905b-7f15fbbb8345",
   "metadata": {},
   "source": [
    "There are two types of uniform distributions: \n",
    "\n",
    "1. Discrete \n",
    "\n",
    "2. Continuous"
   ]
  },
  {
   "cell_type": "markdown",
   "id": "251bb260-ce3a-4b54-b0a9-e2afc7a30b86",
   "metadata": {},
   "source": [
    "In a discrete uniform distribution, outcomes are discrete and have the same probability.\n",
    "Rolling a die provide an example of a discrete uniform distribution: it is possible to roll a 1, 2, 3, 4, 5, or 6. The roll of a die generates a discrete distribution with p = 1/6 for each outcome. There are only 6 possible values to return and nothing in between.\n",
    "\n",
    "In a continuous uniform distribution, outcomes are continuous and infinite. An idealized random number generator would be considered a continuous uniform distribution. With this type of distribution, every point in the continuous range between 0.0 and 1.0 has an equal opportunity of appearing, yet there is an infinite number of points between 0.0 and 1.0."
   ]
  },
  {
   "cell_type": "markdown",
   "id": "46b4ec18-5123-425d-ad3a-9f812958f0e9",
   "metadata": {},
   "source": [
    "Q8: What is the z score? State the importance of the z score."
   ]
  },
  {
   "cell_type": "markdown",
   "id": "fa5a5498-38e9-4b9a-a312-88317dec433c",
   "metadata": {},
   "source": [
    "ans:\n",
    "\n",
    "A z-score tells us the number of standard deviations a value is from the mean of a given distribution. negative z-scores indicate the value lies below the mean. positive z-scores indicate the value lies above the mean.\n",
    "\n",
    "The formula for calculating a z-score is z = (x-μ)/σ, where x is the raw score, μ is the population mean, and σ is the population standard deviation. \n",
    "\n",
    "For example, a Z-score of 1.2 shows that your observed value is 1.2 standard deviations from the mean. A Z-score of 2.5 means your observed value is 2.5 standard deviations from the mean and so on."
   ]
  },
  {
   "cell_type": "markdown",
   "id": "cd5cc38f-4463-44f0-b4fd-46bf81939029",
   "metadata": {},
   "source": [
    "The Z-score is important because it lets statisticians and traders know whether a score falls within the norm for a given data set or deviates from it. Analysts can also modify scores from multiple data sets using Z-scores to create scores that are more accurately comparable to one another.\n",
    "\n",
    "Because they allow for a comparison between two scores that do not belong to the same normal distribution, z-scores are significant. They are also employed to determine the likelihood that a z-score will occur inside a normal distribution. A negative z-score indicates that the raw data is smaller than the mean. The raw score is higher than the average if the z-score is positive."
   ]
  },
  {
   "cell_type": "markdown",
   "id": "8cd118e3-ce06-44fc-ac59-f7ad05c027ad",
   "metadata": {},
   "source": [
    "Q9: What is Central Limit Theorem? State the significance of the Central Limit Theorem."
   ]
  },
  {
   "cell_type": "markdown",
   "id": "218ce109-0e89-4b78-8791-33f8f92dfb9b",
   "metadata": {},
   "source": [
    "ans:\n",
    "\n",
    "The CLT is a statistical theory that states that - if you take a sufficiently large sample size from a population with a finite level of variance, the mean of all samples from that population will be roughly equal to the population mean.\n",
    "\n",
    "\n",
    "Significance of Central Limit Theorem:\n",
    "\n",
    "It enables us to disregard the shape of the population when the value of n is relatively large.\n",
    "\n",
    "It allows one to assume that the sampling distribution of the mean will be normally-distributed in most cases. This allows for easier statistical analysis and inference."
   ]
  },
  {
   "cell_type": "markdown",
   "id": "4d9fdeac-dd76-4572-a849-d3cfb18ea71f",
   "metadata": {},
   "source": [
    "Q10: State the assumptions of the Central Limit Theorem."
   ]
  },
  {
   "cell_type": "markdown",
   "id": "1cc1f3e6-9af0-423f-a317-d3b1fb6be20b",
   "metadata": {},
   "source": [
    "ans:\n",
    "\n",
    "Assumptions of the Central Limit Theorem:\n",
    "\n",
    "1. The data must adhere to the randomization rule. It needs to be sampled at random.\n",
    "\n",
    "2. The samples should be unrelated to one another. One sample should not impact the others.\n",
    "\n",
    "3. When taking samples without replacement, the sample size should not exceed 10% of the population.\n",
    "\n",
    "4. When the population is symmetric, a sample size of 30 is generally considered reasonable.\n"
   ]
  },
  {
   "cell_type": "code",
   "execution_count": null,
   "id": "3783c0ab-2c9d-4bbc-ba82-5f273fcc9453",
   "metadata": {},
   "outputs": [],
   "source": []
  }
 ],
 "metadata": {
  "kernelspec": {
   "display_name": "Python 3 (ipykernel)",
   "language": "python",
   "name": "python3"
  },
  "language_info": {
   "codemirror_mode": {
    "name": "ipython",
    "version": 3
   },
   "file_extension": ".py",
   "mimetype": "text/x-python",
   "name": "python",
   "nbconvert_exporter": "python",
   "pygments_lexer": "ipython3",
   "version": "3.10.8"
  }
 },
 "nbformat": 4,
 "nbformat_minor": 5
}

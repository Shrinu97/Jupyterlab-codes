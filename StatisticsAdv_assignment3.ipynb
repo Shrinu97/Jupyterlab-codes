{
 "cells": [
  {
   "cell_type": "markdown",
   "id": "00fcb6bf-789e-462c-bfd8-12ee970e1eb1",
   "metadata": {},
   "source": [
    "Q1: What is Estimation Statistics? Explain point estimate and interval estimate."
   ]
  },
  {
   "cell_type": "markdown",
   "id": "e92dbaba-5963-4d77-8609-bd876e18c0a5",
   "metadata": {},
   "source": [
    "ans:\n",
    "\n",
    "**Estimate** : It is an observed numerical value used to estimate an unkown population parameter.\n",
    "\n",
    "**Point Estimate** : Single numerical value used to estimate the unkown population parameter.\n",
    "\n",
    "Sample mean is a point estimate of a population mean. Sometimes, we can predict/say population mean is equal to sample mean. But sometimes population mean and sample mean differ by significant value.\n",
    "\n",
    "**Interval Estimate** : Range of values is used to estimate the unknown population parameter.\n",
    "\n",
    "Interval Estimates of population parameter are called Confidence Intervals. This helps in covering the demerit of point estimate.\n",
    "\n"
   ]
  },
  {
   "cell_type": "markdown",
   "id": "c9764fd3-82fa-48bc-90cf-433b55fa52b5",
   "metadata": {},
   "source": [
    "Q2. Write a Python function to estimate the population mean using a sample mean and standard deviation."
   ]
  },
  {
   "cell_type": "markdown",
   "id": "2d18724d-af0b-4d6c-9786-5736da6ecc89",
   "metadata": {},
   "source": [
    "ans:\n",
    "\n",
    "population mean  = sample mean + standard deviation"
   ]
  },
  {
   "cell_type": "markdown",
   "id": "5e428161-86fe-4fa8-8d69-1992708a6578",
   "metadata": {},
   "source": [
    "Q3: What is Hypothesis testing? Why is it used? State the importance of Hypothesis testing."
   ]
  },
  {
   "cell_type": "markdown",
   "id": "72216066-3e0d-404f-bc27-5c6c6f187a2a",
   "metadata": {},
   "source": [
    "ans:\n",
    "\n",
    "Hypothesis testing is a systematic procedure for deciding whether the results of a research study support a particular theory which applies to a population. \n",
    "\n",
    "It is used to estimate the relationship between 2 statistical variables.Hypothesis testing uses sample data to evaluate a hypothesis about a population.\n",
    "\n",
    "\n",
    "Hypothesis testing is one of the most important concepts in statistics because it is how you decide if something really happened, or if certain treatments have positive effects, or if groups differ from each other or if one variable predicts another. In short, you want to proof if your data is statistically significant and unlikely to have occurred by chance alone. In essence then, a hypothesis test is a test of significance.\n"
   ]
  },
  {
   "cell_type": "markdown",
   "id": "3d5e8b8e-fcd9-4aaf-8a30-17c261c24e6d",
   "metadata": {},
   "source": [
    "Q4. Create a hypothesis that states whether the average weight of male college students is greater than the average weight of female college students."
   ]
  },
  {
   "cell_type": "markdown",
   "id": "bfd0cb3d-0f87-4b93-a86d-e9e1e235bd95",
   "metadata": {},
   "source": [
    "ans:\n",
    "\n",
    "**Null hypothesis** : The average weight of male college students is greater than the average weight of female college students.\n",
    "\n",
    "**Alternate hypothesis**: The average weight of male college students is either equal or less than the average height of female college students. "
   ]
  },
  {
   "cell_type": "markdown",
   "id": "bf6e585e-222c-4cb0-98e1-763cb0034492",
   "metadata": {},
   "source": [
    "Q5. Write a Python script to conduct a hypothesis test on the difference between two population means, given a sample from each population."
   ]
  },
  {
   "cell_type": "markdown",
   "id": "c79729ca-5d7f-478f-9c3f-7e27772c6dc0",
   "metadata": {},
   "source": [
    "ans:\n",
    "\n",
    "A t-test is an inferential statistic used to determine if there is a statistically significant difference between the means of two variables\n",
    "The t-test is a test used for hypothesis testing in statistics.\n",
    "\n",
    "For example: \n",
    "\n",
    "Researchers want to know whether or not two different species of plants have the same mean height. \n",
    "\n",
    "To test this, we collect a simple random sample of 20 plants from each species.\n"
   ]
  },
  {
   "cell_type": "markdown",
   "id": "5db902bd-86ea-46c4-a4af-fd2ff8f15e59",
   "metadata": {},
   "source": [
    "**Step 1: Create the data**:\n",
    "\n",
    "First, we’ll create two arrays to hold the measurements of each group of 20 plants"
   ]
  },
  {
   "cell_type": "code",
   "execution_count": 2,
   "id": "c17e837f-d57a-4a8e-b7bf-ace6c56fc394",
   "metadata": {},
   "outputs": [],
   "source": [
    "import numpy as np\n",
    "\n",
    "group1 = np.array([14, 15, 15, 16, 13, 8, 14, 17, 16, 14, 19, 20, 21, 15, 15, 16, 16, 13, 14, 12])\n",
    "group2 = np.array([15, 17, 14, 17, 14, 8, 12, 19, 19, 14, 17, 22, 24, 16, 13, 16, 13, 18, 15, 13])"
   ]
  },
  {
   "cell_type": "markdown",
   "id": "e7265bd1-f92b-453f-ae4f-7d6fe8bc1e76",
   "metadata": {},
   "source": [
    "**Step 2: Conduct a two sample t-test**:"
   ]
  },
  {
   "cell_type": "markdown",
   "id": "181822e4-4ac2-4d56-b0f6-3b406327b4dc",
   "metadata": {},
   "source": [
    "We’ll use the ttest_ind() function from the scipy.stats library to conduct a two sample t-test, which uses the following syntax"
   ]
  },
  {
   "cell_type": "markdown",
   "id": "0b55e3b9-6f34-455c-9daf-77ca0271a4b0",
   "metadata": {},
   "source": [
    "Before we perform the test, we need to decide if we’ll assume the two populations have equal variances or not. As a rule of thumb, we can assume the populations have equal variances if the ratio of the larger sample variance to the smaller sample variance is less than 4:1."
   ]
  },
  {
   "cell_type": "code",
   "execution_count": 3,
   "id": "33630983-59a8-4cc1-bc7a-7750b1db27f5",
   "metadata": {},
   "outputs": [
    {
     "name": "stdout",
     "output_type": "stream",
     "text": [
      "7.727500000000001 12.260000000000002\n"
     ]
    }
   ],
   "source": [
    "#find variance for each group\n",
    "print(np.var(group1), np.var(group2))"
   ]
  },
  {
   "cell_type": "markdown",
   "id": "514dd12e-b00d-431b-871f-da7b8f92d3b1",
   "metadata": {},
   "source": [
    "The ratio of the larger sample variance to the smaller sample variance is 12.26 / 7.73 = 1.586, which is less than 4. This means we can assume that the population variances are equal.\n",
    "\n",
    "Thus, we can proceed to perform the two sample t-test with equal variances"
   ]
  },
  {
   "cell_type": "code",
   "execution_count": 4,
   "id": "287456a0-e8fb-496f-af9a-77fca8939028",
   "metadata": {},
   "outputs": [
    {
     "data": {
      "text/plain": [
       "Ttest_indResult(statistic=-0.6337397070250238, pvalue=0.5300471010405257)"
      ]
     },
     "execution_count": 4,
     "metadata": {},
     "output_type": "execute_result"
    }
   ],
   "source": [
    "import scipy.stats as stats\n",
    "\n",
    "#perform two sample t-test with equal variances\n",
    "stats.ttest_ind(a=group1, b=group2, equal_var=True)\n"
   ]
  },
  {
   "cell_type": "markdown",
   "id": "9b1e4cf2-96e4-48f7-a4c3-c85774c1a980",
   "metadata": {},
   "source": [
    "The t test statistic is -0.6337 and the corresponding two-sided p-value is 0.53005."
   ]
  },
  {
   "cell_type": "markdown",
   "id": "8522836f-83e7-4013-9a0e-c069e21a9e4d",
   "metadata": {},
   "source": [
    "**Step 3: Interpret the results**:"
   ]
  },
  {
   "cell_type": "markdown",
   "id": "f3d6794b-6aa4-483e-ab04-8d86338d7404",
   "metadata": {},
   "source": [
    "The two hypotheses for this particular two sample t-test are as follows:\n",
    "\n",
    "H0: µ1 = µ2 (the two population means are equal)\n",
    "\n",
    "HA: µ1 ≠µ2 (the two population means are not equal)"
   ]
  },
  {
   "cell_type": "markdown",
   "id": "f5fd4651-3f91-442d-85bd-4898ca0e4b78",
   "metadata": {},
   "source": [
    "Because the p-value of our test (0.53005) is greater than alpha = 0.05, we fail to reject the null hypothesis of the test."
   ]
  },
  {
   "cell_type": "markdown",
   "id": "06c3d415-5326-45a0-8f02-7d33b67966fe",
   "metadata": {},
   "source": [
    "Q6: What is a null and alternative hypothesis? Give some examples."
   ]
  },
  {
   "cell_type": "markdown",
   "id": "a742f268-fb9f-4bff-883f-ef4aa8d6b416",
   "metadata": {},
   "source": [
    "ans:\n",
    "\n",
    "Ho: The null hypothesis: It is a statement about the population that either is believed to be true or is used to put forth an argument unless it can be shown to be incorrect beyond a reasonable doubt.\n",
    "\n",
    "Ha: The alternative hypothesis: It is a claim about the population that is contradictory to H0 and what we conclude when we reject Ho.\n",
    "\n",
    "After you have determined which hypothesis the sample supports, you make adecision. There are two options for a decision. They are “reject Ho” if the sample information favors the alternative hypothesis or “do not reject Ho” or “decline to reject Ho” if the sample information is insufficient to reject the null hypothesis."
   ]
  },
  {
   "cell_type": "markdown",
   "id": "4dc28021-504b-461b-9f15-6a6692093ad1",
   "metadata": {},
   "source": [
    "Example :\n",
    "\n",
    "A medical trial is conducted to test whether or not a new medicine reduces cholesterol by 25%. State the null and alternative hypotheses.\n",
    "\n",
    "H0 : The drug reduces cholesterol by 25%. p = 0.25\n",
    "\n",
    "Ha : The drug does not reduce cholesterol by 25%. p ≠ 0.25\n",
    "    "
   ]
  },
  {
   "cell_type": "markdown",
   "id": "54f3f8a6-6e1b-42e8-b66e-ee9b3f270aa8",
   "metadata": {},
   "source": [
    "Q7: Write down the steps involved in hypothesis testing."
   ]
  },
  {
   "cell_type": "markdown",
   "id": "74d93626-5b5c-4ac5-8b1f-c9a45f552463",
   "metadata": {},
   "source": [
    "ans:\n",
    "\n",
    "Hypothesis testing is used to determine the probability that a given hypothesis is valid. It is used to make statistical decisions using data of the experiment.\n",
    "\n",
    "The five steps involved in hypothesis testing are given as follows:"
   ]
  },
  {
   "cell_type": "markdown",
   "id": "c47e34f9-6077-402b-b004-6b1b6a7e73f2",
   "metadata": {},
   "source": [
    "1. Making assumptions:\n",
    "\n",
    "Hypothesis testing requires several assumptions. The various assumptions include considering the level of the measurement of the variable, the method of sampling, sample size, and shape of the probability distribution.\n",
    "\n",
    "2. Stating the research and null hypotheses and selecting alpha:\n",
    "\n",
    "The research hypothesis is the statement of expectation that will be tested by research. It is always expressed in terms of population parameters symbolized as H1\n",
    "The null hypothesis is a statistical analysis that contradicts the research hypothesis. It is usually denoted by H0:μ1=μ2 which shows that there is no difference between the population means.\n",
    "\n",
    "3. Selecting the sampling distribution and specifying the test statistic:\n",
    "\n",
    "A sample distribution shows every possible value a statistic can take in every possible sample of the population.\n",
    "\n",
    "4. Computing the test statistic:\n",
    "\n",
    "The test statistic is used to determine the difference between the means.\n",
    "\n",
    "5. Making a decision and interpreting the results:\n",
    "\n",
    "If the value of p is greater than alpha, the result is not significant.\n",
    "\n",
    "If the value of p is lesser than alpha, the result is significant."
   ]
  },
  {
   "cell_type": "markdown",
   "id": "be09e95a-bf99-4c14-b064-0de32cc6cd08",
   "metadata": {},
   "source": [
    "Q8. Define p-value and explain its significance in hypothesis testing."
   ]
  },
  {
   "cell_type": "markdown",
   "id": "bf1f80c0-2185-4ec6-b5a4-975d54afc314",
   "metadata": {},
   "source": [
    "ans:\n",
    "\n",
    "In statistics, the p-value is the probability of obtaining results at least as extreme as the observed results of a statistical hypothesis test, assuming that the null hypothesis is correct. \n",
    "\n",
    "The p-value serves as an alternative to rejection points to provide the smallest level of significance at which the null hypothesis would be rejected. A smaller p-value means that there is stronger evidence in favor of the alternative hypothesis."
   ]
  },
  {
   "cell_type": "markdown",
   "id": "53a1b0c6-0514-4b0e-8b9f-5a12c6992347",
   "metadata": {},
   "source": [
    "Q9. Generate a Student's t-distribution plot using Python's matplotlib library, with the degrees of freedom parameter set to 10."
   ]
  },
  {
   "cell_type": "code",
   "execution_count": 5,
   "id": "33fd95ac-5bb7-4858-ae40-d9f5bcaa5e5a",
   "metadata": {},
   "outputs": [],
   "source": [
    "import matplotlib.pyplot as plt\n",
    "import numpy as np\n",
    "from scipy.stats import t"
   ]
  },
  {
   "cell_type": "code",
   "execution_count": 6,
   "id": "46c9eb90-3dca-44d6-87af-f22012f1814c",
   "metadata": {},
   "outputs": [],
   "source": [
    "x = np.linspace(-5, 5, 100)\n",
    "df = 10"
   ]
  },
  {
   "cell_type": "code",
   "execution_count": 7,
   "id": "06164624-c394-4db7-8517-7c8ca6c655a3",
   "metadata": {},
   "outputs": [
    {
     "data": {
      "image/png": "[encoded data removed]",
      "text/plain": [
       "<Figure size 640x480 with 1 Axes>"
      ]
     },
     "metadata": {},
     "output_type": "display_data"
    }
   ],
   "source": [
    "y = t.pdf(x, df)\n",
    "plt.plot(x, y, label=f\"Degrees of Freedom = {df}\")\n",
    "plt.xlabel('x')\n",
    "plt.ylabel('PDF')\n",
    "plt.title('T-Distribution with Varying Degree of Freedom')\n",
    "plt.legend()\n",
    "plt.show()"
   ]
  },
  {
   "cell_type": "markdown",
   "id": "26f95e8b-a5c8-4015-b550-7d44ec8b09c6",
   "metadata": {},
   "source": [
    "Q10. Write a Python program to calculate the two-sample t-test for independent samples, given two random samples of equal size and a null hypothesis that the population means are equal."
   ]
  },
  {
   "cell_type": "code",
   "execution_count": 8,
   "id": "bd6a299e-0b76-4353-b31c-87a75998dc7b",
   "metadata": {},
   "outputs": [],
   "source": [
    "import numpy as np\n",
    "\n",
    "data1 = np.linspace(150,200,10)\n",
    "data2 = np.linspace(80,150,10)"
   ]
  },
  {
   "cell_type": "code",
   "execution_count": 9,
   "id": "575ae531-01ed-4635-8e99-263922cfe4ec",
   "metadata": {},
   "outputs": [
    {
     "name": "stdout",
     "output_type": "stream",
     "text": [
      "254.62962962962965 499.07407407407425\n"
     ]
    }
   ],
   "source": [
    "#find variance for each group\n",
    "print(np.var(data1), np.var(data2))"
   ]
  },
  {
   "cell_type": "code",
   "execution_count": 10,
   "id": "55d47813-9408-48e9-9043-e1b1b3f1e713",
   "metadata": {},
   "outputs": [
    {
     "data": {
      "text/plain": [
       "1.9600000000000006"
      ]
     },
     "execution_count": 10,
     "metadata": {},
     "output_type": "execute_result"
    }
   ],
   "source": [
    "#var(data2)/var(data1)\n",
    "499.07407407407425/254.62962962962965"
   ]
  },
  {
   "cell_type": "markdown",
   "id": "27112e0b-d2d8-4cbb-8a35-34b41c9cb202",
   "metadata": {},
   "source": [
    "The ratio of the larger sample variance to the smaller sample variance is 499.07407407407425/254.62962962962965=1.9600000000000006 , which is less than 4. This means we can assume that the population variances are equal.\n",
    "\n",
    "Thus, we can proceed to perform the two sample t-test with equal variances."
   ]
  },
  {
   "cell_type": "code",
   "execution_count": 11,
   "id": "74efbc1c-4fdb-4f4f-b6cc-28f67bc614d1",
   "metadata": {},
   "outputs": [
    {
     "data": {
      "text/plain": [
       "Ttest_indResult(statistic=6.556501733982458, pvalue=3.6795495169211802e-06)"
      ]
     },
     "execution_count": 11,
     "metadata": {},
     "output_type": "execute_result"
    }
   ],
   "source": [
    "import scipy.stats as stats\n",
    "\n",
    "#perform two sample t-test with equal variances\n",
    "stats.ttest_ind(a=data1, b=data2, equal_var=True)\n"
   ]
  },
  {
   "cell_type": "markdown",
   "id": "5a2f9e11-4702-4fcd-bf75-9e5753a44d10",
   "metadata": {},
   "source": [
    "The two hypotheses for this particular two sample t-test are as follows:\n",
    "\n",
    "H0: µ1 = µ2 (the two population means are equal)\n",
    "\n",
    "HA: µ1 ≠µ2 (the two population means are not equal)\n",
    "\n",
    "Because the p-value of our test (3.6795495169211802e-06) is less than alpha = 0.05, we reject the null hypothesis of the test."
   ]
  },
  {
   "cell_type": "markdown",
   "id": "9e4c8999-8e5d-4cc2-96f8-15706af4c66e",
   "metadata": {},
   "source": [
    "Q11: What is Student’s t distribution? When to use the t-Distribution."
   ]
  },
  {
   "cell_type": "markdown",
   "id": "4c7925b4-109e-4637-b6a8-13ceef7b63de",
   "metadata": {},
   "source": [
    "ans:\n",
    "\n",
    "Student’s t-distribution, also known as the t-distribution, is a probability distribution that is used in statistics for making inferences about the population mean when the sample size is small or when the population standard deviation is unknown."
   ]
  },
  {
   "cell_type": "markdown",
   "id": "11810405-9ac8-42b5-a7e2-607e6d59e3f0",
   "metadata": {},
   "source": [
    "Student’s t Distribution is used when:\n",
    "\n",
    "1. The sample size is 30 or less than 30.\n",
    "2. The population standard deviation(σ) is unknown.\n",
    "3. The population distribution must be unimodal and skewed."
   ]
  },
  {
   "cell_type": "markdown",
   "id": "5d379ac9-8dfe-4711-89e4-d1270b4a2b97",
   "metadata": {},
   "source": [
    "Q12: What is t-statistic? State the formula for t-statistic."
   ]
  },
  {
   "cell_type": "markdown",
   "id": "7165e467-1e69-4c69-b6ce-c1404c284ab8",
   "metadata": {},
   "source": [
    "ans:\n",
    "\n",
    "A t-test is a statistical test that is usually used to compare the measured means of two groups that we have taken. A test acts as one of the hypothesis testing tools, which allows testing of our assumption to a population.\n",
    "\n",
    "A t-test depends on the t-statistic, the t-distribution (which is similar to normal distribution), and the degrees of freedom to find the statistical significance.\n",
    "And the term statistic is a quantity that can be obtained finally from a sample of a population. \n",
    "\n",
    "Example for a statistic: In a school, We are taking a sample of 100 students out of 1000\n",
    "students. And then we are looking at the average height of our sample students. The resulting average is the statistic of our assumed sample.\n",
    "\n",
    "\n",
    "Formula used:\n",
    "\n",
    "t−statistic = (sample mean -population mean)/(standard deviation of the sample/ square root of sample size)\n"
   ]
  },
  {
   "cell_type": "markdown",
   "id": "e87e2738-67d5-460c-a387-ada0b507bd3a",
   "metadata": {},
   "source": [
    "Q13. A coffee shop owner wants to estimate the average daily revenue for their shop. They take a random sample of 50 days and find the sample mean revenue to be dollar 500 with a standard deviation of dollar 50. Estimate the population mean revenue with a 95% confidence interval."
   ]
  },
  {
   "cell_type": "markdown",
   "id": "5eb8637e-0e22-4ff3-b998-d90c36fa0f00",
   "metadata": {},
   "source": [
    "ans:\n",
    "    \n",
    "We will use z-test here:"
   ]
  },
  {
   "cell_type": "code",
   "execution_count": 12,
   "id": "956f7bfc-cba1-40df-bf14-bc34af85f89f",
   "metadata": {},
   "outputs": [
    {
     "data": {
      "text/plain": [
       "0.975"
      ]
     },
     "execution_count": 12,
     "metadata": {},
     "output_type": "execute_result"
    }
   ],
   "source": [
    "from math import sqrt\n",
    "confidence_level = 0.95\n",
    "significance_level = 1-confidence_level\n",
    "half_alpha = significance_level/2\n",
    "area_at_half_alpha = 1 - half_alpha\n",
    "area_at_half_alpha"
   ]
  },
  {
   "cell_type": "code",
   "execution_count": 13,
   "id": "cde00909-65e1-4fdc-bb33-68f956688c3b",
   "metadata": {},
   "outputs": [
    {
     "name": "stdout",
     "output_type": "stream",
     "text": [
      "Population mean will lie between 486.1407070887437 and 513.8592929112564\n"
     ]
    }
   ],
   "source": [
    "sample_mean = 500\n",
    "standard_deviation = 50\n",
    "sample_size = 50\n",
    "#zscore for area = 0.975 using ztable\n",
    "z_score = 1.96\n",
    "\n",
    "Max_estimate_of_population = sample_mean+((z_score*standard_deviation)/(sqrt(sample_size)))\n",
    "\n",
    "Min_estimate_of_population = sample_mean-((z_score*standard_deviation)/(sqrt(sample_size)))\n",
    "\n",
    "print(\"Population mean will lie between\",Min_estimate_of_population,\"and\" ,Max_estimate_of_population)"
   ]
  },
  {
   "cell_type": "markdown",
   "id": "c7b3a5df-3051-4932-a5af-bc14118d24b2",
   "metadata": {},
   "source": [
    "Q14. A researcher hypothesizes that a new drug will decrease blood pressure by 10 mmHg. They conduct a\n",
    "clinical trial with 100 patients and find that the sample mean decrease in blood pressure is 8 mmHg with a\n",
    "standard deviation of 3 mmHg. Test the hypothesis with a significance level of 0.05."
   ]
  },
  {
   "cell_type": "code",
   "execution_count": 14,
   "id": "909bb824-c76a-4e58-ac23-5e46812c9303",
   "metadata": {},
   "outputs": [],
   "source": [
    "significance_level = 0.05\n",
    "sample_size = 100\n",
    "standard_deviation = 3"
   ]
  },
  {
   "cell_type": "markdown",
   "id": "d66635d2-22e1-4fc1-83fe-7a9d5a2e30c3",
   "metadata": {},
   "source": [
    "Null hypothesis : blood pressure decrease by 10mmHg\n",
    "\n",
    "Alternate hypothesis : blood pressure decrease by 8mmHg"
   ]
  },
  {
   "cell_type": "code",
   "execution_count": 15,
   "id": "052fcef2-9da5-470e-9361-fb4b8a4dd5bd",
   "metadata": {},
   "outputs": [],
   "source": [
    "population_mean = 10\n",
    "sample_mean = 8"
   ]
  },
  {
   "cell_type": "code",
   "execution_count": 16,
   "id": "018b7556-2b9b-4ca4-ab19-0db64e0f1b50",
   "metadata": {},
   "outputs": [
    {
     "data": {
      "text/plain": [
       "-6.666666666666667"
      ]
     },
     "execution_count": 16,
     "metadata": {},
     "output_type": "execute_result"
    }
   ],
   "source": [
    "z_score = (sample_mean - population_mean)/(standard_deviation/sqrt(sample_size)) \n",
    "z_score"
   ]
  },
  {
   "cell_type": "code",
   "execution_count": 17,
   "id": "bf70359f-81f5-49fd-8e16-ccea727a16c8",
   "metadata": {},
   "outputs": [
    {
     "data": {
      "text/plain": [
       "0.999999999986916"
      ]
     },
     "execution_count": 17,
     "metadata": {},
     "output_type": "execute_result"
    }
   ],
   "source": [
    "import scipy.stats as stats\n",
    "p_value = 1-stats.norm.cdf(z_score)\n",
    "p_value"
   ]
  },
  {
   "cell_type": "code",
   "execution_count": 18,
   "id": "e66672ae-a71f-4aef-bbc1-5b7005db46bd",
   "metadata": {},
   "outputs": [
    {
     "name": "stdout",
     "output_type": "stream",
     "text": [
      "Fail to Reject Null Hypothesis\n"
     ]
    }
   ],
   "source": [
    "if p_value < significance_level:\n",
    "    print(\"Reject Null Hypothesis\")\n",
    "else:\n",
    "    print(\"Fail to Reject Null Hypothesis\")"
   ]
  },
  {
   "cell_type": "markdown",
   "id": "e9c828a8-d18b-4b11-85d6-723b38106ce8",
   "metadata": {},
   "source": [
    "Q15. An electronics company produces a certain type of product with a mean weight of 5 pounds and a\n",
    "standard deviation of 0.5 pounds. A random sample of 25 products is taken, and the sample mean weight\n",
    "is found to be 4.8 pounds. Test the hypothesis that the true mean weight of the products is less than 5\n",
    "pounds with a significance level of 0.01."
   ]
  },
  {
   "cell_type": "markdown",
   "id": "d84f1e0a-3b9f-473a-a515-3fa8753f49c7",
   "metadata": {},
   "source": [
    "ans:\n",
    "\n",
    "Null Hypothesis : True mean weight of the products is 5 pounds.\n",
    "\n",
    "Alternate Hypothesis : True mean weight of the products is less than 5 pounds."
   ]
  },
  {
   "cell_type": "code",
   "execution_count": 19,
   "id": "9d3b635a-2f7a-43e2-8650-14995790fff0",
   "metadata": {},
   "outputs": [],
   "source": [
    "sample_mean = 4.8\n",
    "population_mean = 5\n",
    "standard_deviation = 0.5 \n",
    "n = 25 \n",
    "significance_level = 0.01"
   ]
  },
  {
   "cell_type": "code",
   "execution_count": 20,
   "id": "cabfd47f-5c01-48b7-b43b-7fca8e214c49",
   "metadata": {},
   "outputs": [
    {
     "data": {
      "text/plain": [
       "2.796939504772804"
      ]
     },
     "execution_count": 20,
     "metadata": {},
     "output_type": "execute_result"
    }
   ],
   "source": [
    "from scipy.stats import t \n",
    "from math import sqrt\n",
    "T=t.ppf(1-(significance_level/2), n-1)\n",
    "T"
   ]
  },
  {
   "cell_type": "code",
   "execution_count": 23,
   "id": "44dda0e8-0486-4e46-b5fa-d3dcae724024",
   "metadata": {},
   "outputs": [
    {
     "data": {
      "text/plain": [
       "-2.0000000000000018"
      ]
     },
     "execution_count": 23,
     "metadata": {},
     "output_type": "execute_result"
    }
   ],
   "source": [
    "t_score = (sample_mean - population_mean)/(standard_deviation/sqrt(25))\n",
    "t_score"
   ]
  },
  {
   "cell_type": "code",
   "execution_count": 24,
   "id": "037a46b5-4453-4cdf-bdd2-7c5a7f5ea9d2",
   "metadata": {},
   "outputs": [
    {
     "name": "stdout",
     "output_type": "stream",
     "text": [
      "Fail to reject the Null Hypothesis\n"
     ]
    }
   ],
   "source": [
    "if t_score < -T or t_score > T:\n",
    "    print(\"we reject the Null Hypothesis\")\n",
    "else:\n",
    "    print(\"Fail to reject the Null Hypothesis\")"
   ]
  },
  {
   "cell_type": "markdown",
   "id": "61cdf656-ef3d-401c-8a08-b9b00c140081",
   "metadata": {},
   "source": [
    "Q16. Two groups of students are given different study materials to prepare for a test. The first group (n1 =\n",
    "30) has a mean score of 80 with a standard deviation of 10, and the second group (n2 = 40) has a mean\n",
    "score of 75 with a standard deviation of 8. Test the hypothesis that the population means for the two\n",
    "groups are equal with a significance level of 0.01."
   ]
  },
  {
   "cell_type": "code",
   "execution_count": 25,
   "id": "735408bb-d0f4-4266-b758-f7826dce7f63",
   "metadata": {},
   "outputs": [],
   "source": [
    "#sample 1\n",
    "n1=30\n",
    "mean1 = 80\n",
    "std1 = 10\n",
    "\n",
    "#sample 2\n",
    "n2 = 40\n",
    "mean2 = 75\n",
    "std2 = 8"
   ]
  },
  {
   "cell_type": "markdown",
   "id": "fd72a5b3-e73c-4657-8aef-45978a38c17c",
   "metadata": {},
   "source": [
    "Null Hypothesis : mean1 = mean2\n",
    "\n",
    "Alternate Hypothesis : mean1 not equal to mean2"
   ]
  },
  {
   "cell_type": "code",
   "execution_count": 26,
   "id": "bf063c14-07a4-46b6-bb0a-994aa951c398",
   "metadata": {},
   "outputs": [
    {
     "data": {
      "text/plain": [
       "(100, 64)"
      ]
     },
     "execution_count": 26,
     "metadata": {},
     "output_type": "execute_result"
    }
   ],
   "source": [
    "from math import sqrt\n",
    "var1 = std1**2\n",
    "var2 = std2**2\n",
    "var1,var2"
   ]
  },
  {
   "cell_type": "code",
   "execution_count": 28,
   "id": "db629eb2-f052-4c43-b88f-887996dd279b",
   "metadata": {},
   "outputs": [
    {
     "data": {
      "text/plain": [
       "1.5625"
      ]
     },
     "execution_count": 28,
     "metadata": {},
     "output_type": "execute_result"
    }
   ],
   "source": [
    "f_test = var1/var2\n",
    "f_test"
   ]
  },
  {
   "cell_type": "code",
   "execution_count": 30,
   "id": "7bdde0c0-0127-41f4-bdf0-b3f34ba5ff34",
   "metadata": {},
   "outputs": [
    {
     "data": {
      "text/plain": [
       "(29, 39)"
      ]
     },
     "execution_count": 30,
     "metadata": {},
     "output_type": "execute_result"
    }
   ],
   "source": [
    "df1 = n1-1\n",
    "df2 = n2-1\n",
    "df1,df2"
   ]
  },
  {
   "cell_type": "code",
   "execution_count": 31,
   "id": "95abc8a2-bcb4-4ca3-b864-179fe1cd7199",
   "metadata": {},
   "outputs": [
    {
     "data": {
      "text/plain": [
       "2.2290359487890443"
      ]
     },
     "execution_count": 31,
     "metadata": {},
     "output_type": "execute_result"
    }
   ],
   "source": [
    "import scipy.stats as stat\n",
    "significance_value = 0.01\n",
    "critical_value = stat.f.ppf(q=1-significance_value, dfn=df1,dfd=df2)\n",
    "critical_value"
   ]
  },
  {
   "cell_type": "code",
   "execution_count": 32,
   "id": "214e4005-788e-404b-bcb2-2d7fe4e8422a",
   "metadata": {},
   "outputs": [
    {
     "name": "stdout",
     "output_type": "stream",
     "text": [
      "Fail to reject the Null Hypothesis\n"
     ]
    }
   ],
   "source": [
    "if f_test > critical_value:\n",
    "    print(\"We reject the Null Hypothesis\")\n",
    "else:\n",
    "    print(\"Fail to reject the Null Hypothesis\")"
   ]
  },
  {
   "cell_type": "markdown",
   "id": "bdb0c62f-3ee4-4edc-9239-04a36dda17b2",
   "metadata": {},
   "source": [
    "Q17. A marketing company wants to estimate the average number of ads watched by viewers during a TV\n",
    "program. They take a random sample of 50 viewers and find that the sample mean is 4 with a standard\n",
    "deviation of 1.5. Estimate the population mean with a 99% confidence interval."
   ]
  },
  {
   "cell_type": "code",
   "execution_count": 33,
   "id": "2e42c7c9-44ee-48d8-ac3c-838bea100153",
   "metadata": {},
   "outputs": [
    {
     "data": {
      "text/plain": [
       "0.010000000000000009"
      ]
     },
     "execution_count": 33,
     "metadata": {},
     "output_type": "execute_result"
    }
   ],
   "source": [
    "no_of_sample = 50\n",
    "sample_mean = 4 \n",
    "std =1.5\n",
    "confidence_level = 0.99\n",
    "significance_level = 1-confidence_level\n",
    "significance_level"
   ]
  },
  {
   "cell_type": "code",
   "execution_count": 35,
   "id": "30ecad14-c5ae-4cc3-a2d4-d861441d4c5d",
   "metadata": {},
   "outputs": [
    {
     "data": {
      "text/plain": [
       "0.995"
      ]
     },
     "execution_count": 35,
     "metadata": {},
     "output_type": "execute_result"
    }
   ],
   "source": [
    "# z score at significance level/2\n",
    "#area upto significance/2\n",
    "area = 1 -(significance_level/2)\n",
    "area"
   ]
  },
  {
   "cell_type": "code",
   "execution_count": 37,
   "id": "ae4dc8f3-b8d3-4b0e-885c-a50f29e8b6d6",
   "metadata": {},
   "outputs": [],
   "source": [
    "#for area=0.995 ,from z table\n",
    "z_score = 2.575"
   ]
  },
  {
   "cell_type": "code",
   "execution_count": 38,
   "id": "91e78863-4772-4908-936e-5923acc2e45d",
   "metadata": {},
   "outputs": [
    {
     "name": "stdout",
     "output_type": "stream",
     "text": [
      "Population mean will lie between 3.453760011533392 and 4.546239988466608\n"
     ]
    }
   ],
   "source": [
    "Max_estimate_of_population = sample_mean+((z_score*std)/(sqrt(no_of_sample)))\n",
    "\n",
    "Min_estimate_of_population = sample_mean-((z_score*std)/(sqrt(no_of_sample)))\n",
    "\n",
    "print(\"Population mean will lie between\",Min_estimate_of_population,\"and\" ,Max_estimate_of_population)"
   ]
  },
  {
   "cell_type": "code",
   "execution_count": null,
   "id": "0369b494-2cd7-47f6-b02b-17dc43f9a71a",
   "metadata": {},
   "outputs": [],
   "source": []
  }
 ],
 "metadata": {
  "kernelspec": {
   "display_name": "Python 3 (ipykernel)",
   "language": "python",
   "name": "python3"
  },
  "language_info": {
   "codemirror_mode": {
    "name": "ipython",
    "version": 3
   },
   "file_extension": ".py",
   "mimetype": "text/x-python",
   "name": "python",
   "nbconvert_exporter": "python",
   "pygments_lexer": "ipython3",
   "version": "3.10.8"
  }
 },
 "nbformat": 4,
 "nbformat_minor": 5
}

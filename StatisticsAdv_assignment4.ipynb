{
 "cells": [
  {
   "cell_type": "markdown",
   "id": "f779bacf-394c-420a-b76f-6ec678c9f904",
   "metadata": {},
   "source": [
    "Q1: What is the difference between a t-test and a z-test? Provide an example scenario where you would\n",
    "use each type of test."
   ]
  },
  {
   "cell_type": "markdown",
   "id": "7049a42c-3a8d-4a07-bc46-7337b0c20f67",
   "metadata": {},
   "source": [
    "ans:\n",
    "\n",
    "The difference between a t-test and a z-test:\n",
    "\n",
    "1. T-test is based on Student-T distribution and Z-test is based on Normal distribution.\n",
    "\n",
    "2. T-test is suitable for unknown population variance and Z-test is suitable for known population variance.\n",
    "\n",
    "3. T-test is used when the sample size is less than 30 and Z-test is used when the sample size is greater thab 30."
   ]
  },
  {
   "cell_type": "markdown",
   "id": "9989e3c3-5a40-4675-99bc-626739a63fbb",
   "metadata": {},
   "source": [
    "*Examples on Z Test*:\n",
    "\n",
    "A teacher claims that the mean score of students in his class is greater than 82 with a standard deviation of 20. If a sample of 81 students was selected with a mean score of 90 then check if there is enough evidence to support this claim at a 0.05 significance level."
   ]
  },
  {
   "cell_type": "markdown",
   "id": "66aa6a99-94e6-4db6-9edf-1733e18ee049",
   "metadata": {},
   "source": [
    "*Example on T Test*:\n",
    "\n",
    "A doctor may want to know if some new drug leads to a significant reduction in blood pressure compared to the current standard drug used.\n",
    "\n",
    "To test this, he recruits 20 subjects to participate in a study in which they each take the new drug for one month. He can perform a one sample t-test to determine if the mean reduction in blood pressure is significantly greater than the mean reduction that results from the current standard drug."
   ]
  },
  {
   "cell_type": "markdown",
   "id": "0108d4b8-4dfb-4fbb-92dc-a8cbae78e3a5",
   "metadata": {},
   "source": [
    "Q2: Differentiate between one-tailed and two-tailed tests."
   ]
  },
  {
   "cell_type": "markdown",
   "id": "fe9e0b1e-6fb1-4434-9fac-3ed555878e99",
   "metadata": {},
   "source": [
    "ans:\n",
    "\n",
    "1. A statistical hypothesis test in which alternative hypothesis has only one end, is known as one tailed test and A significance test in which alternative hypothesis has two ends, is called two-tailed test.\n",
    "\n",
    "2. In one-tailed , region of rejection is either left or right and In two-tailed , region of rejection is both left and right.\n",
    "\n",
    "3. Result of one tailed test, is greater or less than certain value. Result of two tailed test, is greater or less than certain range of values.\n"
   ]
  },
  {
   "cell_type": "markdown",
   "id": "2524f20e-438e-46ff-9735-ea61038cd8c2",
   "metadata": {},
   "source": [
    "Q3: Explain the concept of Type 1 and Type 2 errors in hypothesis testing. Provide an example scenario for\n",
    "each type of error."
   ]
  },
  {
   "cell_type": "markdown",
   "id": "50ffe5ce-3f5b-43b5-ab89-aff0a4e43b0b",
   "metadata": {},
   "source": [
    "ans:\n",
    "\n",
    "Reality : Null Hypothesis is True or Null Hypothesis is False.\n",
    "\n",
    "Decision : Null Hypothesis is True or Null Hypothesis is False.\n",
    "\n",
    "Outcome = We reject the Null Hypothesis , when in reality it is True. => Type1 Error\n",
    "\n",
    "Outcome = We retain/accept the Null Hypothesis , when in reality it is False. => Type2 Error\n"
   ]
  },
  {
   "cell_type": "markdown",
   "id": "8974d549-bd29-4f57-b8f8-c15f15c7dc96",
   "metadata": {},
   "source": [
    "Example: Type I vs Type II error\n",
    "\n",
    "You decide to get tested for COVID-19 based on mild symptoms. There are two errors that could potentially occur:\n",
    "\n",
    "Type I error (false positive): the test result says you have coronavirus, but you actually don’t.\n",
    "\n",
    "Type II error (false negative): the test result says you don’t have coronavirus, but you actually do."
   ]
  },
  {
   "cell_type": "markdown",
   "id": "602620b4-3bb5-40fa-8f08-bac39339135d",
   "metadata": {},
   "source": [
    "Q4: Explain Bayes's theorem with an example."
   ]
  },
  {
   "cell_type": "markdown",
   "id": "ce79669b-53d8-4f48-9994-98e10343a84c",
   "metadata": {},
   "source": [
    "ans:\n",
    "\n",
    "Bayes theorem is also known as the Bayes Rule or Bayes Law. It is used to determine the conditional probability of event A when event B has already happened. The general statement of Bayes’ theorem is “The conditional probability of an event A, given the occurrence of another event B, is equal to the product of the event of B, given A and the probability of A divided by the probability of event B.” i.e.\n",
    "\n",
    "P(A|B) = P(B|A)P(A) / P(B)\n",
    "\n",
    "where,\n",
    "P(A) and P(B) are the probabilities of events A and B\n",
    "P(A|B) is the probability of event A when event B happens\n",
    "P(B|A) is the probability of event B when A happens"
   ]
  },
  {
   "cell_type": "markdown",
   "id": "b2b3987d-c866-4938-babf-d64746bba6ce",
   "metadata": {},
   "source": [
    "Example: \n",
    "\n",
    "Bayes’ theorem defines the accuracy of the medical test by taking into account how likely a person is to have a disease and what is the overall accuracy of the test."
   ]
  },
  {
   "cell_type": "markdown",
   "id": "947e200e-5230-41ae-ac19-333503f662bd",
   "metadata": {},
   "source": [
    "Q5: What is a confidence interval? How to calculate the confidence interval, explain with an example."
   ]
  },
  {
   "cell_type": "markdown",
   "id": "768141f3-f539-4c0d-b706-89e65fa881d7",
   "metadata": {},
   "source": [
    "ans:\n",
    "\n",
    "The confidence interval (CI) is a range of values that’s likely to include a population value with a certain degree of confidence. It is often expressed as a % whereby a population mean lies between an upper and lower interval."
   ]
  },
  {
   "cell_type": "markdown",
   "id": "07e903c6-ea4b-439e-8d96-6f9430dae40a",
   "metadata": {},
   "source": [
    "To calculate the confidence interval, start by computing the mean and standard error of the sample.\n",
    "\n",
    "You must calculate an upper and low score for the confidence interval using the z-score for the chosen confidence level \n",
    "\n",
    "Confidence Interval Formula:\n",
    "\n",
    "Mean +/- ((chosen Z-value * standard error)/sqrt(sample size))"
   ]
  },
  {
   "cell_type": "markdown",
   "id": "58f84446-c05a-44df-af0c-df63980cdf0f",
   "metadata": {},
   "source": [
    "Example:\n",
    "\n",
    "Mean = 86\n",
    "\n",
    "Z = 1.96 for 95% confidence level\n",
    "\n",
    "std = 6.2\n",
    "\n",
    "n = 46\n",
    "\n",
    "Lower value : 86-((1.96 * 6.2)/sqrt(46)) = 84.21\n",
    "\n",
    "Upper value : 86+((1.96 * 6.2)/sqrt(46)) = 87.79\n",
    "    \n",
    "So the population mean is likely to be between 84.21 and 87.79."
   ]
  },
  {
   "cell_type": "markdown",
   "id": "079e0b4d-e994-4cda-ab8a-f2588911e6ad",
   "metadata": {},
   "source": [
    "Q6. Use Bayes' Theorem to calculate the probability of an event occurring given prior knowledge of the\n",
    "event's probability and new evidence. Provide a sample problem and solution."
   ]
  },
  {
   "cell_type": "markdown",
   "id": "27941fd7-545d-4f8c-9148-e108a2ef8d41",
   "metadata": {},
   "source": [
    "ans: Sample problem:\n",
    "\n",
    "There are two investment options, A and B. Then, the probability of generating positive returns from A is 74%, and the probability of generating positive returns from B is 45%. Also, the possibility of investment B providing a positive return when investment A also provides a positive return is 13%.\n",
    "\n",
    "Based on the given data, determine the probability of investment A providing a positive return when investment B also provides a positive return."
   ]
  },
  {
   "cell_type": "code",
   "execution_count": 3,
   "id": "d99bdc4f-43e3-4a06-8ca4-8b9f45f4e0e2",
   "metadata": {},
   "outputs": [
    {
     "data": {
      "text/plain": [
       "0.2137777777777778"
      ]
     },
     "execution_count": 3,
     "metadata": {},
     "output_type": "execute_result"
    }
   ],
   "source": [
    "Probability_of_A = 0.74\n",
    "ProBability_of_B = 0.45\n",
    "Probability_of_B_when_A_is_known = 0.13\n",
    "\n",
    "#P(A|B) = P(B|A)P(A) / P(B) and P(A|B)=P(A_B)\n",
    "\n",
    "Probability_of_A_when_B_is_known = ((0.13*0.74)/0.45)\n",
    "Probability_of_A_when_B_is_known"
   ]
  },
  {
   "cell_type": "markdown",
   "id": "6c905b6d-7ff7-4fca-9dbf-624e5f1ae3bb",
   "metadata": {},
   "source": [
    "Thus, the probability of generating positive returns from investment A when investment B also generates positive returns is 0.21"
   ]
  },
  {
   "cell_type": "markdown",
   "id": "d3399c6b-f0bc-4463-92c1-132feef926a4",
   "metadata": {},
   "source": [
    "Q7. Calculate the 95% confidence interval for a sample of data with a mean of 50 and a standard deviation\n",
    "of 5. Interpret the results."
   ]
  },
  {
   "cell_type": "code",
   "execution_count": 4,
   "id": "5ba9fa59-31e9-4126-993d-c2f778c613fa",
   "metadata": {},
   "outputs": [],
   "source": [
    "confidence_level = 0.95\n",
    "#consider sample size > 30, we can apply z test.\n",
    "# lets n = 40\n",
    "n = 40\n",
    "#for confidence level = 95% , \n",
    "z_score =1.96"
   ]
  },
  {
   "cell_type": "code",
   "execution_count": 5,
   "id": "eea7cc0b-ad59-42c0-8dda-9bc9d8015b4e",
   "metadata": {},
   "outputs": [
    {
     "name": "stdout",
     "output_type": "stream",
     "text": [
      "95% interval for 40 sample for given sample mean = 50 & standard = 5 is between 48.450483946517494 and 51.549516053482506\n"
     ]
    }
   ],
   "source": [
    "from math import sqrt\n",
    "sample_mean = 50\n",
    "std = 5\n",
    "Max_confidence_limit = sample_mean + ((z_score*std)/(sqrt(n)))\n",
    "Min_confidence_limit = sample_mean - ((z_score*std)/(sqrt(n)))\n",
    "print(\"95% interval for 40 sample for given sample mean = 50 & standard = 5 is between\", Min_confidence_limit,\"and\" , Max_confidence_limit)                                    "
   ]
  },
  {
   "cell_type": "markdown",
   "id": "64bf3d5f-a4dc-47b9-b5ba-10201c86f11a",
   "metadata": {},
   "source": [
    "Q8. What is the margin of error in a confidence interval? How does sample size affect the margin of error?\n",
    "Provide an example of a scenario where a larger sample size would result in a smaller margin of error."
   ]
  },
  {
   "cell_type": "markdown",
   "id": "fd8ea94b-ba97-4ff5-a4cb-a94738b60ed2",
   "metadata": {},
   "source": [
    "ans:\n",
    "\n",
    "A margin of error tells you how many percentage points your results will differ from the real population value.The margin of error can also be defined as the range of values below and above the sample statistic in a confidence interval. The confidence interval is a way to show what the uncertainty is with a certain statistic.\n",
    "\n",
    "For example, a poll might state that there is a 98% confidence interval of 4.88 and 5.26. So we can say that if the poll is repeated using the same techniques, 98% of the time the true population parameter will fall within the interval estimates (i.e. between 4.88 and 5.26) 98% of the time."
   ]
  },
  {
   "cell_type": "markdown",
   "id": "52412cff-7800-46f8-b73a-451417c92343",
   "metadata": {},
   "source": [
    "The relationship between margin of error and sample size:\n",
    "\n",
    "The sample size increases, the margin of error decreases."
   ]
  },
  {
   "cell_type": "markdown",
   "id": "43628afc-fe90-4cea-b2f5-47cf145edf72",
   "metadata": {},
   "source": [
    "For example, \n",
    "\n",
    "suppose we collect a simple random sample of data with the following information:"
   ]
  },
  {
   "cell_type": "code",
   "execution_count": 6,
   "id": "eea0af94-0f9c-4165-9e1c-09f3658c7b88",
   "metadata": {},
   "outputs": [
    {
     "data": {
      "text/plain": [
       "(48.343497660732105, 51.656502339267895, 1.6565023392678926)"
      ]
     },
     "execution_count": 6,
     "metadata": {},
     "output_type": "execute_result"
    }
   ],
   "source": [
    "from math import sqrt\n",
    "#Case 1 :\n",
    "mean = 50 \n",
    "std = 5\n",
    "n = 35\n",
    "z_score = 1.96\n",
    "confidence_interval = 0.95\n",
    "margin_of_error = (z_score * std)/(sqrt(n))\n",
    "max_confidence_limit = mean + margin_of_error\n",
    "min_confidence_limit = mean - margin_of_error\n",
    "min_confidence_limit,max_confidence_limit, margin_of_error"
   ]
  },
  {
   "cell_type": "code",
   "execution_count": 7,
   "id": "ad53192d-1df1-4f0a-9052-c463817fe41c",
   "metadata": {},
   "outputs": [
    {
     "data": {
      "text/plain": [
       "(49.30703535443718, 50.69296464556282, 0.6929646455628166)"
      ]
     },
     "execution_count": 7,
     "metadata": {},
     "output_type": "execute_result"
    }
   ],
   "source": [
    "#Case 2:\n",
    "mean = 50 \n",
    "std = 5\n",
    "n = 200\n",
    "z_score = 1.96\n",
    "confidence_interval = 0.95\n",
    "margin_of_error = (z_score * std)/(sqrt(n))\n",
    "max_confidence_limit = mean + margin_of_error\n",
    "min_confidence_limit = mean - margin_of_error\n",
    "min_confidence_limit,max_confidence_limit, margin_of_error"
   ]
  },
  {
   "cell_type": "markdown",
   "id": "c5d14185-fc00-46fd-bee4-60acff0122d8",
   "metadata": {},
   "source": [
    "Q9. Calculate the z-score for a data point with a value of 75, a population mean of 70, and a population\n",
    "standard deviation of 5. Interpret the results."
   ]
  },
  {
   "cell_type": "code",
   "execution_count": 8,
   "id": "995327a3-bdec-456f-bef7-16af9467fe20",
   "metadata": {},
   "outputs": [
    {
     "data": {
      "text/plain": [
       "1.0"
      ]
     },
     "execution_count": 8,
     "metadata": {},
     "output_type": "execute_result"
    }
   ],
   "source": [
    "data_value = 75\n",
    "population_mean = 70\n",
    "population_std = 5\n",
    "z_score = (data_value-population_mean)/(population_std)\n",
    "z_score"
   ]
  },
  {
   "cell_type": "markdown",
   "id": "5befee18-65e2-48cb-b2b4-6b0afbf9b7ba",
   "metadata": {},
   "source": [
    "Q10. In a study of the effectiveness of a new weight loss drug, a sample of 50 participants lost an average\n",
    "of 6 pounds with a standard deviation of 2.5 pounds. Conduct a hypothesis test to determine if the drug is\n",
    "significantly effective at a 95% confidence level using a t-test."
   ]
  },
  {
   "cell_type": "markdown",
   "id": "f9d9a9a2-9b11-4ecf-bc01-810f36e36775",
   "metadata": {},
   "source": [
    "Null Hypothesis : Average weight loss = 6 pounds\n",
    "\n",
    "Alternate Hypothesis : Average weight loss not equal to 6 pounds"
   ]
  },
  {
   "cell_type": "code",
   "execution_count": 9,
   "id": "111de7f0-8c04-4240-acb7-5a6ff3d86050",
   "metadata": {},
   "outputs": [],
   "source": [
    "n = 50\n",
    "mean = 6 \n",
    "std = 2.5\n",
    "confidence_level = 0.95\n",
    "significance_level = 1 -confidence_level"
   ]
  },
  {
   "cell_type": "code",
   "execution_count": 10,
   "id": "1ce9451b-6f8a-4586-a2d0-86c795f16d7d",
   "metadata": {},
   "outputs": [
    {
     "data": {
      "text/plain": [
       "2.009575234489209"
      ]
     },
     "execution_count": 10,
     "metadata": {},
     "output_type": "execute_result"
    }
   ],
   "source": [
    "from scipy.stats import t \n",
    "from math import sqrt\n",
    "T=t.ppf(1-(significance_level/2), n-1)\n",
    "T"
   ]
  },
  {
   "cell_type": "code",
   "execution_count": 11,
   "id": "ad2a7b9e-1d33-413a-86a6-cf7861c9a75f",
   "metadata": {},
   "outputs": [
    {
     "data": {
      "text/plain": [
       "(5.3070353544371835, 6.6929646455628165)"
      ]
     },
     "execution_count": 11,
     "metadata": {},
     "output_type": "execute_result"
    }
   ],
   "source": [
    "#As population mean is not given, I try calculate it.\n",
    "#for 95% confidence level,\n",
    "z_score = 1.96\n",
    "Max_limit = mean + ((z_score*std)/(sqrt(n)))\n",
    "Min_limit = mean - ((z_score*std)/(sqrt(n)))\n",
    "Min_limit,Max_limit"
   ]
  },
  {
   "cell_type": "code",
   "execution_count": 12,
   "id": "9e1d79fd-df93-463e-984f-d8f916b0939c",
   "metadata": {},
   "outputs": [
    {
     "data": {
      "text/plain": [
       "-1.9599999999999997"
      ]
     },
     "execution_count": 12,
     "metadata": {},
     "output_type": "execute_result"
    }
   ],
   "source": [
    "#tscore for max limit of Population mean\n",
    "t_score1 = (mean - Max_limit)/(std/sqrt(n))\n",
    "t_score1"
   ]
  },
  {
   "cell_type": "code",
   "execution_count": 13,
   "id": "e4adfcbd-26d5-4edd-ab85-e7b06464ce85",
   "metadata": {},
   "outputs": [
    {
     "data": {
      "text/plain": [
       "1.9599999999999997"
      ]
     },
     "execution_count": 13,
     "metadata": {},
     "output_type": "execute_result"
    }
   ],
   "source": [
    "#tscore for max limit of Population mean\n",
    "t_score2 = (mean - Min_limit)/(std/sqrt(n))\n",
    "t_score2"
   ]
  },
  {
   "cell_type": "code",
   "execution_count": 14,
   "id": "33dafed1-e112-408a-bec3-81c3e5b8fef5",
   "metadata": {},
   "outputs": [
    {
     "name": "stdout",
     "output_type": "stream",
     "text": [
      "Fail to reject the Null Hypothesis\n"
     ]
    }
   ],
   "source": [
    "if t_score1 < -T or t_score1 > T:\n",
    "    print(\"we reject the Null Hypothesis\")\n",
    "else:\n",
    "    print(\"Fail to reject the Null Hypothesis\")"
   ]
  },
  {
   "cell_type": "code",
   "execution_count": 15,
   "id": "4038bd29-074f-4397-9f7a-7f5a534f3a0a",
   "metadata": {},
   "outputs": [
    {
     "name": "stdout",
     "output_type": "stream",
     "text": [
      "Fail to reject the Null Hypothesis\n"
     ]
    }
   ],
   "source": [
    "if t_score2 < -T or t_score2 > T:\n",
    "    print(\"we reject the Null Hypothesis\")\n",
    "else:\n",
    "    print(\"Fail to reject the Null Hypothesis\")"
   ]
  },
  {
   "cell_type": "markdown",
   "id": "2f855e54-634f-4d1e-b63a-99ee44d80a45",
   "metadata": {},
   "source": [
    "We can say the new drug is effective with 95% confidence level"
   ]
  },
  {
   "cell_type": "markdown",
   "id": "8cdf939d-2c12-4b73-92a9-40a0a7fff8b0",
   "metadata": {},
   "source": [
    "Q11. In a survey of 500 people, 65% reported being satisfied with their current job. Calculate the 95%\n",
    "confidence interval for the true proportion of people who are satisfied with their job."
   ]
  },
  {
   "cell_type": "code",
   "execution_count": 16,
   "id": "b84c1027-4d27-4d5c-99a4-8b845e8e2372",
   "metadata": {},
   "outputs": [],
   "source": [
    "from math import sqrt\n",
    "#for confidence interval=95%\n",
    "z_score = 1.96\n",
    "n = 500\n",
    "mean = 0.65"
   ]
  },
  {
   "cell_type": "code",
   "execution_count": 17,
   "id": "bcbc1030-e686-4a3d-b803-c8f5b9ad30a8",
   "metadata": {},
   "outputs": [
    {
     "data": {
      "text/plain": [
       "(0.608191771144905, 0.6918082288550951)"
      ]
     },
     "execution_count": 17,
     "metadata": {},
     "output_type": "execute_result"
    }
   ],
   "source": [
    "lower_limit_confidence_level = mean - (z_score*sqrt((mean*(1-mean))/n))\n",
    "upper_limit_confidence_level = mean + (z_score*sqrt((mean*(1-mean))/n))\n",
    "lower_limit_confidence_level,upper_limit_confidence_level"
   ]
  },
  {
   "cell_type": "markdown",
   "id": "6d0b7eda-eb57-456e-864b-a928c6a3f7be",
   "metadata": {},
   "source": [
    "Q12. A researcher is testing the effectiveness of two different teaching methods on student performance.\n",
    "Sample A has a mean score of 85 with a standard deviation of 6, while sample B has a mean score of 82\n",
    "with a standard deviation of 5. Conduct a hypothesis test to determine if the two teaching methods have a\n",
    "significant difference in student performance using a t-test with a significance level of 0.01."
   ]
  },
  {
   "cell_type": "code",
   "execution_count": 18,
   "id": "f2cd401b-3a6c-409d-b30c-56ba3d20c54b",
   "metadata": {},
   "outputs": [],
   "source": [
    "#Sample A\n",
    "mean_A = 85\n",
    "std_A =6\n",
    "\n",
    "#Sample B\n",
    "mean_B = 82\n",
    "std_B = 5\n",
    "\n",
    "significance_level = 0.01\n",
    "# for t test , sample size < = 30,\n",
    "n = 30"
   ]
  },
  {
   "cell_type": "markdown",
   "id": "faaffbff-071d-403e-90f6-1685e10dab65",
   "metadata": {},
   "source": [
    "Null Hypothesis : Two teaching methods have a significant difference in student performance\n",
    "\n",
    "Alternate Hypothesis : Two teaching methods have no significant difference in student performance"
   ]
  },
  {
   "cell_type": "code",
   "execution_count": 19,
   "id": "3e8ea977-ea84-4425-8b8b-67cb40adc80b",
   "metadata": {},
   "outputs": [
    {
     "data": {
      "text/plain": [
       "(2.1038606199548298, 0.03973697161571063)"
      ]
     },
     "execution_count": 19,
     "metadata": {},
     "output_type": "execute_result"
    }
   ],
   "source": [
    "from scipy.stats import ttest_ind_from_stats\n",
    "t_score,p_value = ttest_ind_from_stats(mean1=mean_A, std1=std_A, nobs1=30,\n",
    "                     mean2=mean_B, std2=std_B, nobs2=30)\n",
    "t_score,p_value"
   ]
  },
  {
   "cell_type": "code",
   "execution_count": 20,
   "id": "900980c8-ad97-416d-91f2-597082f11a89",
   "metadata": {},
   "outputs": [
    {
     "name": "stdout",
     "output_type": "stream",
     "text": [
      "Fail to reject Null Hypothesis\n"
     ]
    }
   ],
   "source": [
    "if p_value < significance_level:\n",
    "    print(\"We reject to Null Hypothesis\")\n",
    "else:\n",
    "    print(\"Fail to reject Null Hypothesis\")"
   ]
  },
  {
   "cell_type": "markdown",
   "id": "22c5164c-0a65-4b63-8062-52202e3662c5",
   "metadata": {},
   "source": [
    "Q13. A population has a mean of 60 and a standard deviation of 8. A sample of 50 observations has a mean\n",
    "of 65. Calculate the 90% confidence interval for the true population mean."
   ]
  },
  {
   "cell_type": "code",
   "execution_count": 21,
   "id": "e4a0e2e8-4718-415e-a95d-735574e16445",
   "metadata": {},
   "outputs": [],
   "source": [
    "from math import sqrt\n",
    "mu = 60 \n",
    "std = 8 \n",
    "x_bar = 65\n",
    "confidence_interval = 0.90\n",
    "n=50"
   ]
  },
  {
   "cell_type": "code",
   "execution_count": 22,
   "id": "61f69e4b-a86e-4a8c-85c9-95a5cdace40a",
   "metadata": {},
   "outputs": [],
   "source": [
    "significance_level = 0.10"
   ]
  },
  {
   "cell_type": "code",
   "execution_count": 23,
   "id": "3703b4bb-62c5-4914-9348-991e863d94fb",
   "metadata": {},
   "outputs": [
    {
     "data": {
      "text/plain": [
       "0.05"
      ]
     },
     "execution_count": 23,
     "metadata": {},
     "output_type": "execute_result"
    }
   ],
   "source": [
    "half_alpha = 0.10/2\n",
    "half_alpha"
   ]
  },
  {
   "cell_type": "code",
   "execution_count": 24,
   "id": "d4fdf1a4-a51b-426f-bf85-0c75883ef085",
   "metadata": {},
   "outputs": [],
   "source": [
    "# z score at half alpha from z table\n",
    "z_score = 1.645"
   ]
  },
  {
   "cell_type": "code",
   "execution_count": 25,
   "id": "a6322971-7928-4c93-8cfc-4f03f59f2df1",
   "metadata": {},
   "outputs": [
    {
     "name": "stdout",
     "output_type": "stream",
     "text": [
      "The 90% confidence interval for the true population mean is between 63.13889495191701 and 66.86110504808299\n"
     ]
    }
   ],
   "source": [
    "Lower_limit_population = x_bar - ((z_score*std)/sqrt(n))\n",
    "Upper_limit_population = x_bar + ((z_score*std)/sqrt(n))\n",
    "print(\"The 90% confidence interval for the true population mean is between\", Lower_limit_population,\"and\",Upper_limit_population)"
   ]
  },
  {
   "cell_type": "markdown",
   "id": "08750481-2ea1-41fc-948f-0ee4bbe59acd",
   "metadata": {},
   "source": [
    "Q14. In a study of the effects of caffeine on reaction time, a sample of 30 participants had an average\n",
    "reaction time of 0.25 seconds with a standard deviation of 0.05 seconds. Conduct a hypothesis test to\n",
    "determine if the caffeine has a significant effect on reaction time at a 90% confidence level using a t-test."
   ]
  },
  {
   "cell_type": "markdown",
   "id": "b4d72705-7de2-4e16-b1ee-604423dbd079",
   "metadata": {},
   "source": [
    "Null hypothesis : The caffeine has a significant effect on reaction time\n",
    "\n",
    "Alternate hypothesis : The caffeine has no significant effect on reaction time."
   ]
  },
  {
   "cell_type": "code",
   "execution_count": 26,
   "id": "694778ce-d353-49bf-b4fb-a74526382277",
   "metadata": {},
   "outputs": [],
   "source": [
    "n = 30\n",
    "mean = 0.25\n",
    "std = 0.05\n",
    "confidence_level = 0.90\n",
    "significance_level = 1 -confidence_level"
   ]
  },
  {
   "cell_type": "code",
   "execution_count": 27,
   "id": "973a57b9-6a8e-4d60-a958-c1498d684f5d",
   "metadata": {},
   "outputs": [
    {
     "data": {
      "text/plain": [
       "1.6991270265334972"
      ]
     },
     "execution_count": 27,
     "metadata": {},
     "output_type": "execute_result"
    }
   ],
   "source": [
    "from scipy.stats import t \n",
    "from math import sqrt\n",
    "T=t.ppf(1-(significance_level/2), n-1)\n",
    "T"
   ]
  },
  {
   "cell_type": "code",
   "execution_count": 28,
   "id": "8d599ecf-a406-4cdf-845c-46fa6759bc1a",
   "metadata": {},
   "outputs": [
    {
     "data": {
      "text/plain": [
       "(0.2349832732150667, 0.2650167267849333)"
      ]
     },
     "execution_count": 28,
     "metadata": {},
     "output_type": "execute_result"
    }
   ],
   "source": [
    "#As population mean is not given, I try calculate it.\n",
    "#for 90% confidence level,\n",
    "z_score = 1.645\n",
    "Max_limit = mean + ((z_score*std)/(sqrt(n)))\n",
    "Min_limit = mean - ((z_score*std)/(sqrt(n)))\n",
    "Min_limit,Max_limit"
   ]
  },
  {
   "cell_type": "code",
   "execution_count": 29,
   "id": "4f64d707-2320-4aa5-a4f3-9037949ec2d6",
   "metadata": {},
   "outputs": [
    {
     "data": {
      "text/plain": [
       "-1.6450000000000018"
      ]
     },
     "execution_count": 29,
     "metadata": {},
     "output_type": "execute_result"
    }
   ],
   "source": [
    "#tscore for max limit of Population mean\n",
    "t_score1 = (mean - Max_limit)/(std/sqrt(n))\n",
    "t_score1"
   ]
  },
  {
   "cell_type": "code",
   "execution_count": 30,
   "id": "a65534c1-539f-4548-978e-38f7e7520fa5",
   "metadata": {},
   "outputs": [
    {
     "data": {
      "text/plain": [
       "1.644999999999999"
      ]
     },
     "execution_count": 30,
     "metadata": {},
     "output_type": "execute_result"
    }
   ],
   "source": [
    "#tscore for max limit of Population mean\n",
    "t_score2 = (mean - Min_limit)/(std/sqrt(n))\n",
    "t_score2"
   ]
  },
  {
   "cell_type": "code",
   "execution_count": 31,
   "id": "40497e8a-ee45-4053-84b6-0eb9fb87e7e9",
   "metadata": {},
   "outputs": [
    {
     "name": "stdout",
     "output_type": "stream",
     "text": [
      "Fail to reject the Null Hypothesis\n"
     ]
    }
   ],
   "source": [
    "if t_score1 < -T or t_score1 > T:\n",
    "    print(\"we reject the Null Hypothesis\")\n",
    "else:\n",
    "    print(\"Fail to reject the Null Hypothesis\")"
   ]
  },
  {
   "cell_type": "code",
   "execution_count": 32,
   "id": "da234cc2-4c11-43e9-ab62-af2c0ac3dc8c",
   "metadata": {},
   "outputs": [
    {
     "name": "stdout",
     "output_type": "stream",
     "text": [
      "Fail to reject the Null Hypothesis\n"
     ]
    }
   ],
   "source": [
    "if t_score2 < -T or t_score2 > T:\n",
    "    print(\"we reject the Null Hypothesis\")\n",
    "else:\n",
    "    print(\"Fail to reject the Null Hypothesis\")"
   ]
  },
  {
   "cell_type": "code",
   "execution_count": null,
   "id": "bc26f644-2abc-4f2e-aa09-629d06e621e9",
   "metadata": {},
   "outputs": [],
   "source": []
  }
 ],
 "metadata": {
  "kernelspec": {
   "display_name": "Python 3 (ipykernel)",
   "language": "python",
   "name": "python3"
  },
  "language_info": {
   "codemirror_mode": {
    "name": "ipython",
    "version": 3
   },
   "file_extension": ".py",
   "mimetype": "text/x-python",
   "name": "python",
   "nbconvert_exporter": "python",
   "pygments_lexer": "ipython3",
   "version": "3.10.8"
  }
 },
 "nbformat": 4,
 "nbformat_minor": 5
}

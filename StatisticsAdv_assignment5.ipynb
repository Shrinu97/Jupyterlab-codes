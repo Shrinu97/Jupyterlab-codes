{
 "cells": [
  {
   "cell_type": "markdown",
   "id": "fc829b31-cf21-4c7c-bd03-97c6160d7849",
   "metadata": {},
   "source": [
    "Q1. Calculate the 95% confidence interval for a sample of data with a mean of 50 and a standard deviation\n",
    "of 5 using Python. Interpret the results."
   ]
  },
  {
   "cell_type": "code",
   "execution_count": 1,
   "id": "ca495a3b-f556-4f0f-a748-253242020c78",
   "metadata": {},
   "outputs": [],
   "source": [
    "x_bar = 50 \n",
    "std = 5\n",
    "confidence_level = 0.95\n",
    "significance_level = 0.05"
   ]
  },
  {
   "cell_type": "markdown",
   "id": "54d108bb-b303-4f80-a9e7-2636c479ff69",
   "metadata": {},
   "source": [
    "lets consider sample size =30"
   ]
  },
  {
   "cell_type": "code",
   "execution_count": 2,
   "id": "db1ce9c8-cab4-4dc6-9801-db1c997a0014",
   "metadata": {},
   "outputs": [
    {
     "name": "stderr",
     "output_type": "stream",
     "text": [
      "/tmp/ipykernel_187/843223468.py:2: DeprecationWarning: Use of keyword argument `alpha` for method `interval` is deprecated. Use first positional argument or keyword argument `confidence` instead.\n",
      "  stat.t.interval(alpha = confidence_level, df = 30-1, loc = x_bar, scale = std)\n"
     ]
    },
    {
     "data": {
      "text/plain": [
       "(39.77385178933648, 60.22614821066352)"
      ]
     },
     "execution_count": 2,
     "metadata": {},
     "output_type": "execute_result"
    }
   ],
   "source": [
    "import scipy.stats as stat\n",
    "stat.t.interval(alpha = confidence_level, df = 30-1, loc = x_bar, scale = std)"
   ]
  },
  {
   "cell_type": "markdown",
   "id": "a00a600d-f9f1-429d-aed8-56c1981ef487",
   "metadata": {},
   "source": [
    "Q2. Conduct a chi-square goodness of fit test to determine if the distribution of colors of M&Ms in a bag\n",
    "matches the expected distribution of 20% blue, 20% orange, 20% green, 10% yellow, 10% red, and 20%\n",
    "brown. Use Python to perform the test with a significance level of 0.05."
   ]
  },
  {
   "cell_type": "markdown",
   "id": "7cd7ecb7-951e-40ca-8ab1-ef266c77fd13",
   "metadata": {},
   "source": [
    "Null Hypothesis : The distribution of colors of M&Ms in a bag matches the expected distribution.\n",
    "\n",
    "Alternate Hypothesis : The distribution of colors of M&Ms in a bag does not matches the expected distribution."
   ]
  },
  {
   "cell_type": "code",
   "execution_count": 3,
   "id": "0348bff8-f43b-4bed-9da2-dfe95df46439",
   "metadata": {},
   "outputs": [],
   "source": [
    "import pandas as pd\n",
    "# lets consider observed data : 27,24,12,14,9,20\n",
    "df = pd.DataFrame({\"colors\" : [\"blue\", \"orange\" , \"green\", \"yellow\",\"red\",\"brown\"],\"percentage\" : [20,20,20,10,10,20], \"Observed Data\" : [27,24,12,14,9,20]})"
   ]
  },
  {
   "cell_type": "code",
   "execution_count": 4,
   "id": "046ac6e9-35dc-4eef-aa87-1ce89bb089fe",
   "metadata": {},
   "outputs": [
    {
     "data": {
      "text/html": [
       "<div>\n",
       "<style scoped>\n",
       "    .dataframe tbody tr th:only-of-type {\n",
       "        vertical-align: middle;\n",
       "    }\n",
       "\n",
       "    .dataframe tbody tr th {\n",
       "        vertical-align: top;\n",
       "    }\n",
       "\n",
       "    .dataframe thead th {\n",
       "        text-align: right;\n",
       "    }\n",
       "</style>\n",
       "<table border=\"1\" class=\"dataframe\">\n",
       "  <thead>\n",
       "    <tr style=\"text-align: right;\">\n",
       "      <th></th>\n",
       "      <th>colors</th>\n",
       "      <th>percentage</th>\n",
       "      <th>Observed Data</th>\n",
       "    </tr>\n",
       "  </thead>\n",
       "  <tbody>\n",
       "    <tr>\n",
       "      <th>0</th>\n",
       "      <td>blue</td>\n",
       "      <td>20</td>\n",
       "      <td>27</td>\n",
       "    </tr>\n",
       "    <tr>\n",
       "      <th>1</th>\n",
       "      <td>orange</td>\n",
       "      <td>20</td>\n",
       "      <td>24</td>\n",
       "    </tr>\n",
       "    <tr>\n",
       "      <th>2</th>\n",
       "      <td>green</td>\n",
       "      <td>20</td>\n",
       "      <td>12</td>\n",
       "    </tr>\n",
       "    <tr>\n",
       "      <th>3</th>\n",
       "      <td>yellow</td>\n",
       "      <td>10</td>\n",
       "      <td>14</td>\n",
       "    </tr>\n",
       "    <tr>\n",
       "      <th>4</th>\n",
       "      <td>red</td>\n",
       "      <td>10</td>\n",
       "      <td>9</td>\n",
       "    </tr>\n",
       "    <tr>\n",
       "      <th>5</th>\n",
       "      <td>brown</td>\n",
       "      <td>20</td>\n",
       "      <td>20</td>\n",
       "    </tr>\n",
       "  </tbody>\n",
       "</table>\n",
       "</div>"
      ],
      "text/plain": [
       "   colors  percentage  Observed Data\n",
       "0    blue          20             27\n",
       "1  orange          20             24\n",
       "2   green          20             12\n",
       "3  yellow          10             14\n",
       "4     red          10              9\n",
       "5   brown          20             20"
      ]
     },
     "execution_count": 4,
     "metadata": {},
     "output_type": "execute_result"
    }
   ],
   "source": [
    "significance_level = 0.05\n",
    "df"
   ]
  },
  {
   "cell_type": "code",
   "execution_count": 5,
   "id": "e65b2714-6cf2-4561-a802-b06875bf2974",
   "metadata": {},
   "outputs": [],
   "source": [
    "Total = sum(df['Observed Data'])\n",
    "df['Expected Data'] = (df['percentage']*Total)/100"
   ]
  },
  {
   "cell_type": "code",
   "execution_count": 6,
   "id": "3074fabd-d22a-4466-999d-db68fd7b6b32",
   "metadata": {},
   "outputs": [
    {
     "data": {
      "text/html": [
       "<div>\n",
       "<style scoped>\n",
       "    .dataframe tbody tr th:only-of-type {\n",
       "        vertical-align: middle;\n",
       "    }\n",
       "\n",
       "    .dataframe tbody tr th {\n",
       "        vertical-align: top;\n",
       "    }\n",
       "\n",
       "    .dataframe thead th {\n",
       "        text-align: right;\n",
       "    }\n",
       "</style>\n",
       "<table border=\"1\" class=\"dataframe\">\n",
       "  <thead>\n",
       "    <tr style=\"text-align: right;\">\n",
       "      <th></th>\n",
       "      <th>colors</th>\n",
       "      <th>percentage</th>\n",
       "      <th>Observed Data</th>\n",
       "      <th>Expected Data</th>\n",
       "    </tr>\n",
       "  </thead>\n",
       "  <tbody>\n",
       "    <tr>\n",
       "      <th>0</th>\n",
       "      <td>blue</td>\n",
       "      <td>20</td>\n",
       "      <td>27</td>\n",
       "      <td>21.2</td>\n",
       "    </tr>\n",
       "    <tr>\n",
       "      <th>1</th>\n",
       "      <td>orange</td>\n",
       "      <td>20</td>\n",
       "      <td>24</td>\n",
       "      <td>21.2</td>\n",
       "    </tr>\n",
       "    <tr>\n",
       "      <th>2</th>\n",
       "      <td>green</td>\n",
       "      <td>20</td>\n",
       "      <td>12</td>\n",
       "      <td>21.2</td>\n",
       "    </tr>\n",
       "    <tr>\n",
       "      <th>3</th>\n",
       "      <td>yellow</td>\n",
       "      <td>10</td>\n",
       "      <td>14</td>\n",
       "      <td>10.6</td>\n",
       "    </tr>\n",
       "    <tr>\n",
       "      <th>4</th>\n",
       "      <td>red</td>\n",
       "      <td>10</td>\n",
       "      <td>9</td>\n",
       "      <td>10.6</td>\n",
       "    </tr>\n",
       "    <tr>\n",
       "      <th>5</th>\n",
       "      <td>brown</td>\n",
       "      <td>20</td>\n",
       "      <td>20</td>\n",
       "      <td>21.2</td>\n",
       "    </tr>\n",
       "  </tbody>\n",
       "</table>\n",
       "</div>"
      ],
      "text/plain": [
       "   colors  percentage  Observed Data  Expected Data\n",
       "0    blue          20             27           21.2\n",
       "1  orange          20             24           21.2\n",
       "2   green          20             12           21.2\n",
       "3  yellow          10             14           10.6\n",
       "4     red          10              9           10.6\n",
       "5   brown          20             20           21.2"
      ]
     },
     "execution_count": 6,
     "metadata": {},
     "output_type": "execute_result"
    }
   ],
   "source": [
    "df"
   ]
  },
  {
   "cell_type": "code",
   "execution_count": 7,
   "id": "023df812-38fa-4422-8836-fd8d5762ee18",
   "metadata": {},
   "outputs": [
    {
     "data": {
      "text/plain": [
       "(7.349056603773584, 0.1959476434216094)"
      ]
     },
     "execution_count": 7,
     "metadata": {},
     "output_type": "execute_result"
    }
   ],
   "source": [
    "#Chi-square Goodness of Fit test\n",
    "chi_square_test_statistic,p_value = stat.chisquare(df['Observed Data'], df['Expected Data'])\n",
    "chi_square_test_statistic,p_value"
   ]
  },
  {
   "cell_type": "code",
   "execution_count": 8,
   "id": "c46982ac-4d13-4368-a929-74af3692b0c0",
   "metadata": {},
   "outputs": [
    {
     "data": {
      "text/plain": [
       "11.070497693516351"
      ]
     },
     "execution_count": 8,
     "metadata": {},
     "output_type": "execute_result"
    }
   ],
   "source": [
    "# find the critical value\n",
    "dof = len(df['Expected Data'])-1\n",
    "critical_value = stat.chi2.ppf(1-significance_level,dof)\n",
    "critical_value"
   ]
  },
  {
   "cell_type": "code",
   "execution_count": 9,
   "id": "3b4167f0-c688-41a9-b0a3-0fd28b44c59e",
   "metadata": {},
   "outputs": [
    {
     "name": "stdout",
     "output_type": "stream",
     "text": [
      "Fail to reject the null hypothesis\n"
     ]
    }
   ],
   "source": [
    "if chi_square_test_statistic > critical_value:\n",
    "    print(\"Reject the null hypothesis\")\n",
    "else:\n",
    "    print(\"Fail to reject the null hypothesis\")"
   ]
  },
  {
   "cell_type": "markdown",
   "id": "23e41016-8292-40fe-aa68-4cc50c9dfd33",
   "metadata": {},
   "source": [
    "Q3. Use Python to calculate the chi-square statistic and p-value for a contingency table with the following data:\n",
    "\n",
    "Interpret the results of the test."
   ]
  },
  {
   "cell_type": "code",
   "execution_count": 10,
   "id": "73a1f135-760c-4ecd-8bd0-7816834a362e",
   "metadata": {},
   "outputs": [],
   "source": [
    "df1 = pd.DataFrame({\"Group A\" : [20,10,15], \"Group B\" : [15,25,20]},index = [\"Outcome 1\", \"Outcome 2\", \"Outcome 3\"])"
   ]
  },
  {
   "cell_type": "code",
   "execution_count": 11,
   "id": "a90c00eb-ac34-4876-bb19-c36020e37d1d",
   "metadata": {},
   "outputs": [
    {
     "data": {
      "text/html": [
       "<div>\n",
       "<style scoped>\n",
       "    .dataframe tbody tr th:only-of-type {\n",
       "        vertical-align: middle;\n",
       "    }\n",
       "\n",
       "    .dataframe tbody tr th {\n",
       "        vertical-align: top;\n",
       "    }\n",
       "\n",
       "    .dataframe thead th {\n",
       "        text-align: right;\n",
       "    }\n",
       "</style>\n",
       "<table border=\"1\" class=\"dataframe\">\n",
       "  <thead>\n",
       "    <tr style=\"text-align: right;\">\n",
       "      <th></th>\n",
       "      <th>Group A</th>\n",
       "      <th>Group B</th>\n",
       "    </tr>\n",
       "  </thead>\n",
       "  <tbody>\n",
       "    <tr>\n",
       "      <th>Outcome 1</th>\n",
       "      <td>20</td>\n",
       "      <td>15</td>\n",
       "    </tr>\n",
       "    <tr>\n",
       "      <th>Outcome 2</th>\n",
       "      <td>10</td>\n",
       "      <td>25</td>\n",
       "    </tr>\n",
       "    <tr>\n",
       "      <th>Outcome 3</th>\n",
       "      <td>15</td>\n",
       "      <td>20</td>\n",
       "    </tr>\n",
       "  </tbody>\n",
       "</table>\n",
       "</div>"
      ],
      "text/plain": [
       "           Group A  Group B\n",
       "Outcome 1       20       15\n",
       "Outcome 2       10       25\n",
       "Outcome 3       15       20"
      ]
     },
     "execution_count": 11,
     "metadata": {},
     "output_type": "execute_result"
    }
   ],
   "source": [
    "df1"
   ]
  },
  {
   "cell_type": "code",
   "execution_count": 12,
   "id": "6ef18139-16ee-4455-b23e-b9be772a61c7",
   "metadata": {},
   "outputs": [
    {
     "data": {
      "text/plain": [
       "(5.833333333333334,\n",
       " 0.05411376622282158,\n",
       " 2,\n",
       " array([[15., 20.],\n",
       "        [15., 20.],\n",
       "        [15., 20.]]))"
      ]
     },
     "execution_count": 12,
     "metadata": {},
     "output_type": "execute_result"
    }
   ],
   "source": [
    "from scipy.stats import chi2_contingency\n",
    "\n",
    "stat, p, dof, expected = chi2_contingency(df1)\n",
    "stat, p, dof, expected\n"
   ]
  },
  {
   "cell_type": "markdown",
   "id": "660079a5-2109-4f39-9d20-43b70cf1afec",
   "metadata": {},
   "source": [
    "Q4. A study of the prevalence of smoking in a population of 500 individuals found that 60 individuals\n",
    "smoked. Use Python to calculate the 95% confidence interval for the true proportion of individuals in the\n",
    "population who smoke."
   ]
  },
  {
   "cell_type": "code",
   "execution_count": 13,
   "id": "b24aec7d-264a-40f9-8293-36ce8b252a1f",
   "metadata": {},
   "outputs": [
    {
     "data": {
      "text/plain": [
       "0.12"
      ]
     },
     "execution_count": 13,
     "metadata": {},
     "output_type": "execute_result"
    }
   ],
   "source": [
    "n = 500\n",
    "population_smokes = 60\n",
    "p = population_smokes/n\n",
    "p"
   ]
  },
  {
   "cell_type": "code",
   "execution_count": 14,
   "id": "d914e16e-bdb8-4e01-ac2b-7e9914731aed",
   "metadata": {},
   "outputs": [],
   "source": [
    "#for 95% confidence,\n",
    "z_score = 1.96"
   ]
  },
  {
   "cell_type": "code",
   "execution_count": 15,
   "id": "f63ce3b5-b5b6-436f-9890-6a771f97a66a",
   "metadata": {},
   "outputs": [
    {
     "data": {
      "text/plain": [
       "(59.97151586546865, 60.02848413453135)"
      ]
     },
     "execution_count": 15,
     "metadata": {},
     "output_type": "execute_result"
    }
   ],
   "source": [
    "from math import sqrt\n",
    "lower_limit = population_smokes - (z_score*sqrt((p*(1-p))/n))\n",
    "upper_limit = population_smokes + (z_score*sqrt((p*(1-p))/n))\n",
    "lower_limit,upper_limit"
   ]
  },
  {
   "cell_type": "code",
   "execution_count": 16,
   "id": "94eb1bf6-d97c-47ab-8a51-4a4cb99d9d38",
   "metadata": {},
   "outputs": [
    {
     "name": "stdout",
     "output_type": "stream",
     "text": [
      "The 95% confidence interval for the true proportion of individuals in the population who smoke is between 59.97151586546865 and 60.02848413453135\n"
     ]
    }
   ],
   "source": [
    "print(\"The 95% confidence interval for the true proportion of individuals in the population who smoke is between\", lower_limit,\"and\",upper_limit)"
   ]
  },
  {
   "cell_type": "markdown",
   "id": "9ce5b692-f705-45ee-abca-08c7528fe10d",
   "metadata": {},
   "source": [
    "Q5. Calculate the 90% confidence interval for a sample of data with a mean of 75 and a standard deviation of 12 using Python."
   ]
  },
  {
   "cell_type": "code",
   "execution_count": 17,
   "id": "396d83a5-54c2-4433-a888-1739a94a41a1",
   "metadata": {},
   "outputs": [],
   "source": [
    "confidence_level = 0.90\n",
    "x_bar = 75\n",
    "std = 12"
   ]
  },
  {
   "cell_type": "markdown",
   "id": "571e72d3-372f-4239-a689-c8d93c0c1bfd",
   "metadata": {},
   "source": [
    "lets consider n = 50"
   ]
  },
  {
   "cell_type": "code",
   "execution_count": 18,
   "id": "76f4f78f-b80d-4636-a60e-8b93a50bba00",
   "metadata": {},
   "outputs": [],
   "source": [
    "#for 90% confidence interval, \n",
    "z_score = 1.645"
   ]
  },
  {
   "cell_type": "code",
   "execution_count": 19,
   "id": "6bff271a-60e6-4180-9d92-3150c04dc084",
   "metadata": {},
   "outputs": [
    {
     "data": {
      "text/plain": [
       "(72.20834242787551, 77.79165757212449)"
      ]
     },
     "execution_count": 19,
     "metadata": {},
     "output_type": "execute_result"
    }
   ],
   "source": [
    "ll = x_bar - ((z_score*std)/sqrt(50))\n",
    "ul = x_bar + ((z_score*std)/sqrt(50))\n",
    "ll,ul"
   ]
  },
  {
   "cell_type": "code",
   "execution_count": 20,
   "id": "dc1bde41-495f-402b-931c-c970984d0f63",
   "metadata": {},
   "outputs": [
    {
     "name": "stdout",
     "output_type": "stream",
     "text": [
      "The 90% confidence interval for a sample of data with a mean of 75 and a standard deviation of 12 is between 72.20834242787551 and 77.79165757212449\n"
     ]
    }
   ],
   "source": [
    "print(\"The 90% confidence interval for a sample of data with a mean of 75 and a standard deviation of 12 is between\",ll,\"and\",ul)"
   ]
  },
  {
   "cell_type": "markdown",
   "id": "ff5a3a60-fa2f-40be-bb7d-b4bd30e0a980",
   "metadata": {},
   "source": [
    "Q6. Use Python to plot the chi-square distribution with 10 degrees of freedom. Label the axes and shade the area corresponding to a chi-square statistic of 15."
   ]
  },
  {
   "cell_type": "code",
   "execution_count": 21,
   "id": "2af0e4e2-b1a5-4b6f-9968-5b0ca6e45875",
   "metadata": {},
   "outputs": [],
   "source": [
    "df = 10\n",
    "chi_square_statistic = 15"
   ]
  },
  {
   "cell_type": "code",
   "execution_count": 22,
   "id": "cd54ed9f-51a7-4d80-a951-1449ac5e52b4",
   "metadata": {},
   "outputs": [],
   "source": [
    "import numpy as np\n",
    "from scipy.stats import chi2\n",
    "import matplotlib.pyplot as plt "
   ]
  },
  {
   "cell_type": "code",
   "execution_count": 23,
   "id": "8156e1ea-ccb4-4983-b82b-b537c98b0400",
   "metadata": {},
   "outputs": [],
   "source": [
    "x = np.linspace(0,30,300)"
   ]
  },
  {
   "cell_type": "code",
   "execution_count": 24,
   "id": "02a2c00e-dab4-45b2-b01c-a49b83e644c6",
   "metadata": {},
   "outputs": [],
   "source": [
    "y = chi2.pdf(x,df=10)"
   ]
  },
  {
   "cell_type": "code",
   "execution_count": 25,
   "id": "5a566192-6e1f-43a7-8499-5a26bc12a061",
   "metadata": {},
   "outputs": [
    {
     "data": {
      "image/png": "[encoded data removed]",
      "text/plain": [
       "<Figure size 640x480 with 1 Axes>"
      ]
     },
     "metadata": {},
     "output_type": "display_data"
    }
   ],
   "source": [
    "plt.plot(x,y,label = \"df = 10\")\n",
    "plt.fill_between(x,y,color='blue',alpha=0.5,where = x > 15)\n",
    "plt.ylabel('Density')\n",
    "plt.xlabel('x axis')\n",
    "plt.legend()\n",
    "plt.show()"
   ]
  },
  {
   "cell_type": "markdown",
   "id": "53b130fc-4f80-4eb7-8504-826f762af77d",
   "metadata": {},
   "source": [
    "Q7. A random sample of 1000 people was asked if they preferred Coke or Pepsi. Of the sample, 520\n",
    "preferred Coke. Calculate a 99% confidence interval for the true proportion of people in the population who\n",
    "prefer Coke."
   ]
  },
  {
   "cell_type": "code",
   "execution_count": 26,
   "id": "60a26e6d-153d-4369-a2b1-3966816a6884",
   "metadata": {},
   "outputs": [
    {
     "data": {
      "text/plain": [
       "0.52"
      ]
     },
     "execution_count": 26,
     "metadata": {},
     "output_type": "execute_result"
    }
   ],
   "source": [
    "n = 1000\n",
    "liked_coke = 520\n",
    "p = liked_coke/n\n",
    "p"
   ]
  },
  {
   "cell_type": "code",
   "execution_count": 27,
   "id": "35bdfa34-c213-471a-b995-c0edd4dc68b5",
   "metadata": {},
   "outputs": [],
   "source": [
    "#for 99% confidence,\n",
    "z_score = 2.575"
   ]
  },
  {
   "cell_type": "code",
   "execution_count": 28,
   "id": "721da637-f8ef-4369-8eba-4aa3cdc191de",
   "metadata": {},
   "outputs": [
    {
     "data": {
      "text/plain": [
       "(519.9593182596243, 520.0406817403757)"
      ]
     },
     "execution_count": 28,
     "metadata": {},
     "output_type": "execute_result"
    }
   ],
   "source": [
    "from math import sqrt\n",
    "lower_limit = liked_coke - (z_score*sqrt((p*(1-p))/n))\n",
    "upper_limit = liked_coke + (z_score*sqrt((p*(1-p))/n))\n",
    "lower_limit,upper_limit"
   ]
  },
  {
   "cell_type": "markdown",
   "id": "603df7f8-666a-49cd-8da6-da9bb6dfef34",
   "metadata": {},
   "source": [
    "Q8. A researcher hypothesizes that a coin is biased towards tails. They flip the coin 100 times and observe\n",
    "45 tails. Conduct a chi-square goodness of fit test to determine if the observed frequencies match the\n",
    "expected frequencies of a fair coin. Use a significance level of 0.05."
   ]
  },
  {
   "cell_type": "markdown",
   "id": "89774bd2-5cce-4d98-8572-176a2fe9fa2a",
   "metadata": {},
   "source": [
    "Null hypothesis : The observed frequencies match the expected frequencies of a fair coin\n",
    "\n",
    "Alternate hypothesis : The observed frequencies didnt match the expected frequencies of a fair coin"
   ]
  },
  {
   "cell_type": "code",
   "execution_count": 29,
   "id": "6131006a-66db-4e74-97db-4ea1bc2bcbf8",
   "metadata": {},
   "outputs": [],
   "source": [
    "# no of tails and no of heads observation:\n",
    "observed_data = [45,55]\n",
    "expected_data = [50,50]\n",
    "n =100"
   ]
  },
  {
   "cell_type": "code",
   "execution_count": 30,
   "id": "986cfca6-1f9e-4539-891a-fdd6321322ac",
   "metadata": {},
   "outputs": [
    {
     "data": {
      "text/plain": [
       "(1.0, 0.31731050786291115)"
      ]
     },
     "execution_count": 30,
     "metadata": {},
     "output_type": "execute_result"
    }
   ],
   "source": [
    "import scipy.stats as stats\n",
    "chi_square_test_statistic, p_value = stats.chisquare( \n",
    "    observed_data, expected_data) \n",
    "chi_square_test_statistic,p_value"
   ]
  },
  {
   "cell_type": "code",
   "execution_count": 31,
   "id": "f45cb8b2-6a3b-4436-b7b8-efe4d2ef120b",
   "metadata": {},
   "outputs": [
    {
     "data": {
      "text/plain": [
       "3.841458820694124"
      ]
     },
     "execution_count": 31,
     "metadata": {},
     "output_type": "execute_result"
    }
   ],
   "source": [
    "significance_value = 0.05\n",
    "dof = len(expected_data)-1\n",
    "critical_value = stats.chi2.ppf(1-significance_value,dof)\n",
    "critical_value"
   ]
  },
  {
   "cell_type": "code",
   "execution_count": 32,
   "id": "786fcec5-ddd7-4658-9305-cafd85c3047e",
   "metadata": {},
   "outputs": [
    {
     "name": "stdout",
     "output_type": "stream",
     "text": [
      "Fail to reject the null hypothesis\n"
     ]
    }
   ],
   "source": [
    "if chi_square_test_statistic > critical_value:\n",
    "    print(\"Reject the null hypothesis\")\n",
    "else:\n",
    "    print(\"Fail to reject the null hypothesis\")"
   ]
  },
  {
   "cell_type": "markdown",
   "id": "c6c94422-121c-4a93-be7a-2aa0678ec12c",
   "metadata": {},
   "source": [
    "Q9. A study was conducted to determine if there is an association between smoking status (smoker or\n",
    "non-smoker) and lung cancer diagnosis (yes or no). The results are shown in the contingency table below.\n",
    "Conduct a chi-square test for independence to determine if there is a significant association between\n",
    "smoking status and lung cancer diagnosis.\n",
    "\n",
    "Use a significance level of 0.05."
   ]
  },
  {
   "cell_type": "code",
   "execution_count": 33,
   "id": "9a64f5e8-8263-49f5-a0e2-f8dcbfe53ae6",
   "metadata": {},
   "outputs": [],
   "source": [
    "df2 = pd.DataFrame({\"Lung Cancer:Yes\":[60,30],\"Lung Cancer:No\":[140,170]},index = [\"Smoker\",\"Non-smoker\"])"
   ]
  },
  {
   "cell_type": "code",
   "execution_count": 34,
   "id": "45ef5465-10af-4b46-b466-ccf99f12a1a8",
   "metadata": {},
   "outputs": [
    {
     "data": {
      "text/html": [
       "<div>\n",
       "<style scoped>\n",
       "    .dataframe tbody tr th:only-of-type {\n",
       "        vertical-align: middle;\n",
       "    }\n",
       "\n",
       "    .dataframe tbody tr th {\n",
       "        vertical-align: top;\n",
       "    }\n",
       "\n",
       "    .dataframe thead th {\n",
       "        text-align: right;\n",
       "    }\n",
       "</style>\n",
       "<table border=\"1\" class=\"dataframe\">\n",
       "  <thead>\n",
       "    <tr style=\"text-align: right;\">\n",
       "      <th></th>\n",
       "      <th>Lung Cancer:Yes</th>\n",
       "      <th>Lung Cancer:No</th>\n",
       "    </tr>\n",
       "  </thead>\n",
       "  <tbody>\n",
       "    <tr>\n",
       "      <th>Smoker</th>\n",
       "      <td>60</td>\n",
       "      <td>140</td>\n",
       "    </tr>\n",
       "    <tr>\n",
       "      <th>Non-smoker</th>\n",
       "      <td>30</td>\n",
       "      <td>170</td>\n",
       "    </tr>\n",
       "  </tbody>\n",
       "</table>\n",
       "</div>"
      ],
      "text/plain": [
       "            Lung Cancer:Yes  Lung Cancer:No\n",
       "Smoker                   60             140\n",
       "Non-smoker               30             170"
      ]
     },
     "execution_count": 34,
     "metadata": {},
     "output_type": "execute_result"
    }
   ],
   "source": [
    "df2"
   ]
  },
  {
   "cell_type": "markdown",
   "id": "c820bb13-fdc7-461c-8e5b-742adab02282",
   "metadata": {},
   "source": [
    "Null Hypothesis : There is a significant association between\n",
    "smoking status and lung cancer diagnosis.\n",
    "\n",
    "Alternate Hypothesis : There is no significant association between\n",
    "smoking status and lung cancer diagnosis.\n"
   ]
  },
  {
   "cell_type": "code",
   "execution_count": 35,
   "id": "c3d698db-1e33-4789-aa03-6a0504f060ba",
   "metadata": {},
   "outputs": [
    {
     "data": {
      "text/plain": [
       "(12.057347670250895,\n",
       " 0.0005158863863703744,\n",
       " 1,\n",
       " array([[ 45., 155.],\n",
       "        [ 45., 155.]]))"
      ]
     },
     "execution_count": 35,
     "metadata": {},
     "output_type": "execute_result"
    }
   ],
   "source": [
    "from scipy.stats import chi2_contingency\n",
    "\n",
    "stat, p, dof, expected = chi2_contingency(df2)\n",
    "stat, p, dof, expected"
   ]
  },
  {
   "cell_type": "code",
   "execution_count": 36,
   "id": "22329fb0-fff4-44bc-a822-54159e48f43d",
   "metadata": {},
   "outputs": [
    {
     "data": {
      "text/plain": [
       "3.841458820694124"
      ]
     },
     "execution_count": 36,
     "metadata": {},
     "output_type": "execute_result"
    }
   ],
   "source": [
    "significance_value = 0.05\n",
    "critical_value = stats.chi2.ppf(1-significance_value,1)\n",
    "critical_value"
   ]
  },
  {
   "cell_type": "code",
   "execution_count": 51,
   "id": "030326ef-7485-4211-be9e-e2dd2f44b808",
   "metadata": {},
   "outputs": [
    {
     "name": "stdout",
     "output_type": "stream",
     "text": [
      "Reject the null hypothesis\n"
     ]
    }
   ],
   "source": [
    "if stat > critical_value:\n",
    "    print(\"Reject the null hypothesis\")\n",
    "else:\n",
    "    print(\"Fail to reject the null hypothesis\")"
   ]
  },
  {
   "cell_type": "markdown",
   "id": "fdd59dc9-3029-4d9c-bf14-f690b85ee932",
   "metadata": {},
   "source": [
    "Q10. A study was conducted to determine if the proportion of people who prefer milk chocolate, dark\n",
    "chocolate, or white chocolate is different in the U.S. versus the U.K. A random sample of 500 people from\n",
    "the U.S. and a random sample of 500 people from the U.K. were surveyed. The results are shown in the\n",
    "contingency table below. Conduct a chi-square test for independence to determine if there is a significant\n",
    "association between chocolate preference and country of origin.\n",
    "\n",
    "Use a significance level of 0.01."
   ]
  },
  {
   "cell_type": "code",
   "execution_count": 38,
   "id": "16f08322-80d7-4f11-b2f2-91570ba3d19e",
   "metadata": {},
   "outputs": [],
   "source": [
    "df3 = pd.DataFrame({\"Milk Chocolate\":[200,225],\"Dark Chocolate\":[150,175],\"White Chocolate\":[150,100]},index = [\"U.S.(n=500)\",\"U.K.(n=500)\"])"
   ]
  },
  {
   "cell_type": "code",
   "execution_count": 39,
   "id": "6d5cc062-407b-4a3f-9a5f-2fff77516da8",
   "metadata": {},
   "outputs": [
    {
     "data": {
      "text/html": [
       "<div>\n",
       "<style scoped>\n",
       "    .dataframe tbody tr th:only-of-type {\n",
       "        vertical-align: middle;\n",
       "    }\n",
       "\n",
       "    .dataframe tbody tr th {\n",
       "        vertical-align: top;\n",
       "    }\n",
       "\n",
       "    .dataframe thead th {\n",
       "        text-align: right;\n",
       "    }\n",
       "</style>\n",
       "<table border=\"1\" class=\"dataframe\">\n",
       "  <thead>\n",
       "    <tr style=\"text-align: right;\">\n",
       "      <th></th>\n",
       "      <th>Milk Chocolate</th>\n",
       "      <th>Dark Chocolate</th>\n",
       "      <th>White Chocolate</th>\n",
       "    </tr>\n",
       "  </thead>\n",
       "  <tbody>\n",
       "    <tr>\n",
       "      <th>U.S.(n=500)</th>\n",
       "      <td>200</td>\n",
       "      <td>150</td>\n",
       "      <td>150</td>\n",
       "    </tr>\n",
       "    <tr>\n",
       "      <th>U.K.(n=500)</th>\n",
       "      <td>225</td>\n",
       "      <td>175</td>\n",
       "      <td>100</td>\n",
       "    </tr>\n",
       "  </tbody>\n",
       "</table>\n",
       "</div>"
      ],
      "text/plain": [
       "             Milk Chocolate  Dark Chocolate  White Chocolate\n",
       "U.S.(n=500)             200             150              150\n",
       "U.K.(n=500)             225             175              100"
      ]
     },
     "execution_count": 39,
     "metadata": {},
     "output_type": "execute_result"
    }
   ],
   "source": [
    "df3"
   ]
  },
  {
   "cell_type": "markdown",
   "id": "28de1728-89d6-4f5e-80c7-07b77ff7a214",
   "metadata": {},
   "source": [
    "Null hypothesis : There is a significant\n",
    "association between chocolate preference and country of origin.\n",
    "\n",
    "Alternate hypothesis : There is no significant\n",
    "association between chocolate preference and country of origin."
   ]
  },
  {
   "cell_type": "code",
   "execution_count": 40,
   "id": "57688169-be6e-4adb-b369-a62de5a3263f",
   "metadata": {},
   "outputs": [
    {
     "data": {
      "text/plain": [
       "(13.393665158371041,\n",
       " 0.0012348168997745918,\n",
       " 2,\n",
       " array([[212.5, 162.5, 125. ],\n",
       "        [212.5, 162.5, 125. ]]))"
      ]
     },
     "execution_count": 40,
     "metadata": {},
     "output_type": "execute_result"
    }
   ],
   "source": [
    "from scipy.stats import chi2_contingency\n",
    "\n",
    "stat, p, dof, expected = chi2_contingency(df3)\n",
    "stat, p, dof, expected"
   ]
  },
  {
   "cell_type": "code",
   "execution_count": 41,
   "id": "dc19d42c-8545-4d5b-9f5b-4059ea59a119",
   "metadata": {},
   "outputs": [
    {
     "data": {
      "text/plain": [
       "9.21034037197618"
      ]
     },
     "execution_count": 41,
     "metadata": {},
     "output_type": "execute_result"
    }
   ],
   "source": [
    "significance_value = 0.01\n",
    "critical_value = stats.chi2.ppf(1-significance_value,2)\n",
    "critical_value"
   ]
  },
  {
   "cell_type": "code",
   "execution_count": 50,
   "id": "c7b11db2-e95c-41cf-9578-81705b534ae9",
   "metadata": {},
   "outputs": [
    {
     "name": "stdout",
     "output_type": "stream",
     "text": [
      "Reject the null hypothesis\n"
     ]
    }
   ],
   "source": [
    "if stat > critical_value:\n",
    "    print(\"Reject the null hypothesis\")\n",
    "else:\n",
    "    print(\"Fail to reject the null hypothesis\")"
   ]
  },
  {
   "cell_type": "markdown",
   "id": "9623e252-165d-47e5-8fe7-ab73e65bbe44",
   "metadata": {},
   "source": [
    "Q11. A random sample of 30 people was selected from a population with an unknown mean and standard\n",
    "deviation. The sample mean was found to be 72 and the sample standard deviation was found to be 10.\n",
    "Conduct a hypothesis test to determine if the population mean is significantly different from 70. Use a\n",
    "significance level of 0.05."
   ]
  },
  {
   "cell_type": "code",
   "execution_count": 43,
   "id": "38b836e7-fa18-4b9a-9451-73e21e851303",
   "metadata": {},
   "outputs": [],
   "source": [
    "import numpy as np \n",
    "data =np.linspace(10,100,30)"
   ]
  },
  {
   "cell_type": "code",
   "execution_count": 44,
   "id": "de8c7500-cb86-4740-a8ca-ff7fb2e04416",
   "metadata": {},
   "outputs": [
    {
     "data": {
      "text/plain": [
       "(54.999999999999986, 26.86171483985955)"
      ]
     },
     "execution_count": 44,
     "metadata": {},
     "output_type": "execute_result"
    }
   ],
   "source": [
    "mean1 = np.mean(data)\n",
    "std1 = np.std(data)\n",
    "mean1,std1"
   ]
  },
  {
   "cell_type": "code",
   "execution_count": 45,
   "id": "718ade0e-4624-4689-bd0f-290c39d17a00",
   "metadata": {},
   "outputs": [],
   "source": [
    "df4 =pd.DataFrame({\"Mean\":[72,mean1] ,\"Standard deviation\" :[10,std1]}, index = [\"observed\",\"expected\"])"
   ]
  },
  {
   "cell_type": "code",
   "execution_count": 46,
   "id": "28cc53f3-0fca-477f-99c0-7d670222d9aa",
   "metadata": {},
   "outputs": [
    {
     "data": {
      "text/html": [
       "<div>\n",
       "<style scoped>\n",
       "    .dataframe tbody tr th:only-of-type {\n",
       "        vertical-align: middle;\n",
       "    }\n",
       "\n",
       "    .dataframe tbody tr th {\n",
       "        vertical-align: top;\n",
       "    }\n",
       "\n",
       "    .dataframe thead th {\n",
       "        text-align: right;\n",
       "    }\n",
       "</style>\n",
       "<table border=\"1\" class=\"dataframe\">\n",
       "  <thead>\n",
       "    <tr style=\"text-align: right;\">\n",
       "      <th></th>\n",
       "      <th>Mean</th>\n",
       "      <th>Standard deviation</th>\n",
       "    </tr>\n",
       "  </thead>\n",
       "  <tbody>\n",
       "    <tr>\n",
       "      <th>observed</th>\n",
       "      <td>72.0</td>\n",
       "      <td>10.000000</td>\n",
       "    </tr>\n",
       "    <tr>\n",
       "      <th>expected</th>\n",
       "      <td>55.0</td>\n",
       "      <td>26.861715</td>\n",
       "    </tr>\n",
       "  </tbody>\n",
       "</table>\n",
       "</div>"
      ],
      "text/plain": [
       "          Mean  Standard deviation\n",
       "observed  72.0           10.000000\n",
       "expected  55.0           26.861715"
      ]
     },
     "execution_count": 46,
     "metadata": {},
     "output_type": "execute_result"
    }
   ],
   "source": [
    "df4"
   ]
  },
  {
   "cell_type": "markdown",
   "id": "8f9ad724-0f8b-4932-82fc-51f07f39c9ff",
   "metadata": {},
   "source": [
    "Null hypothesis : The population mean is significantly different from 70.\n",
    "\n",
    "Alternate hypothesis : The population mean is same as 70."
   ]
  },
  {
   "cell_type": "code",
   "execution_count": 47,
   "id": "e3bed260-c84e-4e9f-9d50-5527ca911897",
   "metadata": {},
   "outputs": [
    {
     "data": {
      "text/plain": [
       "(8.840984704902045,\n",
       " 0.0029454018485928443,\n",
       " 1,\n",
       " array([[63.55358853, 18.44641147],\n",
       "        [63.44641147, 18.41530337]]))"
      ]
     },
     "execution_count": 47,
     "metadata": {},
     "output_type": "execute_result"
    }
   ],
   "source": [
    "from scipy.stats import chi2_contingency\n",
    "\n",
    "stat, p, dof, expected = chi2_contingency(df4)\n",
    "stat, p, dof, expected"
   ]
  },
  {
   "cell_type": "code",
   "execution_count": 48,
   "id": "8b1f92f1-9f7f-4cab-9720-c7ecc0c61ec4",
   "metadata": {},
   "outputs": [
    {
     "data": {
      "text/plain": [
       "3.841458820694124"
      ]
     },
     "execution_count": 48,
     "metadata": {},
     "output_type": "execute_result"
    }
   ],
   "source": [
    "significance_value = 0.05\n",
    "critical_value = stats.chi2.ppf(1-significance_value,1)\n",
    "critical_value"
   ]
  },
  {
   "cell_type": "code",
   "execution_count": 49,
   "id": "17201ed7-5e57-4f1f-a414-af621906a453",
   "metadata": {},
   "outputs": [
    {
     "name": "stdout",
     "output_type": "stream",
     "text": [
      "Reject the null hypothesis\n"
     ]
    }
   ],
   "source": [
    "if stat > critical_value:\n",
    "    print(\"Reject the null hypothesis\")\n",
    "else:\n",
    "    print(\"Fail to reject the null hypothesis\")"
   ]
  },
  {
   "cell_type": "code",
   "execution_count": null,
   "id": "f8f7201a-2348-4f0e-b8e9-d5c834e1992b",
   "metadata": {},
   "outputs": [],
   "source": []
  }
 ],
 "metadata": {
  "kernelspec": {
   "display_name": "Python 3 (ipykernel)",
   "language": "python",
   "name": "python3"
  },
  "language_info": {
   "codemirror_mode": {
    "name": "ipython",
    "version": 3
   },
   "file_extension": ".py",
   "mimetype": "text/x-python",
   "name": "python",
   "nbconvert_exporter": "python",
   "pygments_lexer": "ipython3",
   "version": "3.10.8"
  }
 },
 "nbformat": 4,
 "nbformat_minor": 5
}

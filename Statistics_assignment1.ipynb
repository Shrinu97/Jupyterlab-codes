{
 "cells": [
  {
   "cell_type": "markdown",
   "id": "ed983c55-943a-4f72-b21f-379df70f634a",
   "metadata": {},
   "source": [
    "Q1. What is Statistics?"
   ]
  },
  {
   "cell_type": "markdown",
   "id": "73de22df-b059-45e7-a535-85abc828bc75",
   "metadata": {},
   "source": [
    "ans: \n",
    "\n",
    "Statistics is the study and manipulation of data, including ways to gather, review, analyze, and draw conclusions from data. The two major areas of statistics are descriptive and inferential statistics.\n",
    "\n"
   ]
  },
  {
   "cell_type": "markdown",
   "id": "ef8827f3-f4be-4314-a8af-2165d2ae6283",
   "metadata": {},
   "source": [
    "Q2. Define the different types of statistics and give an example of when each type might be used."
   ]
  },
  {
   "cell_type": "markdown",
   "id": "cb189543-eb57-488d-987e-cf2b4da0c744",
   "metadata": {},
   "source": [
    "ans: \n",
    "\n",
    "Statistics have majorly categorised into two types:\n",
    "\n",
    "Descriptive statistics\n",
    "\n",
    "Inferential statistics"
   ]
  },
  {
   "cell_type": "markdown",
   "id": "9b2de60f-6f43-46da-b86c-ee88944cc38e",
   "metadata": {},
   "source": [
    "# Descriptive Statistics\n",
    "\n",
    "In this type of statistics, the data is summarised through the given observations. The summarisation is one from a sample of population using parameters such as the mean or standard deviation.\n",
    "\n",
    "Descriptive statistics are also categorised into four different categories:\n",
    "\n",
    "Measure of frequency\n",
    "\n",
    "Measure of dispersion\n",
    "\n",
    "Measure of central tendency\n",
    "\n",
    "Measure of position\n",
    "\n",
    "\n",
    "The frequency measurement displays the number of times a particular data occurs. Range, Variance, Standard Deviation are measures of dispersion. It identifies the spread of data. Central tendencies are the mean, median and mode of the data. And the measure of position describes the percentile and quartile ranks.\n",
    "\n",
    "In a nutshell, descriptive statistics focus on describing the visible characteristics of a dataset (a population or sample)."
   ]
  },
  {
   "cell_type": "markdown",
   "id": "522152e2-063b-4cac-b79a-8f0a3c3a5bf2",
   "metadata": {},
   "source": [
    "# Inferential Statistics\n",
    "\n",
    "This type of statistics is used to interpret the meaning of Descriptive statistics. That means once the data has been collected, analysed and summarised then we use these stats to describe the meaning of the collected data. Or we can say, it is used to draw conclusions from the data that depends on random variations such as observational errors, sampling variation, etc.\n",
    "\n",
    "Inferential Statistics is a method that allows us to use information collected from a sample to make decisions, predictions or inferences from a population. It grants us permission to give statements that goes beyond the available data or information. \n",
    "\n",
    "For example, deriving estimates from hypothetical research."
   ]
  },
  {
   "cell_type": "markdown",
   "id": "954ad547-38c8-4052-8062-05f9e6d15f28",
   "metadata": {},
   "source": [
    "Q3. What are the different types of data and how do they differ from each other? Provide an example of each type of data."
   ]
  },
  {
   "cell_type": "markdown",
   "id": "82ccd8c8-d5e2-4a96-8a25-df01bef7c03a",
   "metadata": {},
   "source": [
    "ans:\n",
    "\n",
    "Data is defined as a systematic record corresponding to a specific quantity.\n",
    "\n",
    "In statistics, there are four main types of data: \n",
    "\n",
    "1. Quantative:\n",
    "\n",
    " a. Discrete\n",
    "\n",
    " b. Continuous\n",
    "\n",
    "2. Qualitative:\n",
    "\n",
    " a. nominal\n",
    "\n",
    " b. ordinal \n"
   ]
  },
  {
   "cell_type": "markdown",
   "id": "5b32ae5b-0024-41b8-9f0d-3c36a0d44f2e",
   "metadata": {},
   "source": [
    "# Qualitative or Categorical Data:\n",
    "\n",
    "Qualitative or Categorical Data is data that can’t be measured or counted in the form of numbers. These types of data are sorted by category, not by number. That’s why it is also known as Categorical Data. \n",
    "\n",
    "The Qualitative data are further classified into two parts :"
   ]
  },
  {
   "cell_type": "markdown",
   "id": "6e0611c4-beec-4316-bddb-631102402fbe",
   "metadata": {},
   "source": [
    "# Nominal data\n",
    "Nominal data is a type of data that consists of categories or names that cannot be ordered or ranked. Nominal data is often used to categorize observations into groups, and the groups are not comparable. In other words, nominal data has no inherent order or ranking. \n",
    "\n",
    "Examples of nominal data include gender (male/female), race (White/Black/Asian), religion (Christianity/Islam/Judaism), and blood type (A/B/AB/O)."
   ]
  },
  {
   "cell_type": "markdown",
   "id": "d7311ca1-366b-4887-9f62-28a0c5a6d68c",
   "metadata": {},
   "source": [
    "# Ordinal Data\n",
    "\n",
    "Ordinal data is qualitative data for which their values have some kind of relative position. These kinds of data can be considered “in-between” qualitative and quantitative data. The ordinal data only shows the sequences and cannot use for statistical analysis. Compared to nominal data, ordinal data have some kind of order that is not present in nominal data. \n",
    "\n",
    "Examples of Ordinal Data :\n",
    "When companies ask for feedback, experience, or satisfaction on a scale of 1 to 10\n",
    "Letter grades in the exam (A, B, C, D, etc.)\n",
    "Ranking of people in a competition (First, Second, Third, etc.)"
   ]
  },
  {
   "cell_type": "markdown",
   "id": "63e1183d-fae3-4479-99dc-7ef82850c44c",
   "metadata": {},
   "source": [
    "# Quantitative Data:\n",
    "\n",
    "Quantitative data can be expressed in numerical values, making it countable and including statistical data analysis. These kinds of data are also known as Numerical data.\n",
    "\n",
    "The Quantitative data are further classified into two parts :"
   ]
  },
  {
   "cell_type": "markdown",
   "id": "6a3886f8-f7bd-49dc-8de3-bfbe6c2fa240",
   "metadata": {},
   "source": [
    "# Discrete Data:\n",
    "\n",
    "The term discrete means distinct or separate. The discrete data contain the values that fall under integers or whole numbers.The discrete data are countable and have finite values; their subdivision is not possible. These data are represented mainly by a bar graph, number line, or frequency table.\n",
    "\n",
    "Examples of Discrete Data : \n",
    "Total numbers of students present in a class\n",
    "Cost of a cell phone\n",
    "Numbers of employees in a company"
   ]
  },
  {
   "cell_type": "markdown",
   "id": "54fba76e-00fa-4214-93c0-3722bddb0d07",
   "metadata": {},
   "source": [
    "# Continuous Data:\n",
    "\n",
    "Continuous data are in the form of fractional numbers. Continuous data represents information that can be divided into smaller levels. The continuous variable can take any value within a range. \n",
    "\n",
    "Examples of Continuous Data : \n",
    "Height of a person\n",
    "Speed of a vehicle\n",
    "“Time-taken” to finish the work \n",
    "Wi-Fi Frequency\n",
    "Market share price"
   ]
  },
  {
   "cell_type": "markdown",
   "id": "0f43490f-cf31-4c02-a8be-89cf26e6ce8d",
   "metadata": {},
   "source": [
    "Q4. Categorise the following datasets with respect to quantitative and qualitative data types:\n",
    "\n",
    "(i) Grading in exam: A+, A, B+, B, C+, C, D, E: **Qualitative** :- Ordinal\n",
    "\n",
    "(ii) Colour of mangoes: yellow, green, orange, red: **Qualitative** :- Nominal\n",
    "\n",
    "(iii) Height data of a class: [178.9, 179, 179.5, 176, 177.2, 178.3, 175.8,...]:**Quantitative** :- Continuous\n",
    "\n",
    "(iv) Number of mangoes exported by a farm: [500, 600, 478, 672, ...]**Quantitative** :- Discrete"
   ]
  },
  {
   "cell_type": "markdown",
   "id": "38798506-daf4-4a08-9d91-7bb35a53d340",
   "metadata": {},
   "source": [
    "Q5. Explain the concept of levels of measurement and give an example of a variable for each level."
   ]
  },
  {
   "cell_type": "markdown",
   "id": "4c8fb3c9-b8e2-4e09-aef5-e140b971b77b",
   "metadata": {},
   "source": [
    "ans:\n",
    "\n",
    "Levels of measurement, or scales of measurement, are descriptors that indicate the precision with which you can record variables. The most basic level of measurement indicates one can exclusively categorize a variable, while more complex levels of measurement indicate that the variable is compatible with descriptors like ranking, the inference of equal intervals and the presence of true zero points"
   ]
  },
  {
   "cell_type": "markdown",
   "id": "f60952bf-0ba3-4983-a27e-c90e0c5b36d3",
   "metadata": {},
   "source": [
    "# Nominal level\n",
    "\n",
    "You can categorize your data by labelling them in mutually exclusive groups, but there is no order between the categories.\n",
    "\n",
    "Examples of nominal scales: \n",
    "\n",
    "City of birth,\n",
    "Gender,\n",
    "Ethnicity,\n",
    "Car brands, and\n",
    "Marital status"
   ]
  },
  {
   "cell_type": "markdown",
   "id": "055dd21f-9ecb-48dd-b930-9b936185b1e2",
   "metadata": {},
   "source": [
    "# Ordinal level:\n",
    "\n",
    "You can categorize and rank your data in an order, but you cannot say anything about the intervals between the rankings.\n",
    "Although you can rank the top 5 Olympic medallists, this scale does not tell you how close or far apart they are in number of wins.\n",
    "\n",
    "Examples of ordinal scales:\n",
    "\n",
    "Top 5 Olympic medallists,\n",
    "Language ability (e.g., beginner, intermediate, fluent),\n",
    "Likert-type questions  (e.g., very dissatisfied to very satisfied)"
   ]
  },
  {
   "cell_type": "markdown",
   "id": "ed2f02ec-9ad4-4a61-abef-5f7116ae6c61",
   "metadata": {},
   "source": [
    "# Interval level:\n",
    "\n",
    "You can categorize, rank, and infer equal intervals between neighboring data points, but there is no true zero point.\n",
    "The difference between any two adjacent temperatures is the same: one degree. But  zero degrees is defined differently depending on the scale – it doesn’t mean an absolute absence of temperature.\n",
    "\n",
    "Examples of interval scales:\n",
    "\n",
    "Test scores (e.g., IQ or exams),\n",
    "Personality inventories,\n",
    "Temperature in Fahrenheit or Celsius"
   ]
  },
  {
   "cell_type": "markdown",
   "id": "990d47d7-3d46-47a6-8cb9-d0abcfe70515",
   "metadata": {},
   "source": [
    "# Ratio level:\n",
    "\n",
    "You can categorize, rank, and infer equal intervals between neighboring data points, and there is a true zero point.\n",
    "A true zero means there is an absence of the variable of interest. In ratio scales, zero does mean an absolute lack of the variable.\n",
    "\n",
    "For example, in the Kelvin temperature scale, there are no negative degrees of temperature – zero means an absolute lack of thermal energy.\n",
    "\n",
    "Examples of ratio scales:\n",
    "\n",
    "Height,\n",
    "Age,\n",
    "Weight,\n",
    "Temperature in Kelvin"
   ]
  },
  {
   "cell_type": "markdown",
   "id": "e8796bb8-5c28-4443-8339-dee30d72c814",
   "metadata": {},
   "source": [
    "Q6. Why is it important to understand the level of measurement when analyzing data? Provide an example to illustrate your answer."
   ]
  },
  {
   "cell_type": "markdown",
   "id": "d3bfa5de-2411-4b50-8055-59c47cdc62fd",
   "metadata": {},
   "source": [
    "ans:\n",
    "\n",
    "It is important to understand the level of measurement of variables in research, because the level of measurement determines the type of statistical analysis that can be conducted, and, therefore, the type of conclusions that can be drawn from the research.\n",
    "\n",
    "Example:\n",
    "\n",
    "Let’s assume that in this particular election context the only relevant attributes are “republican”, “democrat”, and “independent”. For purposes of analyzing the results of this variable, we arbitrarily assign the values 1, 2 and 3 to the three attributes. The level of measurement describes the relationship among these three values. In this case, we simply are using the numbers as shorter placeholders for the lengthier text terms. We don’t assume that higher values mean “more” of something and lower numbers signify “less”. We don’t assume the value of 2 means that democrats are twice something that republicans are. We don’t assume that republicans are in first place or have the highest priority just because they have the value of 1. In this case, we only use the values as a shorter name for the attribute. Here, we would describe the level of measurement as “nominal”.\n",
    "    \n",
    "    "
   ]
  },
  {
   "cell_type": "markdown",
   "id": "e29938de-c6e4-43d3-a8a1-c73cfaaef102",
   "metadata": {},
   "source": [
    "Q7. How nominal data type is different from ordinal data type."
   ]
  },
  {
   "cell_type": "markdown",
   "id": "55d4df06-6352-4194-a523-a25cc3cfd7f0",
   "metadata": {},
   "source": [
    "ans:\n",
    "\n",
    "The main differences between Nominal Data and Ordinal Data are:\n",
    "\n",
    "1. While Nominal Data is classified without any intrinsic ordering or rank, Ordinal Data has some predetermined or natural order. \n",
    "\n",
    "2. Nominal data is qualitative or categorical data, while Ordinal data is considered “in-between” qualitative and quantitative data.\n",
    "\n",
    "3. Nominal data do not provide any quantitative value, and you cannot perform numeric operations with them or compare them with one another. However, Ordinal data provide sequence, and it is possible to assign numbers to the data. No numeric operations can be performed. But ordinal data makes it possible to compare one item with another in terms of ranking.\n",
    "\n",
    "4. Example of Nominal Data – Eye color, Gender; Example of Ordinal data – Customer Feedback, Economic Status\n"
   ]
  },
  {
   "cell_type": "markdown",
   "id": "df576cf6-8c54-4338-877c-8c14673799b6",
   "metadata": {},
   "source": [
    "Q8. Which type of plot can be used to display data in terms of range?"
   ]
  },
  {
   "cell_type": "markdown",
   "id": "bc33ef80-deaf-4847-9629-20b706b7962e",
   "metadata": {},
   "source": [
    "ans:\n",
    "\n",
    "Histograms are used in statistics, business and economics where numerical data plays a crucial role. A typical histogram looks like a bar chart. However, a bar chart provides comparisons of fixed values of a category, while in a histogram, each bar represents a range of value such as age in the range of 25-40."
   ]
  },
  {
   "cell_type": "markdown",
   "id": "fa625de6-525c-4a18-81f4-aa77b9097e4a",
   "metadata": {},
   "source": [
    "Q9. Describe the difference between descriptive and inferential statistics. Give an example of each type of statistics and explain how they are used."
   ]
  },
  {
   "cell_type": "markdown",
   "id": "9f082eb9-a25a-48f3-b793-1f850a8aa4f7",
   "metadata": {},
   "source": [
    "ans:\n",
    "\n",
    "Difference Between Descriptive and Inferential Statistics:\n",
    "\n",
    "1. Descriptive Statistics describe and summarize data and Inferential Statistics make inferences and draw conclusions about a population based on sample data.\n",
    "\n",
    "2. Descriptive Statistics analyzes and interprets the characteristics of a dataset and Inferential Statistics uses sample data to make generalizations or predictions about a larger population.\n",
    "\n",
    "3. Descriptive Statistics focuses on the entire population or dataset and Inferential Statistics focuses on a subset of the population (sample) to draw conclusions about the entire population\n",
    "\n",
    "4. Descriptive Statistics provides measures of central tendency and dispersion and Inferential Statistics estimates parameters, tests hypotheses, and determines the level of confidence or significance in the results.\n",
    "\n",
    "\n",
    "Examples of Descriptive :Mean, median, mode, standard deviation, range, frequency tables\n",
    "\n",
    "Examples of Inferential :Hypothesis testing, confidence intervals, regression analysis, ANOVA (analysis of variance), chi-square tests, t-tests, etc.\n",
    "\n",
    "how descriptive statistics are used:\n",
    "\n",
    "Data is typically arranged and displayed in tables or graphs summarizing details such as histograms, pie charts, bars or scatter plots.\n",
    "\n",
    "Descriptive Statistics are just descriptive and thus do not require normalization beyond the Data collected.\n",
    "\n",
    "how descriptive statistics are used:\n",
    "\n",
    "Inferential Statistics use the probability principle to assess whether trends contained in the research sample can be generalized to the larger population from which the sample originally comes.\n",
    "\n",
    "Inferential Statistics are intended to test hypotheses and investigate relationships between variables and can be used to make population predictions.\n",
    "\n",
    "Inferential Statistics are used to draw conclusions and inferences, i.e., to make valid generalizations from samples.\n",
    "\n"
   ]
  },
  {
   "cell_type": "markdown",
   "id": "e6d691fe-fd18-4a86-bdd5-a16fa8f64bce",
   "metadata": {},
   "source": [
    "Q10. What are some common measures of central tendency and variability used in statistics? Explain\n",
    "how each measure can be used to describe a dataset."
   ]
  },
  {
   "cell_type": "markdown",
   "id": "f04e82f3-0b71-4e04-95da-3f6d5ff5197c",
   "metadata": {},
   "source": [
    "ans:\n",
    "\n",
    "The central tendency measure is defined as the number used to represent the center or middle of a set of data values. The three commonly used measures of central tendency are the mean, median, and mode.\n",
    "\n",
    "Variability describes how far apart data points lie from each other and from the center of a distribution. Along with measures of central tendency, measures of variability give you descriptive statistics that summarize your data.The common measures of variability used in statistics are range, interquartile range, standard deviation and variance.\n",
    "  "
   ]
  },
  {
   "cell_type": "markdown",
   "id": "c8816d44-df28-4c83-8d9f-2a52d83ec2a5",
   "metadata": {},
   "source": [
    "# Measure of Central Tendency:\n"
   ]
  },
  {
   "cell_type": "markdown",
   "id": "347cfde4-b3d6-4609-9a7d-652a7d5dd492",
   "metadata": {},
   "source": [
    "**Mean**:\n",
    "\n",
    "The mean is the arithmetic average. You just add up all of the values and divide by the number of observations in your dataset.\n",
    "\n",
    "The calculation of the mean incorporates all values in the data. If you change any value, the mean changes. However, the mean doesn’t always locate the center of the data accurately.\n",
    "\n",
    "in a skewed distribution, the mean can miss the mark. outliers have a substantial impact on the mean as a measure of central tendency. Extreme values in an extended tail pull the mean away from the center. As the distribution becomes more skewed, the mean is drawn further away from the center. Consequently, it’s best to use the mean as a measure of the central tendency when you have a symmetric distribution."
   ]
  },
  {
   "cell_type": "markdown",
   "id": "046a5311-0f2d-46d7-8098-c65dfa1ed567",
   "metadata": {},
   "source": [
    "**Median**:\n",
    "\n",
    "The median is the middle value. It is the value that splits the dataset in half, making it a natural measure of central tendency.\n",
    "\n",
    "To find the median, order your data from smallest to largest, and then find the data point that has an equal number of values above it and below it. The method for locating the median varies slightly depending on whether your dataset has an even or odd number of values.\n",
    "\n",
    "In the dataset with the odd number of observations, middle data of the dataset is taken as median of the dataset.When there is an even number of values, you count in to the two innermost values and then take the average.\n",
    "\n",
    "Outliers and skewed data have a smaller effect on median as measures of central tendency. When comparing the mean vs median, the mean depends on all values in the dataset while the median does not. Consequently, when some of the values are more extreme, the effect on the median is smaller. Of course, with other types of changes, the median can change. When you have a skewed distribution, the median is a better measure of central tendency than the mean."
   ]
  },
  {
   "cell_type": "markdown",
   "id": "341c544d-8c16-4e6a-86af-6b556a631237",
   "metadata": {},
   "source": [
    "**Mode**:\n",
    "\n",
    "The mode is the value that occurs the most frequently in your data set, making it a different type of measure of central tendency than the mean or median.\n",
    "\n",
    "To find the mode, sort the values in your dataset by numeric values or by categories. Then identify the value that occurs most often.\n",
    "\n",
    "On a bar chart, the mode is the highest bar. If the data have multiple values that are tied for occurring the most frequently, you have a multimodal distribution. If no value repeats, the data do not have a mode.\n",
    "\n",
    "you use the mode with categorical, ordinal, and discrete data. In fact, the mode is the only measure of central tendency that you can use with categorical data—such as the most preferred flavor of ice cream. However, with categorical data, there isn’t a central value because you can’t order the groups. With ordinal and discrete data, the mode can be a value that is not in the center. Again, the mode represents the most common value."
   ]
  },
  {
   "cell_type": "markdown",
   "id": "3db06ccc-32bc-4e68-ab1b-905d718b5ba0",
   "metadata": {},
   "source": [
    "# Measure of Variability"
   ]
  },
  {
   "cell_type": "markdown",
   "id": "6db8b426-4010-4109-b612-5312be90fab1",
   "metadata": {},
   "source": [
    "**Range**:\n",
    "\n",
    "The range tells you the spread of your data from the lowest to the highest value in the distribution. It’s the easiest measure of variability to calculate.\n",
    "\n",
    "To find the range, simply subtract the lowest value from the highest value in the data set.\n",
    "\n",
    "Because only 2 numbers are used, the range is influenced by outliers and doesn’t give you any information about the distribution of values. It’s best used in combination with other measures."
   ]
  },
  {
   "cell_type": "markdown",
   "id": "70134211-9fa5-4c13-97d1-5a7f2dd97274",
   "metadata": {},
   "source": [
    "**Interquartile range**:\n",
    "\n",
    "The interquartile range gives you the spread of the middle of your distribution.\n",
    "\n",
    "For any distribution that’s ordered from low to high, the interquartile range contains half of the values. While the first quartile (Q1) contains the first 25% of values, the fourth quartile (Q4) contains the last 25% of values.\n",
    "\n",
    "The interquartile range is the third quartile (Q3) minus the first quartile (Q1). This gives us the range of the middle half of a data set.\n",
    "\n",
    "Just like the range, the interquartile range uses only 2 values in its calculation. But the IQR is less affected by outliers: the 2 values come from the middle half of the data set, so they are unlikely to be extreme scores.\n",
    "\n",
    "The IQR gives a consistent measure of variability for skewed as well as normal distributions."
   ]
  },
  {
   "cell_type": "markdown",
   "id": "255b8ef7-60dc-4f7a-8caa-734d191e5bf4",
   "metadata": {},
   "source": [
    "**Standard deviation**:\n",
    "\n",
    "The standard deviation is the average amount of variability in your dataset.\n",
    "\n",
    "It tells you, on average, how far each score lies from the mean. The larger the standard deviation, the more variable the data set is.\n",
    "\n",
    "There are six steps for finding the standard deviation by hand:\n",
    "\n",
    "1. List each score and find their mean.\n",
    "\n",
    "2. Subtract the mean from each score to get the deviation from the mean.\n",
    "\n",
    "3. Square each of these deviations.\n",
    "\n",
    "4. Add up all of the squared deviations.\n",
    "\n",
    "5. Divide the sum of the squared deviations by n – 1 (for a sample) or N (for a population).\n",
    "\n",
    "6. Find the square root of the number you found."
   ]
  },
  {
   "cell_type": "markdown",
   "id": "736fbd60-0afb-4199-933a-1d1839487828",
   "metadata": {},
   "source": [
    "**Vaiance**:\n",
    "\n",
    "The variance is the average of squared deviations from the mean. A deviation from the mean is how far a score lies from the mean.\n",
    "\n",
    "Variance is the square of the standard deviation. This means that the units of variance are much larger than those of a typical value of a data set.\n",
    "\n",
    "While it’s harder to interpret the variance number intuitively, it’s important to calculate variance for comparing different data sets in statistical tests like ANOVAs.\n",
    "\n",
    "Variance reflects the degree of spread in the data set. The more spread the data, the larger the variance is in relation to the mean."
   ]
  },
  {
   "cell_type": "code",
   "execution_count": null,
   "id": "88e4f323-cdf2-4629-a46a-706c312993ea",
   "metadata": {},
   "outputs": [],
   "source": []
  }
 ],
 "metadata": {
  "kernelspec": {
   "display_name": "Python 3 (ipykernel)",
   "language": "python",
   "name": "python3"
  },
  "language_info": {
   "codemirror_mode": {
    "name": "ipython",
    "version": 3
   },
   "file_extension": ".py",
   "mimetype": "text/x-python",
   "name": "python",
   "nbconvert_exporter": "python",
   "pygments_lexer": "ipython3",
   "version": "3.10.8"
  }
 },
 "nbformat": 4,
 "nbformat_minor": 5
}

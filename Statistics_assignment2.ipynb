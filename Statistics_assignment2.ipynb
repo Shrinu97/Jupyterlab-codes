{
 "cells": [
  {
   "cell_type": "markdown",
   "id": "1d3c0da2-a7dc-444a-b248-c6c0d0e359f7",
   "metadata": {},
   "source": [
    "Q1. What are the three measures of central tendency?"
   ]
  },
  {
   "cell_type": "markdown",
   "id": "33abb10e-88ee-4f1f-9120-3ed43831a783",
   "metadata": {},
   "source": [
    "ans:\n",
    "\n",
    "The central tendency measure is defined as the number used to represent the center or middle of a set of data values. The three commonly used measures of central tendency are the mean, median, and mode."
   ]
  },
  {
   "cell_type": "markdown",
   "id": "4bf254ff-0fa2-4a54-a746-638342d27e1e",
   "metadata": {},
   "source": [
    "Q2. What is the difference between the mean, median, and mode? How are they used to measure the\n",
    "central tendency of a dataset?"
   ]
  },
  {
   "cell_type": "markdown",
   "id": "5abfca99-0f2a-4583-bf8a-d4b328ac5af8",
   "metadata": {},
   "source": [
    "**Mean**:\n",
    "\n",
    "The mean is the arithmetic average. You just add up all of the values and divide by the number of observations in your dataset.\n",
    "\n",
    "The calculation of the mean incorporates all values in the data. If you change any value, the mean changes. However, the mean doesn’t always locate the center of the data accurately.\n",
    "\n",
    "in a skewed distribution, the mean can miss the mark. outliers have a substantial impact on the mean as a measure of central tendency. Extreme values in an extended tail pull the mean away from the center. As the distribution becomes more skewed, the mean is drawn further away from the center. Consequently, it’s best to use the mean as a measure of the central tendency when you have a symmetric distribution."
   ]
  },
  {
   "cell_type": "markdown",
   "id": "0edb68e5-beb1-4415-98e8-76261578fcd6",
   "metadata": {},
   "source": [
    "**Median**:\n",
    "\n",
    "The median is the middle value. It is the value that splits the dataset in half, making it a natural measure of central tendency.\n",
    "\n",
    "To find the median, order your data from smallest to largest, and then find the data point that has an equal number of values above it and below it. The method for locating the median varies slightly depending on whether your dataset has an even or odd number of values.\n",
    "\n",
    "In the dataset with the odd number of observations, middle data of the dataset is taken as median of the dataset.When there is an even number of values, you count in to the two innermost values and then take the average.\n",
    "\n",
    "Outliers and skewed data have a smaller effect on median as measures of central tendency. When comparing the mean vs median, the mean depends on all values in the dataset while the median does not. Consequently, when some of the values are more extreme, the effect on the median is smaller. Of course, with other types of changes, the median can change. When you have a skewed distribution, the median is a better measure of central tendency than the mean."
   ]
  },
  {
   "cell_type": "markdown",
   "id": "935ce683-7ed1-4e7f-a603-5b9339ed8ddf",
   "metadata": {},
   "source": [
    "**Mode**:\n",
    "\n",
    "The mode is the value that occurs the most frequently in your data set, making it a different type of measure of central tendency than the mean or median.\n",
    "\n",
    "To find the mode, sort the values in your dataset by numeric values or by categories. Then identify the value that occurs most often.\n",
    "\n",
    "On a bar chart, the mode is the highest bar. If the data have multiple values that are tied for occurring the most frequently, you have a multimodal distribution. If no value repeats, the data do not have a mode.\n",
    "\n",
    "you use the mode with categorical, ordinal, and discrete data. In fact, the mode is the only measure of central tendency that you can use with categorical data—such as the most preferred flavor of ice cream. However, with categorical data, there isn’t a central value because you can’t order the groups. With ordinal and discrete data, the mode can be a value that is not in the center. Again, the mode represents the most common value."
   ]
  },
  {
   "cell_type": "markdown",
   "id": "ce992b3a-dc4f-42c9-8c02-469da79d3030",
   "metadata": {},
   "source": [
    "Q3. Measure the three measures of central tendency for the given height data:\n",
    "\n",
    "\n",
    " [178,177,176,177,178.2,178,175,179,180,175,178.9,176.2,177,172.5,178,176.5]"
   ]
  },
  {
   "cell_type": "code",
   "execution_count": 2,
   "id": "5c973ea1-ddaa-4f01-a544-7858d47e99c1",
   "metadata": {},
   "outputs": [],
   "source": [
    "l = [178,177,176,177,178.2,178,175,179,180,175,178.9,176.2,177,172.5,178,176.5]"
   ]
  },
  {
   "cell_type": "code",
   "execution_count": 3,
   "id": "fb6dc7cc-154f-4be1-b9ee-ddd971c47ccc",
   "metadata": {},
   "outputs": [],
   "source": [
    "import numpy as np\n",
    "from statistics import mode"
   ]
  },
  {
   "cell_type": "code",
   "execution_count": 4,
   "id": "d6cc3636-427c-4599-a555-8a9d4215c0e8",
   "metadata": {},
   "outputs": [
    {
     "data": {
      "text/plain": [
       "177.01875"
      ]
     },
     "execution_count": 4,
     "metadata": {},
     "output_type": "execute_result"
    }
   ],
   "source": [
    "np.mean(l)"
   ]
  },
  {
   "cell_type": "code",
   "execution_count": 5,
   "id": "99318104-56ee-420b-8c92-c47093e8fa60",
   "metadata": {},
   "outputs": [
    {
     "data": {
      "text/plain": [
       "177.0"
      ]
     },
     "execution_count": 5,
     "metadata": {},
     "output_type": "execute_result"
    }
   ],
   "source": [
    "np.median(l)"
   ]
  },
  {
   "cell_type": "code",
   "execution_count": 6,
   "id": "0a00a5b3-69cb-4958-b35b-747a18db24c2",
   "metadata": {},
   "outputs": [
    {
     "data": {
      "text/plain": [
       "178"
      ]
     },
     "execution_count": 6,
     "metadata": {},
     "output_type": "execute_result"
    }
   ],
   "source": [
    "mode(l)"
   ]
  },
  {
   "cell_type": "markdown",
   "id": "b9366e83-df77-443b-ab53-7032324d0042",
   "metadata": {},
   "source": [
    "Q4. Find the standard deviation for the given data:\n",
    "    \n",
    "    \n",
    "\n",
    "[178,177,176,177,178.2,178,175,179,180,175,178.9,176.2,177,172.5,178,176.5]\n",
    "\n"
   ]
  },
  {
   "cell_type": "code",
   "execution_count": 7,
   "id": "72e05d93-929a-43d1-ae50-b5f9eb33a3e0",
   "metadata": {},
   "outputs": [],
   "source": [
    "l1 = [178,177,176,177,178.2,178,175,179,180,175,178.9,176.2,177,172.5,178,176.5]"
   ]
  },
  {
   "cell_type": "code",
   "execution_count": 8,
   "id": "af042ad5-3ac1-45a6-a746-1a2229a1213a",
   "metadata": {},
   "outputs": [
    {
     "data": {
      "text/plain": [
       "1.7885814036548633"
      ]
     },
     "execution_count": 8,
     "metadata": {},
     "output_type": "execute_result"
    }
   ],
   "source": [
    "np.std(l1)"
   ]
  },
  {
   "cell_type": "markdown",
   "id": "3633465f-ee6c-4791-ac45-b26694fdb5f6",
   "metadata": {},
   "source": [
    "Q5. How are measures of dispersion such as range, variance, and standard deviation used to describe the spread of a dataset? Provide an example."
   ]
  },
  {
   "cell_type": "markdown",
   "id": "26d11204-5e55-4013-9513-388416cb40fd",
   "metadata": {},
   "source": [
    "ans:\n",
    "\n",
    "Suppose you need a new quarterback for your football team and you are trying to decide between two quarterbacks who have played in the same league last season with roughly the\n",
    "same strength of schedule. The number of completions in each game for the 16 games of the previous season are shown for each quarterback:"
   ]
  },
  {
   "cell_type": "code",
   "execution_count": 9,
   "id": "d670e1d7-c030-478d-98ea-08a8231346a3",
   "metadata": {},
   "outputs": [],
   "source": [
    "import pandas as pd\n",
    "game = [ 1 ,2, 3, 4, 5, 6, 7, 8, 9, 10, 11, 12, 13, 14, 15, 16]\n",
    "quarterback_A =  [ 27, 30, 32, 28, 33, 28, 29, 30, 25, 24, 19, 22, 37, 27, 32, 25]\n",
    "quarterback_B =  [ 25, 33, 40, 19, 39, 35, 17, 12, 32, 33, 12, 39, 30, 17, 35, 30]"
   ]
  },
  {
   "cell_type": "code",
   "execution_count": 10,
   "id": "59472979-3469-48dd-9167-9987a0557197",
   "metadata": {},
   "outputs": [],
   "source": [
    "df = pd.DataFrame({\"Game\" : game, \"Quarterback A\": quarterback_A, \"Quarterback B\": quarterback_B})"
   ]
  },
  {
   "cell_type": "code",
   "execution_count": 11,
   "id": "cd4128bb-d8e3-4754-b84a-ac78c2d3f996",
   "metadata": {},
   "outputs": [
    {
     "data": {
      "text/html": [
       "<div>\n",
       "<style scoped>\n",
       "    .dataframe tbody tr th:only-of-type {\n",
       "        vertical-align: middle;\n",
       "    }\n",
       "\n",
       "    .dataframe tbody tr th {\n",
       "        vertical-align: top;\n",
       "    }\n",
       "\n",
       "    .dataframe thead th {\n",
       "        text-align: right;\n",
       "    }\n",
       "</style>\n",
       "<table border=\"1\" class=\"dataframe\">\n",
       "  <thead>\n",
       "    <tr style=\"text-align: right;\">\n",
       "      <th></th>\n",
       "      <th>Game</th>\n",
       "      <th>Quarterback A</th>\n",
       "      <th>Quarterback B</th>\n",
       "    </tr>\n",
       "  </thead>\n",
       "  <tbody>\n",
       "    <tr>\n",
       "      <th>0</th>\n",
       "      <td>1</td>\n",
       "      <td>27</td>\n",
       "      <td>25</td>\n",
       "    </tr>\n",
       "    <tr>\n",
       "      <th>1</th>\n",
       "      <td>2</td>\n",
       "      <td>30</td>\n",
       "      <td>33</td>\n",
       "    </tr>\n",
       "    <tr>\n",
       "      <th>2</th>\n",
       "      <td>3</td>\n",
       "      <td>32</td>\n",
       "      <td>40</td>\n",
       "    </tr>\n",
       "    <tr>\n",
       "      <th>3</th>\n",
       "      <td>4</td>\n",
       "      <td>28</td>\n",
       "      <td>19</td>\n",
       "    </tr>\n",
       "    <tr>\n",
       "      <th>4</th>\n",
       "      <td>5</td>\n",
       "      <td>33</td>\n",
       "      <td>39</td>\n",
       "    </tr>\n",
       "    <tr>\n",
       "      <th>5</th>\n",
       "      <td>6</td>\n",
       "      <td>28</td>\n",
       "      <td>35</td>\n",
       "    </tr>\n",
       "    <tr>\n",
       "      <th>6</th>\n",
       "      <td>7</td>\n",
       "      <td>29</td>\n",
       "      <td>17</td>\n",
       "    </tr>\n",
       "    <tr>\n",
       "      <th>7</th>\n",
       "      <td>8</td>\n",
       "      <td>30</td>\n",
       "      <td>12</td>\n",
       "    </tr>\n",
       "    <tr>\n",
       "      <th>8</th>\n",
       "      <td>9</td>\n",
       "      <td>25</td>\n",
       "      <td>32</td>\n",
       "    </tr>\n",
       "    <tr>\n",
       "      <th>9</th>\n",
       "      <td>10</td>\n",
       "      <td>24</td>\n",
       "      <td>33</td>\n",
       "    </tr>\n",
       "    <tr>\n",
       "      <th>10</th>\n",
       "      <td>11</td>\n",
       "      <td>19</td>\n",
       "      <td>12</td>\n",
       "    </tr>\n",
       "    <tr>\n",
       "      <th>11</th>\n",
       "      <td>12</td>\n",
       "      <td>22</td>\n",
       "      <td>39</td>\n",
       "    </tr>\n",
       "    <tr>\n",
       "      <th>12</th>\n",
       "      <td>13</td>\n",
       "      <td>37</td>\n",
       "      <td>30</td>\n",
       "    </tr>\n",
       "    <tr>\n",
       "      <th>13</th>\n",
       "      <td>14</td>\n",
       "      <td>27</td>\n",
       "      <td>17</td>\n",
       "    </tr>\n",
       "    <tr>\n",
       "      <th>14</th>\n",
       "      <td>15</td>\n",
       "      <td>32</td>\n",
       "      <td>35</td>\n",
       "    </tr>\n",
       "    <tr>\n",
       "      <th>15</th>\n",
       "      <td>16</td>\n",
       "      <td>25</td>\n",
       "      <td>30</td>\n",
       "    </tr>\n",
       "  </tbody>\n",
       "</table>\n",
       "</div>"
      ],
      "text/plain": [
       "    Game  Quarterback A  Quarterback B\n",
       "0      1             27             25\n",
       "1      2             30             33\n",
       "2      3             32             40\n",
       "3      4             28             19\n",
       "4      5             33             39\n",
       "5      6             28             35\n",
       "6      7             29             17\n",
       "7      8             30             12\n",
       "8      9             25             32\n",
       "9     10             24             33\n",
       "10    11             19             12\n",
       "11    12             22             39\n",
       "12    13             37             30\n",
       "13    14             27             17\n",
       "14    15             32             35\n",
       "15    16             25             30"
      ]
     },
     "execution_count": 11,
     "metadata": {},
     "output_type": "execute_result"
    }
   ],
   "source": [
    "df"
   ]
  },
  {
   "cell_type": "markdown",
   "id": "1b32a0f2-20f5-4a71-99da-75470caf6726",
   "metadata": {},
   "source": [
    "**Range:**\n",
    "\n",
    "The Range of a set of data is the largest measurement minus the smallest measurement.\n"
   ]
  },
  {
   "cell_type": "code",
   "execution_count": 12,
   "id": "7b7f4af4-1e50-4e48-ae9a-41ad8e39ce50",
   "metadata": {},
   "outputs": [],
   "source": [
    "Range_of_Quarterback_A = max(quarterback_A)-min(quarterback_A)"
   ]
  },
  {
   "cell_type": "code",
   "execution_count": 13,
   "id": "0ec00509-415a-4cb6-ab61-1a34ad67c187",
   "metadata": {},
   "outputs": [
    {
     "data": {
      "text/plain": [
       "18"
      ]
     },
     "execution_count": 13,
     "metadata": {},
     "output_type": "execute_result"
    }
   ],
   "source": [
    "Range_of_Quarterback_A"
   ]
  },
  {
   "cell_type": "code",
   "execution_count": 14,
   "id": "70ab6f91-63ee-4f4d-9135-6b6b65266e88",
   "metadata": {},
   "outputs": [],
   "source": [
    "Range_of_Quarterback_B = max(quarterback_B)-min(quarterback_B)"
   ]
  },
  {
   "cell_type": "code",
   "execution_count": 15,
   "id": "7f23097f-06b7-4de2-8683-a6f6147e9163",
   "metadata": {},
   "outputs": [
    {
     "data": {
      "text/plain": [
       "28"
      ]
     },
     "execution_count": 15,
     "metadata": {},
     "output_type": "execute_result"
    }
   ],
   "source": [
    "Range_of_Quarterback_B"
   ]
  },
  {
   "cell_type": "markdown",
   "id": "72fcf053-4842-4dde-a272-085e0f79864f",
   "metadata": {},
   "source": [
    "Although the range is easy to compute it is a crude measure of variability because it does not give much information about the spread or dispersion of the data.\n",
    "\n",
    "In order to catch the different patterns in variability above, we need a more subtle measure than the range. Two widely used measure of consistency (or lack of it) in the data are given by the variance and the standard deviation."
   ]
  },
  {
   "cell_type": "markdown",
   "id": "6d9dbcc2-1b95-4c79-b528-20b44f8bf78b",
   "metadata": {},
   "source": [
    "**Variance**\n",
    "\n",
    "The variance can be calculated by obtaining the sum of the squared distance of each term in the distribution from the Mean, and then dividing this by the total number of the terms in the distribution. \n",
    "\n",
    "It basically shows how far a number,is from the Mean of the entire class. "
   ]
  },
  {
   "cell_type": "code",
   "execution_count": 16,
   "id": "42a8f24f-7132-4bce-911d-7fa7e4361d4c",
   "metadata": {},
   "outputs": [
    {
     "data": {
      "text/plain": [
       "18.75"
      ]
     },
     "execution_count": 16,
     "metadata": {},
     "output_type": "execute_result"
    }
   ],
   "source": [
    "np.var(quarterback_A)"
   ]
  },
  {
   "cell_type": "code",
   "execution_count": 17,
   "id": "4328dd61-832d-4450-b675-3ea4375e0c23",
   "metadata": {},
   "outputs": [
    {
     "data": {
      "text/plain": [
       "87.625"
      ]
     },
     "execution_count": 17,
     "metadata": {},
     "output_type": "execute_result"
    }
   ],
   "source": [
    "np.var(quarterback_B)"
   ]
  },
  {
   "cell_type": "code",
   "execution_count": 18,
   "id": "1ff7ee97-fba0-4552-9857-0ed7c3723a16",
   "metadata": {},
   "outputs": [
    {
     "data": {
      "text/plain": [
       "28.0"
      ]
     },
     "execution_count": 18,
     "metadata": {},
     "output_type": "execute_result"
    }
   ],
   "source": [
    "np.mean(quarterback_A)"
   ]
  },
  {
   "cell_type": "code",
   "execution_count": 19,
   "id": "a2964319-0180-406b-ade7-ca123a5e9fbd",
   "metadata": {},
   "outputs": [
    {
     "data": {
      "text/plain": [
       "28.0"
      ]
     },
     "execution_count": 19,
     "metadata": {},
     "output_type": "execute_result"
    }
   ],
   "source": [
    "np.mean(quarterback_B)"
   ]
  },
  {
   "cell_type": "markdown",
   "id": "5c8e1e06-3847-4578-be43-020cad517687",
   "metadata": {},
   "source": [
    "From above data we can conclude that, data of Quarterback A's completion value for 16 matches are near about the mean value(i.e. Quarterback A is consistent) but Quarterback B's completion value for 16 matches are too dispersed from the average value(i.e. Quarterback B is inconsistent which makes him/her bad option for Quarterback)"
   ]
  },
  {
   "cell_type": "markdown",
   "id": "431828df-0017-46db-b229-67471e9d8456",
   "metadata": {},
   "source": [
    "**Standard Deviation:**\n",
    "\n",
    "Standard deviation is a statistical measurement that looks at how far a group of numbers is from the mean. Put simply, standard deviation measures how far apart numbers are in a data set."
   ]
  },
  {
   "cell_type": "code",
   "execution_count": 20,
   "id": "e7a8f79b-be7c-49f8-82df-017edbdd1465",
   "metadata": {},
   "outputs": [
    {
     "data": {
      "text/plain": [
       "(4.330127018922194, 9.360822613424528)"
      ]
     },
     "execution_count": 20,
     "metadata": {},
     "output_type": "execute_result"
    }
   ],
   "source": [
    "a =np.std(quarterback_A)\n",
    "b =np.std(quarterback_B)\n",
    "a,b"
   ]
  },
  {
   "cell_type": "markdown",
   "id": "cde55271-f2f0-4875-9087-a1b8fc5d2269",
   "metadata": {},
   "source": [
    "Standard deviation of Quarterback A and Quarterback B tells that 95% of the data values are between [mean +/- (2 * standard deviation)] and spread for quarterback B is more in comparison to quarterback A."
   ]
  },
  {
   "cell_type": "markdown",
   "id": "3e2afe00-b566-432b-aa71-a2ea8d69e9c2",
   "metadata": {},
   "source": [
    "Q6. What is a Venn diagram?"
   ]
  },
  {
   "cell_type": "markdown",
   "id": "7c693a8f-a93e-4a04-ae3a-3527a8b83bea",
   "metadata": {},
   "source": [
    "ans:\n",
    "\n",
    "A Venn diagram is an illustration that uses circles to show the relationships among things or finite groups of things. Circles that overlap have a commonality while circles that do not overlap do not share those traits. Venn diagrams help to visually represent the similarities and differences between two concepts."
   ]
  },
  {
   "cell_type": "markdown",
   "id": "51ce92a7-21f5-4c2a-b62e-dbc145a09910",
   "metadata": {},
   "source": [
    "Q7. For the two given sets A = (2,3,4,5,6,7) & B = (0,2,6,8,10). Find:\n",
    "\n",
    "(i) \tA intersection B\n",
    "\n",
    "(ii)\tA union B"
   ]
  },
  {
   "cell_type": "code",
   "execution_count": 21,
   "id": "c05e1823-0f60-4b95-8526-17b2baa3800f",
   "metadata": {},
   "outputs": [
    {
     "name": "stdout",
     "output_type": "stream",
     "text": [
      "Union of A and B : {0, 2, 3, 4, 5, 6, 7, 8, 10}\n",
      "Intersection pf A and B: {2, 6}\n"
     ]
    }
   ],
   "source": [
    "A = {2,3,4,5,6,7} \n",
    "B = {0,2,6,8,10}\n",
    "print(\"Union of A and B :\",(A|B))\n",
    "print(\"Intersection pf A and B:\",(A&B))"
   ]
  },
  {
   "cell_type": "markdown",
   "id": "93c28541-da24-40ef-992b-6a0ee24a797e",
   "metadata": {},
   "source": [
    "Q8. What do you understand about skewness in data?"
   ]
  },
  {
   "cell_type": "markdown",
   "id": "a8526723-9a95-42bc-9719-d6bfc371883f",
   "metadata": {},
   "source": [
    "ans:\n",
    "\n",
    "Skewness is a measure of the asymmetry of a distribution. A distribution is asymmetrical when its left and right side are not mirror images.\n",
    "\n",
    "A distribution can have right (or positive), left (or negative), or zero skewness. A right-skewed distribution is longer on the right side of its peak, and a left-skewed distribution is longer on the left side of its peak.\n",
    "\n",
    "You might want to calculate the skewness of a distribution to:\n",
    "\n",
    "1. Describe the distribution of a variable alongside other descriptive statistics.\n",
    "\n",
    "2. Determine if a variable is normally distributed. A normal distribution has zero skew and is an assumption of many statistical procedures."
   ]
  },
  {
   "cell_type": "markdown",
   "id": "ce97953c-ecae-4e57-9ad0-e145b646dd37",
   "metadata": {},
   "source": [
    "Q9. If a data is right skewed then what will be the position of median with respect to mean?"
   ]
  },
  {
   "cell_type": "markdown",
   "id": "6d339fb7-5f18-4606-b5fc-210a1ecd1e6e",
   "metadata": {},
   "source": [
    "ans:\n",
    "\n",
    "If a data is right skewed then the mean is the largest,while the mode is the smallest.The value of mean will be more than the median. "
   ]
  },
  {
   "cell_type": "markdown",
   "id": "8c673adb-c78b-4b6b-a89b-3917bbe459f3",
   "metadata": {},
   "source": [
    "Q10. Explain the difference between covariance and correlation. How are these measures used in statistical analysis?"
   ]
  },
  {
   "cell_type": "markdown",
   "id": "cc8f53da-40ec-47da-b8f9-f7f1ca6aca96",
   "metadata": {},
   "source": [
    "ans:\n",
    "\n",
    "The difference between covariance and correlation\n",
    "\n",
    "The correlation values have standardized notions, whereas the covariance values are not standardized and cannot be used to compare how strong or weak the relationship is because the magnitude has no direct significance. Correalation can assume values from -1 to +1. \n",
    "\n",
    "The values of covariance can be any number between the two opposite infinities. Also, it’s important to mention that covariance only measures how two variables change together, not the dependency of one variable on another one.A change in the units of measurement can change the covariance"
   ]
  },
  {
   "cell_type": "markdown",
   "id": "bfe79f4e-4e7f-4212-9d64-1421c9332c43",
   "metadata": {},
   "source": [
    "**Covariance:**:\n",
    "\n",
    "Covariance signifies the direction of the linear relationship between the two variables. By direction we mean if the variables are directly proportional or inversely proportional to each other. (Increasing the value of one variable might have a positive or a negative impact on the value of the other variable).\n",
    "\n",
    "The values of covariance can be any number between the two opposite infinities. Also, it’s important to mention that covariance only measures how two variables change together, not the dependency of one variable on another one.\n",
    "\n",
    "The upper and lower limits for the covariance depend on the variances of the variables involved. These variances, in turn, can vary with the scaling of the variables. Even a change in the units of measurement can change the covariance. Thus, covariance is only useful to find the direction of the relationship between two variables and not the magnitude. "
   ]
  },
  {
   "cell_type": "markdown",
   "id": "4c206231-d26f-435d-a084-66a0d46ef941",
   "metadata": {},
   "source": [
    "**Correlation:**\n",
    "\n",
    "Correlation analysis is a method of statistical evaluation used to study the strength of a relationship between two, numerically measured, continuous variables.\n",
    "\n",
    "It not only shows the kind of relation (in terms of direction) but also how strong the relationship is. Thus, we can say the correlation values have standardized notions, whereas the covariance values are not standardized and cannot be used to compare how strong or weak the relationship is because the magnitude has no direct significance. It can assume values from -1 to +1. \n",
    "\n",
    "If there is no relationship at all between two variables, then the correlation coefficient will certainly be 0. However, if it is 0 then we can only say that there is no linear relationship. There could exist other functional relationships between the variables.\n",
    "\n",
    "When the correlation coefficient is positive, an increase in one variable also increases the other. When the correlation coefficient is negative, the changes in the two variables are in opposite directions"
   ]
  },
  {
   "cell_type": "markdown",
   "id": "7130a69d-4399-4adb-b4eb-184e524f3852",
   "metadata": {},
   "source": [
    "Q11. What is the formula for calculating the sample mean? Provide an example calculation for a dataset."
   ]
  },
  {
   "cell_type": "markdown",
   "id": "a888612c-53c4-427a-9062-debcc6136bc0",
   "metadata": {},
   "source": [
    "ans:\n",
    "\n",
    "The general formula for calculating the sample mean is given by x̄ = ( Σ xi ) / n. Here, x̄ represents the sample mean, xi refers all X sample values and n stands for the number of sample terms in the data set."
   ]
  },
  {
   "cell_type": "markdown",
   "id": "f8c9f4c8-570e-4008-a9b6-4c1aa2eed605",
   "metadata": {},
   "source": [
    "Example : Find the sample mean of 60, 57, 109, 50."
   ]
  },
  {
   "cell_type": "code",
   "execution_count": 22,
   "id": "c2df34fb-cce1-403a-b83f-f680d7169cca",
   "metadata": {},
   "outputs": [
    {
     "name": "stdout",
     "output_type": "stream",
     "text": [
      "sample mean of given data :  69.0\n"
     ]
    }
   ],
   "source": [
    "data = [60, 57, 109, 50]\n",
    "sample_mean = sum(data)/len(data)\n",
    "print(\"sample mean of given data : \", sample_mean)"
   ]
  },
  {
   "cell_type": "markdown",
   "id": "85431a9c-7bbb-46e7-b973-da7889a06862",
   "metadata": {},
   "source": [
    "Q12. For a normal distribution data what is the relationship between its measure of central tendency?"
   ]
  },
  {
   "cell_type": "markdown",
   "id": "32ccbc06-2058-41e4-95e5-f0e5320776ad",
   "metadata": {},
   "source": [
    "ans:\n",
    "\n",
    "the empirical relation between mean, median, and mode by means of a frequency distribution graph. We can divide the relationship into four different cases:\n",
    "\n",
    "1. In the case of a moderately skewed distribution, Mean – Mode = 3 (Mean – Median).\n",
    "\n",
    "2. In the case of a frequency distribution that has a symmetrical frequency curve, the empirical relation states that mean = median = mode.\n",
    "\n",
    "3. In the case of a positively skewed frequency distribution curve, mean > median > mode.\n",
    "\n",
    "4. In the case of negatively skewed frequency distribution, mean < median < mode."
   ]
  },
  {
   "cell_type": "markdown",
   "id": "29621699-9c51-44f9-8e61-2e09218ea3b3",
   "metadata": {},
   "source": [
    "Q13. How is covariance different from correlation?"
   ]
  },
  {
   "cell_type": "markdown",
   "id": "dd49977b-d4e2-4d1e-a2f6-21ddab42b080",
   "metadata": {},
   "source": [
    "The difference between covariance and correlation:\n",
    "\n",
    "1. Covariance is a measure to indicate the extent to which two random variables change in tandem and Correlation is a measure used to represent how strongly two random variables are related to each other.\n",
    "\n",
    "2. Covariance is nothing but a measure of correlation and Correlation refers to the scaled form of covariance.\n",
    "\n",
    "3. Covariance indicates the direction of the linear relationship between variables and Correlation on the other hand measures both the strength and direction of the linear relationship between two variables.\n",
    "\n",
    "4. Covariance can vary between -∞ and +∞ and Correlation ranges between -1 and +1.\n",
    "\n",
    "5. Covariance assumes the units from the product of the units of the two variables and Correlation is dimensionless, i.e. It’s a unit-free measure of the relationship between variables "
   ]
  },
  {
   "cell_type": "markdown",
   "id": "39c3b2df-d4b2-4056-9785-448187e58d44",
   "metadata": {},
   "source": [
    "Q14. How do outliers affect measures of central tendency and dispersion? Provide an example."
   ]
  },
  {
   "cell_type": "markdown",
   "id": "d74a0cf5-4b60-4871-aee3-510bd110d3e1",
   "metadata": {},
   "source": [
    "ans:\n",
    "\n",
    "**Measure of Central tendency:**\n",
    "\n",
    "When a outlier is present it can effect the shape of the graph, if we have outliers to the right of the graph. These outliers are causing the mean to increase, but if we have outliers to the left of the graph these outliers are dragging down the mean. This causes a conflict because the mean no longer provides a good representation of the data, alternatively we would much rather use the median. The median on the other hand is less likely to be affect by outliers\n",
    "\n",
    "\n"
   ]
  },
  {
   "cell_type": "code",
   "execution_count": 23,
   "id": "75434dd1-67c6-4a7b-9829-f5e4e81b6e33",
   "metadata": {},
   "outputs": [],
   "source": [
    "# score of a student\n",
    "score = [0, 70, 70, 80, 85, 90, 90, 90, 95, 100]"
   ]
  },
  {
   "cell_type": "code",
   "execution_count": 24,
   "id": "b2aa1ded-3d76-434a-b3da-d09e544b9244",
   "metadata": {},
   "outputs": [
    {
     "data": {
      "text/plain": [
       "77.0"
      ]
     },
     "execution_count": 24,
     "metadata": {},
     "output_type": "execute_result"
    }
   ],
   "source": [
    "np.mean(score)"
   ]
  },
  {
   "cell_type": "code",
   "execution_count": 25,
   "id": "736c2840-3e97-4b04-bfc7-152abeb18b9f",
   "metadata": {},
   "outputs": [
    {
     "data": {
      "text/plain": [
       "87.5"
      ]
     },
     "execution_count": 25,
     "metadata": {},
     "output_type": "execute_result"
    }
   ],
   "source": [
    "np.median(score)"
   ]
  },
  {
   "cell_type": "code",
   "execution_count": 26,
   "id": "7b59a897-a007-43f8-bf0e-334775ecc737",
   "metadata": {},
   "outputs": [
    {
     "data": {
      "text/plain": [
       "90"
      ]
     },
     "execution_count": 26,
     "metadata": {},
     "output_type": "execute_result"
    }
   ],
   "source": [
    "mode(score)"
   ]
  },
  {
   "cell_type": "markdown",
   "id": "1bdf8009-3d4b-4bab-b0e7-ed344883652c",
   "metadata": {},
   "source": [
    "Receiving a zero on a quiz significantly affects a student’s mean,\n",
    "or average. Notice that the outlier had a small effect on the\n",
    "median and mode of the data."
   ]
  },
  {
   "cell_type": "markdown",
   "id": "6922c26c-0598-46b9-89ed-3bcfa93b998a",
   "metadata": {},
   "source": [
    "**Measure of Dispersion:**\n",
    "\n",
    "Since the range takes only two values (largest and smallest), the extreme values/outliers will impact the range."
   ]
  },
  {
   "cell_type": "code",
   "execution_count": 28,
   "id": "566859e8-2004-4d15-b795-289ed656847f",
   "metadata": {},
   "outputs": [
    {
     "data": {
      "text/plain": [
       "100"
      ]
     },
     "execution_count": 28,
     "metadata": {},
     "output_type": "execute_result"
    }
   ],
   "source": [
    "range_of_score = max(score) - min(score)\n",
    "range_of_score "
   ]
  },
  {
   "cell_type": "markdown",
   "id": "aeed1f64-c155-41ed-9ca7-301efee3cd0c",
   "metadata": {},
   "source": [
    "The range of the score = 100\n",
    "But, the data distribution has an extreme values 0 . If we chop this value;, the range of the score will be :\n"
   ]
  },
  {
   "cell_type": "code",
   "execution_count": 29,
   "id": "754d000a-73c5-4629-8e67-b83916cadc3b",
   "metadata": {},
   "outputs": [],
   "source": [
    "score1 = [70, 70, 80, 85, 90, 90, 90, 95, 100]"
   ]
  },
  {
   "cell_type": "code",
   "execution_count": 30,
   "id": "3024f948-fc7c-44c1-a33a-3340ec24ab73",
   "metadata": {},
   "outputs": [
    {
     "data": {
      "text/plain": [
       "30"
      ]
     },
     "execution_count": 30,
     "metadata": {},
     "output_type": "execute_result"
    }
   ],
   "source": [
    "range_of_score1 = max(score1) - min(score1)\n",
    "range_of_score1 "
   ]
  },
  {
   "cell_type": "markdown",
   "id": "e7e052e7-48a5-4755-9362-c2325c5441ac",
   "metadata": {},
   "source": [
    "When there are extreme values/outliers, the range statistic can be misleading. Hence, we often use the interquartile range instead of a range."
   ]
  },
  {
   "cell_type": "code",
   "execution_count": null,
   "id": "a1bc4839-dcff-4b31-9a4c-a5a332be4867",
   "metadata": {},
   "outputs": [],
   "source": []
  }
 ],
 "metadata": {
  "kernelspec": {
   "display_name": "Python 3 (ipykernel)",
   "language": "python",
   "name": "python3"
  },
  "language_info": {
   "codemirror_mode": {
    "name": "ipython",
    "version": 3
   },
   "file_extension": ".py",
   "mimetype": "text/x-python",
   "name": "python",
   "nbconvert_exporter": "python",
   "pygments_lexer": "ipython3",
   "version": "3.10.8"
  }
 },
 "nbformat": 4,
 "nbformat_minor": 5
}

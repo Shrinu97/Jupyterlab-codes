{
  "nbformat": 4,
  "nbformat_minor": 0,
  "metadata": {
    "colab": {
      "provenance": [],
      "authorship_tag": "ABX9TyMWH2zImJvtoV7El9X4OQpf",
      "include_colab_link": true
    },
    "kernelspec": {
      "name": "python3",
      "display_name": "Python 3"
    },
    "language_info": {
      "name": "python"
    }
  },
  "cells": [
    {
      "cell_type": "markdown",
      "metadata": {
        "id": "view-in-github",
        "colab_type": "text"
      },
      "source": [
        "<a href=\"https://colab.research.google.com/github/Shrinu97/Jupyterlab-codes/blob/main/bokeh_assignment.ipynb\" target=\"_parent\"><img src=\"https://colab.research.google.com/assets/colab-badge.svg\" alt=\"Open In Colab\"/></a>"
      ]
    },
    {
      "cell_type": "markdown",
      "source": [
        "Q1. How can you create a Bokeh plot using Python code?"
      ],
      "metadata": {
        "id": "TBkLCXjlVNva"
      }
    },
    {
      "cell_type": "markdown",
      "source": [
        "Bokeh is a Python library used for creating interactive visualizations in a web browser. It provides powerful tools that offer flexibility, interactivity, and scalability for exploring various data insights."
      ],
      "metadata": {
        "id": "ZFr3LgiJXbVF"
      }
    },
    {
      "cell_type": "markdown",
      "source": [
        "import pandas as pd.\n",
        "\n",
        "from bokeh. io import output_file, save.\n",
        "\n",
        "from bokeh. models import ColumnDataSource, Whisker.\n",
        "\n",
        "from bokeh. plotting import figure, show.\n",
        "\n",
        "from bokeh. sampledata. ...\n",
        "\n",
        "from bokeh. transform import factor_cmap."
      ],
      "metadata": {
        "id": "q_tT8b9yW6Xm"
      }
    },
    {
      "cell_type": "markdown",
      "source": [
        "Q2. What are glyphs in Bokeh, and how can you add them to a Bokeh plot? Explain with an example."
      ],
      "metadata": {
        "id": "HvYTL7sRXqYt"
      }
    },
    {
      "cell_type": "markdown",
      "source": [
        "Glyphs are the building blocks of Bokeh visualizations. A glyph is a vectorized graphical shape or marker that is used to represent your data. They can be a marker—shapes like circles, diamonds, squares, and triangles"
      ],
      "metadata": {
        "id": "HMIGeFLGYLOV"
      }
    },
    {
      "cell_type": "markdown",
      "source": [
        " Bokeh plots constructed using bokeh.plotting interface use a default set of tools and styles. However, it is possible to customize the styles using available plotting tools."
      ],
      "metadata": {
        "id": "0UfdnzRhbFyx"
      }
    },
    {
      "cell_type": "code",
      "source": [
        "from bokeh.plotting import figure, show\n",
        "from bokeh.io import output_file\n",
        "x = [1, 2, 4, 6, 7]\n",
        "y = [7, 6, 3, 9, 10]\n",
        "p = figure(title=\"Circle Glyph\")\n",
        "p.circle(x=x, y=y, size=25, fill_color=\"red\")\n",
        "p.circle_cross(x=[2, 4, 6, 8], y=[5, 8, 9, 11], size=25,\n",
        "               fill_color=\"blue\", fill_alpha=0.3, line_width=2)\n",
        "p.circle_x(x=[4, 7, 2, 6], y=[7, 2, 4, 9], size=25,\n",
        "           fill_color=\"green\", fill_alpha=0.6, line_width=2)\n",
        "output_file('circle.html')\n",
        "show(p)"
      ],
      "metadata": {
        "id": "Xm6RODceXA78"
      },
      "execution_count": 5,
      "outputs": []
    },
    {
      "cell_type": "markdown",
      "source": [
        "Q3. How can you customize the appearance of a Bokeh plot, including the axes, title, and legend?"
      ],
      "metadata": {
        "id": "IK-RkjRidnN3"
      }
    },
    {
      "cell_type": "markdown",
      "source": [
        "To set the size of your plot, use the attributes width and height when calling the figure() function:"
      ],
      "metadata": {
        "id": "Je77YYmVeOnG"
      }
    },
    {
      "cell_type": "code",
      "source": [
        "\n",
        "p = figure(\n",
        "    title=\"Plot sizing example\",\n",
        "    width=350,\n",
        "    height=250,\n",
        "    x_axis_label=\"x\",\n",
        "    y_axis_label=\"y\",\n",
        ")\n",
        "circle = p.circle(x, y, fill_color=\"red\", size=15)\n",
        "show(p)\n"
      ],
      "metadata": {
        "id": "F5WTRUeDc5bf"
      },
      "execution_count": 6,
      "outputs": []
    },
    {
      "cell_type": "markdown",
      "source": [
        "You can set various attributes to change the way the axes in your plot work and look.\n",
        "\n",
        "Setting your axes appearance\n",
        "\n",
        "Options for customizing the appearance of your plot include:\n",
        "\n",
        "setting labels for your axes\n",
        "\n",
        "styling the numbers displayed with your axes\n",
        "\n",
        "defining colors and other layout properties for the axes themselve"
      ],
      "metadata": {
        "id": "7Q_2pC8BeQSF"
      }
    },
    {
      "cell_type": "code",
      "source": [
        "p = figure(\n",
        "    title=\"Customized axes example\",\n",
        "    sizing_mode=\"stretch_width\",\n",
        "    max_width=500,\n",
        "    height=350,\n",
        ")\n",
        "p.circle(x, y, size=10)\n",
        "p.xaxis.axis_label = \"Temp\"\n",
        "p.xaxis.axis_line_width = 3\n",
        "p.xaxis.axis_line_color = \"red\"\n",
        "\n",
        "p.yaxis.axis_label = \"Pressure\"\n",
        "p.yaxis.major_label_text_color = \"orange\"\n",
        "p.yaxis.major_label_orientation = \"vertical\"\n",
        "p.axis.minor_tick_in = -3\n",
        "p.axis.minor_tick_out = 6\n",
        "show(p)"
      ],
      "metadata": {
        "id": "PuIDCwFulMWI"
      },
      "execution_count": 7,
      "outputs": []
    },
    {
      "cell_type": "markdown",
      "source": [
        "We can customize the legend with its several attributes such as location, color, line-color, font-size, font-style line width. We can modify it using the legend attribute with the required property name."
      ],
      "metadata": {
        "id": "2e2It6cy70dZ"
      }
    },
    {
      "cell_type": "code",
      "source": [
        "currentList = [1, 2, 3, 4, 5]\n",
        "List1 = [i*2 for i in currentList]\n",
        "List2 = [i+2 for i in currentList]\n",
        "\n",
        "plots = figure(title=\" your Legend Customization\")\n",
        "\n",
        "line = plots.line(\n",
        "    currentList,\n",
        "    List1,\n",
        "    legend_label=\"Arrays .\",\n",
        "    line_color=\"blue\",\n",
        "    line_width=2\n",
        ")"
      ],
      "metadata": {
        "id": "6N5YkMnDlijv"
      },
      "execution_count": 8,
      "outputs": []
    },
    {
      "cell_type": "markdown",
      "source": [
        "Q4. What is a Bokeh server, and how can you use it to create interactive plots that can be updated in\n",
        "real time?"
      ],
      "metadata": {
        "id": "cA5uLEad9hPO"
      }
    },
    {
      "cell_type": "markdown",
      "source": [
        "ans:\n",
        "\n",
        "Bokeh server makes it easy to create interactive web applications that connect front-end UI events to running Python code"
      ],
      "metadata": {
        "id": "cMYWVzPcAEbO"
      }
    },
    {
      "cell_type": "markdown",
      "source": [
        " to create interactive data visualizations with the Bokeh server is to create Bokeh applications and serve them with the bokeh serve command. The Bokeh server then uses the application code to create sessions and documents for all connecting browsers."
      ],
      "metadata": {
        "id": "vpElpqKQAayB"
      }
    },
    {
      "cell_type": "markdown",
      "source": [
        "The Bokeh server executes the application code with every new connection and creates a new Bokeh document, syncing it to the browser. The application code also sets up the callbacks that should run whenever properties, such as widget values, change."
      ],
      "metadata": {
        "id": "_lvS77BkAc54"
      }
    },
    {
      "cell_type": "markdown",
      "source": [
        "Q5. How can you embed a Bokeh plot into a web page or dashboard using Flask or Django?"
      ],
      "metadata": {
        "id": "z4h9LoZXBcN4"
      }
    },
    {
      "cell_type": "markdown",
      "source": [
        " ans:\n",
        "\n",
        " To create a basic bokeh graph and embed it into our Django web app, we will be importing components from bokeh.embed which returns the individual components. The function bokeh.embed.components() returns a script that contains that data for your plot with a \"< div >\" tag in which the plot view is loaded. We will look in detail at the step-by-step procedure."
      ],
      "metadata": {
        "id": "g1RzCAhJBsA3"
      }
    },
    {
      "cell_type": "markdown",
      "source": [
        "Step 1: Setting up a basic Django project\n",
        "\n",
        "Step 2: Create the Django project  \n",
        "\n",
        "Step 3:Complete Bokeh Setup into our project"
      ],
      "metadata": {
        "id": "DrIKRHqiB8-T"
      }
    },
    {
      "cell_type": "code",
      "source": [],
      "metadata": {
        "id": "gS4vbALtCYHp"
      },
      "execution_count": null,
      "outputs": []
    }
  ]
}
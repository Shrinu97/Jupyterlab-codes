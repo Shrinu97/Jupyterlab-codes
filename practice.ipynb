{
 "cells": [
  {
   "cell_type": "code",
   "execution_count": 1,
   "id": "cd74eac2-91f3-4a95-878a-78c62557b882",
   "metadata": {},
   "outputs": [],
   "source": [
    "v=5+6j"
   ]
  },
  {
   "cell_type": "code",
   "execution_count": 2,
   "id": "739ca208-b96f-46dc-80c4-b11322e335f3",
   "metadata": {},
   "outputs": [
    {
     "data": {
      "text/plain": [
       "complex"
      ]
     },
     "execution_count": 2,
     "metadata": {},
     "output_type": "execute_result"
    }
   ],
   "source": [
    "type(v)"
   ]
  },
  {
   "cell_type": "code",
   "execution_count": 3,
   "id": "9206e4c8-5ca7-4be2-a202-67ee24d9703b",
   "metadata": {},
   "outputs": [
    {
     "name": "stdout",
     "output_type": "stream",
     "text": [
      "My name is shrinu\n"
     ]
    }
   ],
   "source": [
    "print(\"My name is shrinu\")"
   ]
  },
  {
   "cell_type": "code",
   "execution_count": 4,
   "id": "6fedf65d-e00b-4e99-8d49-093ee1f6f2bc",
   "metadata": {},
   "outputs": [],
   "source": [
    "v=5+8j"
   ]
  },
  {
   "cell_type": "code",
   "execution_count": 5,
   "id": "d8ba65fe-b889-4510-87ac-454bcf807b49",
   "metadata": {},
   "outputs": [
    {
     "name": "stdout",
     "output_type": "stream",
     "text": [
      "(5+8j)\n"
     ]
    }
   ],
   "source": [
    "print(v)"
   ]
  },
  {
   "cell_type": "code",
   "execution_count": 6,
   "id": "2bb9c5a1-a1a1-4bab-a8eb-0ada4e8a25f1",
   "metadata": {},
   "outputs": [],
   "source": [
    "s=\"pwskills\""
   ]
  },
  {
   "cell_type": "code",
   "execution_count": 7,
   "id": "d208aaa6-0544-4961-9388-cc2749987fca",
   "metadata": {},
   "outputs": [
    {
     "data": {
      "text/plain": [
       "'s'"
      ]
     },
     "execution_count": 7,
     "metadata": {},
     "output_type": "execute_result"
    }
   ],
   "source": [
    "s[2]"
   ]
  },
  {
   "cell_type": "code",
   "execution_count": 8,
   "id": "85c8b953-a759-4862-a236-27147419a1d4",
   "metadata": {},
   "outputs": [
    {
     "data": {
      "text/plain": [
       "'l'"
      ]
     },
     "execution_count": 8,
     "metadata": {},
     "output_type": "execute_result"
    }
   ],
   "source": [
    "s[-2]"
   ]
  },
  {
   "cell_type": "code",
   "execution_count": 9,
   "id": "7c567729-f653-4bcf-8580-3c959f1c035d",
   "metadata": {},
   "outputs": [
    {
     "data": {
      "text/plain": [
       "'pwski'"
      ]
     },
     "execution_count": 9,
     "metadata": {},
     "output_type": "execute_result"
    }
   ],
   "source": [
    "s[0:5]"
   ]
  },
  {
   "cell_type": "code",
   "execution_count": 10,
   "id": "c1090733-0830-4ab7-881b-a212e8f53917",
   "metadata": {},
   "outputs": [
    {
     "data": {
      "text/plain": [
       "'psil'"
      ]
     },
     "execution_count": 10,
     "metadata": {},
     "output_type": "execute_result"
    }
   ],
   "source": [
    "s[0:8:2]"
   ]
  },
  {
   "cell_type": "code",
   "execution_count": 11,
   "id": "cca42020-30e5-4394-8bce-1b6d90ac5314",
   "metadata": {},
   "outputs": [
    {
     "data": {
      "text/plain": [
       "'psil'"
      ]
     },
     "execution_count": 11,
     "metadata": {},
     "output_type": "execute_result"
    }
   ],
   "source": [
    "s[::2]"
   ]
  },
  {
   "cell_type": "code",
   "execution_count": 12,
   "id": "2ecabf2a-fbdb-441c-9172-41a2e2e5b6e6",
   "metadata": {},
   "outputs": [
    {
     "data": {
      "text/plain": [
       "'psi'"
      ]
     },
     "execution_count": 12,
     "metadata": {},
     "output_type": "execute_result"
    }
   ],
   "source": [
    "s[0:6:2]"
   ]
  },
  {
   "cell_type": "code",
   "execution_count": 13,
   "id": "a7968d3a-6d9d-4792-8a4d-2971bd8b7417",
   "metadata": {},
   "outputs": [
    {
     "data": {
      "text/plain": [
       "'sllikswp'"
      ]
     },
     "execution_count": 13,
     "metadata": {},
     "output_type": "execute_result"
    }
   ],
   "source": [
    "s[::-1]"
   ]
  },
  {
   "cell_type": "code",
   "execution_count": 14,
   "id": "97038c3c-288e-42e2-96db-3638058007e6",
   "metadata": {},
   "outputs": [
    {
     "data": {
      "text/plain": [
       "'sllikswp'"
      ]
     },
     "execution_count": 14,
     "metadata": {},
     "output_type": "execute_result"
    }
   ],
   "source": [
    "s[-1:-9:-1]"
   ]
  },
  {
   "cell_type": "code",
   "execution_count": 15,
   "id": "8a7433d4-8185-4fc1-b4cc-630c97852771",
   "metadata": {},
   "outputs": [
    {
     "data": {
      "text/plain": [
       "'slliksw'"
      ]
     },
     "execution_count": 15,
     "metadata": {},
     "output_type": "execute_result"
    }
   ],
   "source": [
    "s[8:0:-1]"
   ]
  },
  {
   "cell_type": "code",
   "execution_count": 16,
   "id": "86b277a6-1fa3-4979-8988-b231690d3bd7",
   "metadata": {},
   "outputs": [],
   "source": [
    "s1= \"this is my string class\""
   ]
  },
  {
   "cell_type": "code",
   "execution_count": 17,
   "id": "be5e9c07-10e6-496d-80a7-161d724a70fe",
   "metadata": {},
   "outputs": [
    {
     "data": {
      "text/plain": [
       "23"
      ]
     },
     "execution_count": 17,
     "metadata": {},
     "output_type": "execute_result"
    }
   ],
   "source": [
    "len(s1)"
   ]
  },
  {
   "cell_type": "code",
   "execution_count": 18,
   "id": "5a0e6bee-57ad-433a-8a9c-49a42989b4d4",
   "metadata": {},
   "outputs": [
    {
     "data": {
      "text/plain": [
       "3"
      ]
     },
     "execution_count": 18,
     "metadata": {},
     "output_type": "execute_result"
    }
   ],
   "source": [
    "s1.find('s')"
   ]
  },
  {
   "cell_type": "code",
   "execution_count": 19,
   "id": "58e5da72-cfa3-4de2-a7a4-06213084cf21",
   "metadata": {},
   "outputs": [
    {
     "data": {
      "text/plain": [
       "2"
      ]
     },
     "execution_count": 19,
     "metadata": {},
     "output_type": "execute_result"
    }
   ],
   "source": [
    "s1.find('is')"
   ]
  },
  {
   "cell_type": "code",
   "execution_count": 20,
   "id": "86cf2acf-9753-4d9b-9133-5a4ac81847e9",
   "metadata": {},
   "outputs": [
    {
     "data": {
      "text/plain": [
       "-1"
      ]
     },
     "execution_count": 20,
     "metadata": {},
     "output_type": "execute_result"
    }
   ],
   "source": [
    "s1.find('iS')"
   ]
  },
  {
   "cell_type": "code",
   "execution_count": 21,
   "id": "51c4ceeb-45eb-4f29-8647-0ec9120ad4b8",
   "metadata": {},
   "outputs": [
    {
     "data": {
      "text/plain": [
       "5"
      ]
     },
     "execution_count": 21,
     "metadata": {},
     "output_type": "execute_result"
    }
   ],
   "source": [
    "s1.count('s')"
   ]
  },
  {
   "cell_type": "code",
   "execution_count": 22,
   "id": "a91b6192-ce9e-43de-81b4-6f915e29c59b",
   "metadata": {},
   "outputs": [
    {
     "data": {
      "text/plain": [
       "1"
      ]
     },
     "execution_count": 22,
     "metadata": {},
     "output_type": "execute_result"
    }
   ],
   "source": [
    "s1.count('st')"
   ]
  },
  {
   "cell_type": "code",
   "execution_count": 23,
   "id": "42c8438e-cfe7-49b2-a0a5-08c656401fc2",
   "metadata": {},
   "outputs": [
    {
     "data": {
      "text/plain": [
       "0"
      ]
     },
     "execution_count": 23,
     "metadata": {},
     "output_type": "execute_result"
    }
   ],
   "source": [
    "s1.count('z')"
   ]
  },
  {
   "cell_type": "code",
   "execution_count": 24,
   "id": "f3d299c6-8e2f-4fcf-bd31-59d44749de74",
   "metadata": {},
   "outputs": [
    {
     "data": {
      "text/plain": [
       "'THIS IS MY STRING CLASS'"
      ]
     },
     "execution_count": 24,
     "metadata": {},
     "output_type": "execute_result"
    }
   ],
   "source": [
    "s1.upper()"
   ]
  },
  {
   "cell_type": "code",
   "execution_count": 25,
   "id": "d53b7eb4-ab4c-4fd1-afde-f80837a689d8",
   "metadata": {},
   "outputs": [],
   "source": [
    "s2='THIS IS MY STRING CLASS'"
   ]
  },
  {
   "cell_type": "code",
   "execution_count": 26,
   "id": "84091902-ffee-404b-a211-7b614f581690",
   "metadata": {},
   "outputs": [
    {
     "data": {
      "text/plain": [
       "'this is my string class'"
      ]
     },
     "execution_count": 26,
     "metadata": {},
     "output_type": "execute_result"
    }
   ],
   "source": [
    "##this is code to convert any string into lower caps\n",
    "s2.lower()"
   ]
  },
  {
   "cell_type": "code",
   "execution_count": 27,
   "id": "ce9d7696-2f81-4f56-ae61-6af1f760b65a",
   "metadata": {},
   "outputs": [
    {
     "data": {
      "text/plain": [
       "'pwskills'"
      ]
     },
     "execution_count": 27,
     "metadata": {},
     "output_type": "execute_result"
    }
   ],
   "source": [
    "s "
   ]
  },
  {
   "cell_type": "code",
   "execution_count": 28,
   "id": "2c3a2b8b-7720-4435-ac11-cf289f731d34",
   "metadata": {},
   "outputs": [
    {
     "data": {
      "text/plain": [
       "'pwskillssudh'"
      ]
     },
     "execution_count": 28,
     "metadata": {},
     "output_type": "execute_result"
    }
   ],
   "source": [
    "s+\"sudh\""
   ]
  },
  {
   "cell_type": "code",
   "execution_count": 29,
   "id": "ba48515a-6a92-485f-a647-e7815b385af9",
   "metadata": {},
   "outputs": [
    {
     "data": {
      "text/plain": [
       "'pwskillspwskillspwskills'"
      ]
     },
     "execution_count": 29,
     "metadata": {},
     "output_type": "execute_result"
    }
   ],
   "source": [
    "s*3"
   ]
  },
  {
   "cell_type": "code",
   "execution_count": 30,
   "id": "bac4a34f-1e97-4ed7-b50d-735a4320d5e4",
   "metadata": {},
   "outputs": [
    {
     "data": {
      "text/plain": [
       "'sudhsudhsudh'"
      ]
     },
     "execution_count": 30,
     "metadata": {},
     "output_type": "execute_result"
    }
   ],
   "source": [
    "\"sudh\"*3"
   ]
  },
  {
   "cell_type": "code",
   "execution_count": 31,
   "id": "a8455ce8-1cad-405b-b39b-eca40e0efdd9",
   "metadata": {},
   "outputs": [],
   "source": [
    "#Python is boring "
   ]
  },
  {
   "cell_type": "code",
   "execution_count": 32,
   "id": "63aab735-5fb5-424b-b39f-dae63dc772ef",
   "metadata": {},
   "outputs": [
    {
     "data": {
      "text/plain": [
       "'this is my first class for programming \\ni have learnt varialble decleration , data type, string, int boolean, complex number\\ni have seen some example of string slicing and indexing'"
      ]
     },
     "execution_count": 32,
     "metadata": {},
     "output_type": "execute_result"
    }
   ],
   "source": [
    "\"\"\"this is my first class for programming \n",
    "i have learnt varialble decleration , data type, string, int boolean, complex number\n",
    "i have seen some example of string slicing and indexing\"\"\""
   ]
  },
  {
   "cell_type": "code",
   "execution_count": 33,
   "id": "0dea4b05-7d52-49aa-9751-87def1635246",
   "metadata": {},
   "outputs": [],
   "source": [
    "# this is my first class for programming \n",
    "# i have learnt varialble decleration , data type, string, int boolean, complex number\n",
    "# i have seen some example of string slicing and indexing"
   ]
  },
  {
   "cell_type": "code",
   "execution_count": 34,
   "id": "685fcba3-ee63-4ec5-b123-4fbcdc02a160",
   "metadata": {},
   "outputs": [],
   "source": [
    "l=[2,34,'shrinu',3+5j,234.56]"
   ]
  },
  {
   "cell_type": "code",
   "execution_count": 35,
   "id": "98868154-2de3-4606-b367-868c84746b3d",
   "metadata": {},
   "outputs": [
    {
     "data": {
      "text/plain": [
       "list"
      ]
     },
     "execution_count": 35,
     "metadata": {},
     "output_type": "execute_result"
    }
   ],
   "source": [
    "type(l)"
   ]
  },
  {
   "cell_type": "code",
   "execution_count": 36,
   "id": "66d90b90-5beb-43cd-bf80-f026b96822fe",
   "metadata": {},
   "outputs": [],
   "source": [
    "l1=[22,3,'vats']"
   ]
  },
  {
   "cell_type": "code",
   "execution_count": 37,
   "id": "8010f193-c5a0-4f62-b698-7a9d2acc38d1",
   "metadata": {},
   "outputs": [
    {
     "data": {
      "text/plain": [
       "[2, 34, 'shrinu', (3+5j), 234.56, 22, 3, 'vats']"
      ]
     },
     "execution_count": 37,
     "metadata": {},
     "output_type": "execute_result"
    }
   ],
   "source": [
    "l+l1"
   ]
  },
  {
   "cell_type": "code",
   "execution_count": 38,
   "id": "fec12bd5-4c4e-4cb5-9959-39cc888ea915",
   "metadata": {},
   "outputs": [
    {
     "data": {
      "text/plain": [
       "[22, 3, 'vats', 22, 3, 'vats', 22, 3, 'vats']"
      ]
     },
     "execution_count": 38,
     "metadata": {},
     "output_type": "execute_result"
    }
   ],
   "source": [
    "l1*3"
   ]
  },
  {
   "cell_type": "code",
   "execution_count": 39,
   "id": "fb1d0443-74ec-46d3-be2e-58e1ac83612e",
   "metadata": {},
   "outputs": [
    {
     "data": {
      "text/plain": [
       "8"
      ]
     },
     "execution_count": 39,
     "metadata": {},
     "output_type": "execute_result"
    }
   ],
   "source": [
    "len(l+l1)"
   ]
  },
  {
   "cell_type": "code",
   "execution_count": 40,
   "id": "9c385491-7439-4b8b-85ae-ca719e6dc1ed",
   "metadata": {},
   "outputs": [],
   "source": [
    "a=\"pwskills\""
   ]
  },
  {
   "cell_type": "code",
   "execution_count": 41,
   "id": "c0843693-3c00-45a7-90cb-5ae0a3274f25",
   "metadata": {},
   "outputs": [],
   "source": [
    "l.append(a)"
   ]
  },
  {
   "cell_type": "code",
   "execution_count": 42,
   "id": "b4b695c0-058e-4869-8548-5e3cf4754d73",
   "metadata": {},
   "outputs": [
    {
     "data": {
      "text/plain": [
       "[2, 34, 'shrinu', (3+5j), 234.56, 'pwskills']"
      ]
     },
     "execution_count": 42,
     "metadata": {},
     "output_type": "execute_result"
    }
   ],
   "source": [
    "l"
   ]
  },
  {
   "cell_type": "code",
   "execution_count": 43,
   "id": "b9a4d554-b794-4817-a3e1-a97027de8ff0",
   "metadata": {},
   "outputs": [],
   "source": [
    " l.append(l1)"
   ]
  },
  {
   "cell_type": "code",
   "execution_count": 44,
   "id": "d86e16bf-4320-40e3-9f41-8d0464a9dbd5",
   "metadata": {},
   "outputs": [
    {
     "data": {
      "text/plain": [
       "[2, 34, 'shrinu', (3+5j), 234.56, 'pwskills', [22, 3, 'vats']]"
      ]
     },
     "execution_count": 44,
     "metadata": {},
     "output_type": "execute_result"
    }
   ],
   "source": [
    "l"
   ]
  },
  {
   "cell_type": "code",
   "execution_count": 45,
   "id": "4a32b0fb-3b5c-4740-b3ef-dd8c7c7f9ec8",
   "metadata": {},
   "outputs": [
    {
     "data": {
      "text/plain": [
       "[22, 3, 'vats']"
      ]
     },
     "execution_count": 45,
     "metadata": {},
     "output_type": "execute_result"
    }
   ],
   "source": [
    "l[-1]"
   ]
  },
  {
   "cell_type": "code",
   "execution_count": 46,
   "id": "fc839b72-5956-4cb9-8956-5af0c1756d50",
   "metadata": {},
   "outputs": [],
   "source": [
    "a=[2,3,4]"
   ]
  },
  {
   "cell_type": "code",
   "execution_count": 47,
   "id": "4f8da8f1-5bec-416c-8c98-f5d3f2289091",
   "metadata": {},
   "outputs": [],
   "source": [
    "b=[1,5,7]"
   ]
  },
  {
   "cell_type": "code",
   "execution_count": 48,
   "id": "ee76347d-8c19-4af1-87b7-34168a4d214d",
   "metadata": {},
   "outputs": [
    {
     "data": {
      "text/plain": [
       "[2, 3, 4, 1, 5, 7]"
      ]
     },
     "execution_count": 48,
     "metadata": {},
     "output_type": "execute_result"
    }
   ],
   "source": [
    "a+b"
   ]
  },
  {
   "cell_type": "code",
   "execution_count": 49,
   "id": "c19b251f-7f65-454a-9110-2c1d2a85c452",
   "metadata": {},
   "outputs": [],
   "source": [
    "a.append(b)"
   ]
  },
  {
   "cell_type": "code",
   "execution_count": 50,
   "id": "b340e4f5-60fa-4c3b-916f-b3626929cbb1",
   "metadata": {},
   "outputs": [
    {
     "data": {
      "text/plain": [
       "[2, 3, 4, [1, 5, 7]]"
      ]
     },
     "execution_count": 50,
     "metadata": {},
     "output_type": "execute_result"
    }
   ],
   "source": [
    "a"
   ]
  },
  {
   "cell_type": "code",
   "execution_count": 51,
   "id": "e695c2b5-42f1-420b-bf4a-69d612d6f08d",
   "metadata": {},
   "outputs": [],
   "source": [
    "c=[2,3,7]"
   ]
  },
  {
   "cell_type": "code",
   "execution_count": 52,
   "id": "bf4f4f46-eca9-49d2-bddc-e9d3aaff43d2",
   "metadata": {},
   "outputs": [],
   "source": [
    "d=[8,10]\n"
   ]
  },
  {
   "cell_type": "code",
   "execution_count": 53,
   "id": "27ce0d10-cf2b-46c9-af26-6f80f9c6b4a6",
   "metadata": {},
   "outputs": [
    {
     "data": {
      "text/plain": [
       "[2, 3, 7, 8, 10]"
      ]
     },
     "execution_count": 53,
     "metadata": {},
     "output_type": "execute_result"
    }
   ],
   "source": [
    "c+d"
   ]
  },
  {
   "cell_type": "code",
   "execution_count": 54,
   "id": "c453291b-ce74-4746-98eb-de5c7cd40d82",
   "metadata": {},
   "outputs": [
    {
     "data": {
      "text/plain": [
       "[2, 3, 7]"
      ]
     },
     "execution_count": 54,
     "metadata": {},
     "output_type": "execute_result"
    }
   ],
   "source": [
    "c"
   ]
  },
  {
   "cell_type": "code",
   "execution_count": 55,
   "id": "47847195-a004-42b9-a2c0-c4f21b8e6169",
   "metadata": {},
   "outputs": [],
   "source": [
    "l.extend(l1)"
   ]
  },
  {
   "cell_type": "code",
   "execution_count": 56,
   "id": "30c2def5-9890-48d2-b6a3-ae681aa0ef42",
   "metadata": {},
   "outputs": [
    {
     "data": {
      "text/plain": [
       "[2, 34, 'shrinu', (3+5j), 234.56, 'pwskills', [22, 3, 'vats'], 22, 3, 'vats']"
      ]
     },
     "execution_count": 56,
     "metadata": {},
     "output_type": "execute_result"
    }
   ],
   "source": [
    "l"
   ]
  },
  {
   "cell_type": "code",
   "execution_count": 57,
   "id": "0baeed8f-d4dd-43b7-b361-c1716d61bcca",
   "metadata": {},
   "outputs": [],
   "source": [
    "c.insert(1,\"sudh\")"
   ]
  },
  {
   "cell_type": "code",
   "execution_count": 58,
   "id": "057241ca-7781-4c10-8edc-c315d01d315b",
   "metadata": {},
   "outputs": [
    {
     "data": {
      "text/plain": [
       "[2, 'sudh', 3, 7]"
      ]
     },
     "execution_count": 58,
     "metadata": {},
     "output_type": "execute_result"
    }
   ],
   "source": [
    "c"
   ]
  },
  {
   "cell_type": "code",
   "execution_count": 59,
   "id": "3c715140-2008-4d16-ac78-efe9c66b9818",
   "metadata": {},
   "outputs": [],
   "source": [
    "c.insert(-1,45)"
   ]
  },
  {
   "cell_type": "code",
   "execution_count": 60,
   "id": "623f0081-d660-43cf-85ec-f0464c3d210f",
   "metadata": {},
   "outputs": [
    {
     "data": {
      "text/plain": [
       "[2, 'sudh', 3, 45, 7]"
      ]
     },
     "execution_count": 60,
     "metadata": {},
     "output_type": "execute_result"
    }
   ],
   "source": [
    "c"
   ]
  },
  {
   "cell_type": "code",
   "execution_count": 61,
   "id": "6a40f13b-3a81-47e1-b798-fae1fbe42631",
   "metadata": {},
   "outputs": [
    {
     "data": {
      "text/plain": [
       "7"
      ]
     },
     "execution_count": 61,
     "metadata": {},
     "output_type": "execute_result"
    }
   ],
   "source": [
    "c.pop()"
   ]
  },
  {
   "cell_type": "code",
   "execution_count": 62,
   "id": "ee132bf3-0095-4f90-b3c1-130e8aefd08c",
   "metadata": {},
   "outputs": [
    {
     "data": {
      "text/plain": [
       "[2, 'sudh', 3, 45]"
      ]
     },
     "execution_count": 62,
     "metadata": {},
     "output_type": "execute_result"
    }
   ],
   "source": [
    "c"
   ]
  },
  {
   "cell_type": "code",
   "execution_count": 63,
   "id": "f2d8a797-7054-4890-ab3e-316b72c9be5b",
   "metadata": {},
   "outputs": [
    {
     "data": {
      "text/plain": [
       "3"
      ]
     },
     "execution_count": 63,
     "metadata": {},
     "output_type": "execute_result"
    }
   ],
   "source": [
    "c.pop(2)"
   ]
  },
  {
   "cell_type": "code",
   "execution_count": 64,
   "id": "cc999eb8-968a-4280-9229-22867f4ce0c6",
   "metadata": {},
   "outputs": [],
   "source": [
    "c.append('shrinu')"
   ]
  },
  {
   "cell_type": "code",
   "execution_count": 65,
   "id": "38b7bcd5-1064-4df0-a899-8c42a29c2405",
   "metadata": {},
   "outputs": [
    {
     "data": {
      "text/plain": [
       "[2, 'sudh', 45, 'shrinu']"
      ]
     },
     "execution_count": 65,
     "metadata": {},
     "output_type": "execute_result"
    }
   ],
   "source": [
    "c"
   ]
  },
  {
   "cell_type": "code",
   "execution_count": 66,
   "id": "1254b9e8-19e9-4558-9789-683ceb9884af",
   "metadata": {},
   "outputs": [],
   "source": [
    "c.remove('shrinu')"
   ]
  },
  {
   "cell_type": "code",
   "execution_count": 67,
   "id": "11e56fce-54b5-4324-b729-bbcbdfb8c321",
   "metadata": {},
   "outputs": [
    {
     "data": {
      "text/plain": [
       "[2, 'sudh', 45]"
      ]
     },
     "execution_count": 67,
     "metadata": {},
     "output_type": "execute_result"
    }
   ],
   "source": [
    "c"
   ]
  },
  {
   "cell_type": "code",
   "execution_count": 68,
   "id": "0243886b-bd18-4d7f-81fe-669db8cb6ba6",
   "metadata": {},
   "outputs": [],
   "source": [
    "e=[2,43,2,7]"
   ]
  },
  {
   "cell_type": "code",
   "execution_count": 69,
   "id": "4ec3ae5f-7548-4395-b096-82a612c93819",
   "metadata": {},
   "outputs": [],
   "source": [
    "e.remove(2)"
   ]
  },
  {
   "cell_type": "code",
   "execution_count": 70,
   "id": "ab5926e5-eead-4500-bd24-f6ee39cddfde",
   "metadata": {},
   "outputs": [
    {
     "data": {
      "text/plain": [
       "[43, 2, 7]"
      ]
     },
     "execution_count": 70,
     "metadata": {},
     "output_type": "execute_result"
    }
   ],
   "source": [
    "e"
   ]
  },
  {
   "cell_type": "code",
   "execution_count": 71,
   "id": "e64bbcae-7553-421d-8a1d-8c2798cee2e2",
   "metadata": {},
   "outputs": [],
   "source": [
    "e.append([2,3,5])"
   ]
  },
  {
   "cell_type": "code",
   "execution_count": 72,
   "id": "9798cbf5-421e-4b78-999c-b7c995442170",
   "metadata": {},
   "outputs": [
    {
     "data": {
      "text/plain": [
       "[43, 2, 7, [2, 3, 5]]"
      ]
     },
     "execution_count": 72,
     "metadata": {},
     "output_type": "execute_result"
    }
   ],
   "source": [
    "e"
   ]
  },
  {
   "cell_type": "code",
   "execution_count": 73,
   "id": "864f29b3-5028-416d-ab0b-45baa7394f67",
   "metadata": {},
   "outputs": [],
   "source": [
    "e[3].remove(5)"
   ]
  },
  {
   "cell_type": "code",
   "execution_count": 74,
   "id": "9c30468f-49c2-4c65-9fda-6205779fa006",
   "metadata": {},
   "outputs": [
    {
     "data": {
      "text/plain": [
       "[43, 2, 7, [2, 3]]"
      ]
     },
     "execution_count": 74,
     "metadata": {},
     "output_type": "execute_result"
    }
   ],
   "source": [
    "e"
   ]
  },
  {
   "cell_type": "code",
   "execution_count": 75,
   "id": "19d36582-802e-4077-bd9b-42918367e0f8",
   "metadata": {},
   "outputs": [],
   "source": [
    "l3=[2,3,4,[5,3,'shrinu']]"
   ]
  },
  {
   "cell_type": "code",
   "execution_count": 76,
   "id": "ca7bc81b-9cab-4003-801c-ffd27fbca4fa",
   "metadata": {},
   "outputs": [
    {
     "data": {
      "text/plain": [
       "[2, 3, 4, [5, 3, 'shrinu']]"
      ]
     },
     "execution_count": 76,
     "metadata": {},
     "output_type": "execute_result"
    }
   ],
   "source": [
    "l3"
   ]
  },
  {
   "cell_type": "code",
   "execution_count": 77,
   "id": "7d073f5c-a0e8-4c73-8434-5b20b2e1e588",
   "metadata": {},
   "outputs": [],
   "source": [
    "l3.reverse()"
   ]
  },
  {
   "cell_type": "code",
   "execution_count": 78,
   "id": "d9cbadd0-a355-4c93-bdd4-aec19a9f027e",
   "metadata": {},
   "outputs": [
    {
     "data": {
      "text/plain": [
       "[[5, 3, 'shrinu'], 4, 3, 2]"
      ]
     },
     "execution_count": 78,
     "metadata": {},
     "output_type": "execute_result"
    }
   ],
   "source": [
    "l3"
   ]
  },
  {
   "cell_type": "code",
   "execution_count": 79,
   "id": "2135a7c2-ab77-4527-8e6a-1393f9867974",
   "metadata": {},
   "outputs": [
    {
     "data": {
      "text/plain": [
       "[2, 3, 4, [5, 3, 'shrinu']]"
      ]
     },
     "execution_count": 79,
     "metadata": {},
     "output_type": "execute_result"
    }
   ],
   "source": [
    "l3[::-1]"
   ]
  },
  {
   "cell_type": "code",
   "execution_count": 80,
   "id": "1d3f48bc-ba1a-493b-ade1-39898e03dcb0",
   "metadata": {},
   "outputs": [
    {
     "data": {
      "text/plain": [
       "[[5, 3, 'shrinu'], 4, 3, 2]"
      ]
     },
     "execution_count": 80,
     "metadata": {},
     "output_type": "execute_result"
    }
   ],
   "source": [
    "l3"
   ]
  },
  {
   "cell_type": "code",
   "execution_count": 81,
   "id": "7f211206-45de-4305-9d17-444c1b6f833e",
   "metadata": {},
   "outputs": [],
   "source": [
    "a=[2,3,9]"
   ]
  },
  {
   "cell_type": "code",
   "execution_count": 82,
   "id": "cf22b20a-1492-49c4-bff8-6780b0a5aaa5",
   "metadata": {},
   "outputs": [],
   "source": [
    "a=a[::-1]"
   ]
  },
  {
   "cell_type": "code",
   "execution_count": 83,
   "id": "5ff62d0e-5eb4-4f1f-840f-04f46858f393",
   "metadata": {},
   "outputs": [
    {
     "data": {
      "text/plain": [
       "[9, 3, 2]"
      ]
     },
     "execution_count": 83,
     "metadata": {},
     "output_type": "execute_result"
    }
   ],
   "source": [
    "a"
   ]
  },
  {
   "cell_type": "code",
   "execution_count": 84,
   "id": "41edf800-900e-4c52-9d0a-94ed7bfab911",
   "metadata": {},
   "outputs": [],
   "source": [
    "a.sort()"
   ]
  },
  {
   "cell_type": "code",
   "execution_count": 85,
   "id": "385b1213-6ad5-4010-bebf-00556c48b7fa",
   "metadata": {},
   "outputs": [
    {
     "data": {
      "text/plain": [
       "[2, 3, 9]"
      ]
     },
     "execution_count": 85,
     "metadata": {},
     "output_type": "execute_result"
    }
   ],
   "source": [
    "a"
   ]
  },
  {
   "cell_type": "code",
   "execution_count": 86,
   "id": "6035461e-eecb-4a99-a4af-fdc7f7f9f92f",
   "metadata": {},
   "outputs": [],
   "source": [
    "a=[9,0,2,4,1,7,3]"
   ]
  },
  {
   "cell_type": "code",
   "execution_count": 87,
   "id": "608abe70-f8f7-4877-b400-53e415904ff8",
   "metadata": {},
   "outputs": [],
   "source": [
    "a.sort()"
   ]
  },
  {
   "cell_type": "code",
   "execution_count": 88,
   "id": "a89612d6-c048-4437-bcce-c874c88a6dce",
   "metadata": {},
   "outputs": [
    {
     "data": {
      "text/plain": [
       "[0, 1, 2, 3, 4, 7, 9]"
      ]
     },
     "execution_count": 88,
     "metadata": {},
     "output_type": "execute_result"
    }
   ],
   "source": [
    "a"
   ]
  },
  {
   "cell_type": "code",
   "execution_count": 89,
   "id": "6846fccb-7e47-4d63-819d-ac178f1286b7",
   "metadata": {},
   "outputs": [],
   "source": [
    "a.sort(reverse=True)"
   ]
  },
  {
   "cell_type": "code",
   "execution_count": 90,
   "id": "ac710a84-fc37-40ec-b468-10bacfd9c9eb",
   "metadata": {},
   "outputs": [
    {
     "data": {
      "text/plain": [
       "[9, 7, 4, 3, 2, 1, 0]"
      ]
     },
     "execution_count": 90,
     "metadata": {},
     "output_type": "execute_result"
    }
   ],
   "source": [
    "a"
   ]
  },
  {
   "cell_type": "code",
   "execution_count": 91,
   "id": "5fae4ed7-0e2f-44af-8c01-c070fe06ba54",
   "metadata": {},
   "outputs": [
    {
     "data": {
      "text/plain": [
       "2"
      ]
     },
     "execution_count": 91,
     "metadata": {},
     "output_type": "execute_result"
    }
   ],
   "source": [
    "a.index(4)"
   ]
  },
  {
   "cell_type": "code",
   "execution_count": 92,
   "id": "cc8c1da4-7ae9-47a9-8a57-b761ba191715",
   "metadata": {},
   "outputs": [
    {
     "data": {
      "text/plain": [
       "1"
      ]
     },
     "execution_count": 92,
     "metadata": {},
     "output_type": "execute_result"
    }
   ],
   "source": [
    "a.count(4)"
   ]
  },
  {
   "cell_type": "code",
   "execution_count": 93,
   "id": "6dbc7db7-6e31-4e76-86a5-ac465f3642bb",
   "metadata": {},
   "outputs": [],
   "source": [
    "b=\"shrinu\""
   ]
  },
  {
   "cell_type": "code",
   "execution_count": 94,
   "id": "ea3c7893-d848-47a4-ae8d-14286a7b0ce9",
   "metadata": {},
   "outputs": [
    {
     "data": {
      "text/plain": [
       "'s'"
      ]
     },
     "execution_count": 94,
     "metadata": {},
     "output_type": "execute_result"
    }
   ],
   "source": [
    "b[0]"
   ]
  },
  {
   "cell_type": "code",
   "execution_count": 95,
   "id": "57efe456-6067-4067-a852-f66359b529fb",
   "metadata": {},
   "outputs": [
    {
     "ename": "TypeError",
     "evalue": "'str' object does not support item assignment",
     "output_type": "error",
     "traceback": [
      "\u001b[0;31m---------------------------------------------------------------------------\u001b[0m",
      "\u001b[0;31mTypeError\u001b[0m                                 Traceback (most recent call last)",
      "Cell \u001b[0;32mIn[95], line 1\u001b[0m\n\u001b[0;32m----> 1\u001b[0m \u001b[43mb\u001b[49m\u001b[43m[\u001b[49m\u001b[38;5;241;43m0\u001b[39;49m\u001b[43m]\u001b[49m\u001b[38;5;241m=\u001b[39m\u001b[38;5;124m'\u001b[39m\u001b[38;5;124mg\u001b[39m\u001b[38;5;124m'\u001b[39m\n",
      "\u001b[0;31mTypeError\u001b[0m: 'str' object does not support item assignment"
     ]
    }
   ],
   "source": [
    "b[0]='g'"
   ]
  },
  {
   "cell_type": "code",
   "execution_count": null,
   "id": "d3381982-151a-497e-9a1f-d6e9e4a4f039",
   "metadata": {},
   "outputs": [],
   "source": [
    "a[0]=10"
   ]
  },
  {
   "cell_type": "code",
   "execution_count": 96,
   "id": "409de6dd-a4aa-475b-ace5-2beb6cba3440",
   "metadata": {},
   "outputs": [
    {
     "data": {
      "text/plain": [
       "[9, 7, 4, 3, 2, 1, 0]"
      ]
     },
     "execution_count": 96,
     "metadata": {},
     "output_type": "execute_result"
    }
   ],
   "source": [
    "a"
   ]
  },
  {
   "cell_type": "code",
   "execution_count": 97,
   "id": "92e2745c-952e-44f0-b83c-6148cb2144b7",
   "metadata": {},
   "outputs": [
    {
     "data": {
      "text/plain": [
       "'ahrinu'"
      ]
     },
     "execution_count": 97,
     "metadata": {},
     "output_type": "execute_result"
    }
   ],
   "source": [
    "b.replace('s','a')"
   ]
  },
  {
   "cell_type": "code",
   "execution_count": 98,
   "id": "fc24f20f-f6e5-4fd6-a6f1-650e911a5771",
   "metadata": {},
   "outputs": [
    {
     "data": {
      "text/plain": [
       "'shrinu'"
      ]
     },
     "execution_count": 98,
     "metadata": {},
     "output_type": "execute_result"
    }
   ],
   "source": [
    "b"
   ]
  },
  {
   "cell_type": "code",
   "execution_count": 99,
   "id": "fe799e6f-4cb4-44bc-8e97-4d14d6f11bc7",
   "metadata": {},
   "outputs": [],
   "source": [
    "t=(2,3,4,'shrinu', 5+6j,[1,7,9])"
   ]
  },
  {
   "cell_type": "code",
   "execution_count": 100,
   "id": "7db6abe9-2892-43e3-aed9-86ee5aee1572",
   "metadata": {},
   "outputs": [
    {
     "data": {
      "text/plain": [
       "tuple"
      ]
     },
     "execution_count": 100,
     "metadata": {},
     "output_type": "execute_result"
    }
   ],
   "source": [
    "type(t)"
   ]
  },
  {
   "cell_type": "code",
   "execution_count": 101,
   "id": "18640189-9972-4027-b5c9-4d3b16d895f5",
   "metadata": {},
   "outputs": [
    {
     "data": {
      "text/plain": [
       "2"
      ]
     },
     "execution_count": 101,
     "metadata": {},
     "output_type": "execute_result"
    }
   ],
   "source": [
    "t[0]"
   ]
  },
  {
   "cell_type": "code",
   "execution_count": 102,
   "id": "ac5561ed-e403-492f-acf4-2ef7f6a2ab13",
   "metadata": {},
   "outputs": [
    {
     "data": {
      "text/plain": [
       "[1, 7, 9]"
      ]
     },
     "execution_count": 102,
     "metadata": {},
     "output_type": "execute_result"
    }
   ],
   "source": [
    "t[-1]"
   ]
  },
  {
   "cell_type": "code",
   "execution_count": 103,
   "id": "2c9b99f2-df16-4e14-b5f2-79c9425ee0d0",
   "metadata": {},
   "outputs": [
    {
     "data": {
      "text/plain": [
       "([1, 7, 9], (5+6j), 'shrinu', 4, 3, 2)"
      ]
     },
     "execution_count": 103,
     "metadata": {},
     "output_type": "execute_result"
    }
   ],
   "source": [
    "t[::-1]"
   ]
  },
  {
   "cell_type": "code",
   "execution_count": 104,
   "id": "451871ab-b374-469b-92fc-4b473f120d57",
   "metadata": {},
   "outputs": [
    {
     "ename": "TypeError",
     "evalue": "'tuple' object does not support item assignment",
     "output_type": "error",
     "traceback": [
      "\u001b[0;31m---------------------------------------------------------------------------\u001b[0m",
      "\u001b[0;31mTypeError\u001b[0m                                 Traceback (most recent call last)",
      "Cell \u001b[0;32mIn[104], line 1\u001b[0m\n\u001b[0;32m----> 1\u001b[0m \u001b[43mt\u001b[49m\u001b[43m[\u001b[49m\u001b[38;5;241;43m0\u001b[39;49m\u001b[43m]\u001b[49m\u001b[38;5;241m=\u001b[39m\u001b[38;5;241m8\u001b[39m\n",
      "\u001b[0;31mTypeError\u001b[0m: 'tuple' object does not support item assignment"
     ]
    }
   ],
   "source": [
    "t[0]=8"
   ]
  },
  {
   "cell_type": "code",
   "execution_count": 105,
   "id": "9d14e1b3-38a3-4591-8829-570cd18ce787",
   "metadata": {},
   "outputs": [
    {
     "data": {
      "text/plain": [
       "1"
      ]
     },
     "execution_count": 105,
     "metadata": {},
     "output_type": "execute_result"
    }
   ],
   "source": [
    "t.count(2)"
   ]
  },
  {
   "cell_type": "code",
   "execution_count": 106,
   "id": "2ca9274e-ad1e-47c4-987a-9945dcf91b95",
   "metadata": {},
   "outputs": [
    {
     "data": {
      "text/plain": [
       "3"
      ]
     },
     "execution_count": 106,
     "metadata": {},
     "output_type": "execute_result"
    }
   ],
   "source": [
    " t.index('shrinu')"
   ]
  },
  {
   "cell_type": "code",
   "execution_count": 107,
   "id": "28641b3a-7939-45c7-af57-3743a69b3df2",
   "metadata": {},
   "outputs": [],
   "source": [
    "s1={}"
   ]
  },
  {
   "cell_type": "code",
   "execution_count": 108,
   "id": "fa686482-de0b-4072-854b-c15778049b23",
   "metadata": {},
   "outputs": [
    {
     "data": {
      "text/plain": [
       "dict"
      ]
     },
     "execution_count": 108,
     "metadata": {},
     "output_type": "execute_result"
    }
   ],
   "source": [
    "type(s1)"
   ]
  },
  {
   "cell_type": "code",
   "execution_count": 109,
   "id": "f753c0e9-7a04-44cb-bb61-d90e284d5c9f",
   "metadata": {},
   "outputs": [],
   "source": [
    "s2={2,3,45}"
   ]
  },
  {
   "cell_type": "code",
   "execution_count": 110,
   "id": "0b78b84d-7ac6-4cbb-a47e-8dc597e6df17",
   "metadata": {},
   "outputs": [
    {
     "data": {
      "text/plain": [
       "set"
      ]
     },
     "execution_count": 110,
     "metadata": {},
     "output_type": "execute_result"
    }
   ],
   "source": [
    "type(s2)"
   ]
  },
  {
   "cell_type": "code",
   "execution_count": 111,
   "id": "80f77d12-24de-4d9e-9dd0-33450a8d07d5",
   "metadata": {},
   "outputs": [
    {
     "ename": "TypeError",
     "evalue": "unhashable type: 'list'",
     "output_type": "error",
     "traceback": [
      "\u001b[0;31m---------------------------------------------------------------------------\u001b[0m",
      "\u001b[0;31mTypeError\u001b[0m                                 Traceback (most recent call last)",
      "Cell \u001b[0;32mIn[111], line 1\u001b[0m\n\u001b[0;32m----> 1\u001b[0m s3\u001b[38;5;241m=\u001b[39m{\u001b[38;5;241m2\u001b[39m,\u001b[38;5;241m3\u001b[39m,\u001b[38;5;241m4\u001b[39m,\u001b[38;5;241m5\u001b[39m\u001b[38;5;241m+\u001b[39m\u001b[38;5;241m7\u001b[39mj,[\u001b[38;5;241m7\u001b[39m,\u001b[38;5;241m8\u001b[39m,\u001b[38;5;241m9\u001b[39m]}\n",
      "\u001b[0;31mTypeError\u001b[0m: unhashable type: 'list'"
     ]
    }
   ],
   "source": [
    "s3={2,3,4,5+7j,[7,8,9]}"
   ]
  },
  {
   "cell_type": "code",
   "execution_count": 112,
   "id": "b3089cf2-bfb0-4071-9c10-eb3807eb4f15",
   "metadata": {},
   "outputs": [],
   "source": [
    "s3={2,3,4,5+7j,(7,8,9)}"
   ]
  },
  {
   "cell_type": "code",
   "execution_count": 113,
   "id": "e19f6067-31ce-44da-bd1d-4bfc6925b54c",
   "metadata": {},
   "outputs": [
    {
     "data": {
      "text/plain": [
       "{(5+7j), (7, 8, 9), 2, 3, 4}"
      ]
     },
     "execution_count": 113,
     "metadata": {},
     "output_type": "execute_result"
    }
   ],
   "source": [
    "s3"
   ]
  },
  {
   "cell_type": "code",
   "execution_count": 114,
   "id": "c16ecad3-fe71-4293-bd0a-df4956487fac",
   "metadata": {},
   "outputs": [
    {
     "data": {
      "text/plain": [
       "set"
      ]
     },
     "execution_count": 114,
     "metadata": {},
     "output_type": "execute_result"
    }
   ],
   "source": [
    "type(s3)"
   ]
  },
  {
   "cell_type": "code",
   "execution_count": 115,
   "id": "8486b96e-c8ca-4938-8143-8df324cb6e12",
   "metadata": {},
   "outputs": [],
   "source": [
    "s4={2,2,2,2,3,3,3,3,4,4,4,4,5,5,5,5,5}"
   ]
  },
  {
   "cell_type": "code",
   "execution_count": 116,
   "id": "7241466a-5c51-4059-976b-cfbbf330e1b4",
   "metadata": {},
   "outputs": [
    {
     "data": {
      "text/plain": [
       "{2, 3, 4, 5}"
      ]
     },
     "execution_count": 116,
     "metadata": {},
     "output_type": "execute_result"
    }
   ],
   "source": [
    "s4"
   ]
  },
  {
   "cell_type": "code",
   "execution_count": 117,
   "id": "eb89836a-3de7-49ed-9327-8349babf2d06",
   "metadata": {},
   "outputs": [],
   "source": [
    "s5={2,2,2,2,3,3,3,3,4,4,4,4,5,5,5,5,5,'Sudh','sudh'}"
   ]
  },
  {
   "cell_type": "code",
   "execution_count": 118,
   "id": "45db7e4d-4e6d-4ad8-ba43-3148f09e2ee5",
   "metadata": {},
   "outputs": [
    {
     "data": {
      "text/plain": [
       "{2, 3, 4, 5, 'Sudh', 'sudh'}"
      ]
     },
     "execution_count": 118,
     "metadata": {},
     "output_type": "execute_result"
    }
   ],
   "source": [
    "s5"
   ]
  },
  {
   "cell_type": "code",
   "execution_count": 119,
   "id": "0fbe1d1f-2ec7-4740-a992-c06cfe0bb9c4",
   "metadata": {},
   "outputs": [],
   "source": [
    "l5=[2,2,2,2,3,3,3,3,4,4,4,4,5,5,5,5,5,'Sudh','sudh']"
   ]
  },
  {
   "cell_type": "code",
   "execution_count": 120,
   "id": "38c05950-a931-4f22-aaa6-14fc098f4fab",
   "metadata": {},
   "outputs": [
    {
     "data": {
      "text/plain": [
       "{2, 3, 4, 5, 'Sudh', 'sudh'}"
      ]
     },
     "execution_count": 120,
     "metadata": {},
     "output_type": "execute_result"
    }
   ],
   "source": [
    "set(l5)"
   ]
  },
  {
   "cell_type": "code",
   "execution_count": 121,
   "id": "bb708cdb-9fab-4748-beb9-24eeb8fd194c",
   "metadata": {},
   "outputs": [],
   "source": [
    "l5=set(l5)"
   ]
  },
  {
   "cell_type": "code",
   "execution_count": 122,
   "id": "a4b0e4e5-30b7-453c-83f8-4b736b40fd9d",
   "metadata": {},
   "outputs": [
    {
     "data": {
      "text/plain": [
       "{2, 3, 4, 5, 'Sudh', 'sudh'}"
      ]
     },
     "execution_count": 122,
     "metadata": {},
     "output_type": "execute_result"
    }
   ],
   "source": [
    "l5"
   ]
  },
  {
   "cell_type": "code",
   "execution_count": 123,
   "id": "31125fbf-f9e9-4983-8902-08c8c72685b0",
   "metadata": {},
   "outputs": [],
   "source": [
    "l6={234, 345,12, 456, 78, 2 , 99,'shrinu', 125, 59}"
   ]
  },
  {
   "cell_type": "code",
   "execution_count": 124,
   "id": "25c172fb-58de-4163-93b9-c4da48d30d2d",
   "metadata": {},
   "outputs": [
    {
     "data": {
      "text/plain": [
       "{12, 125, 2, 234, 345, 456, 59, 78, 99, 'shrinu'}"
      ]
     },
     "execution_count": 124,
     "metadata": {},
     "output_type": "execute_result"
    }
   ],
   "source": [
    "l6"
   ]
  },
  {
   "cell_type": "code",
   "execution_count": 125,
   "id": "8aca4f40-e156-4d65-b187-61173523ebb3",
   "metadata": {},
   "outputs": [],
   "source": [
    "l6.add(3)"
   ]
  },
  {
   "cell_type": "code",
   "execution_count": 126,
   "id": "1016b421-845b-4725-9c05-60035a10752b",
   "metadata": {},
   "outputs": [
    {
     "data": {
      "text/plain": [
       "{12, 125, 2, 234, 3, 345, 456, 59, 78, 99, 'shrinu'}"
      ]
     },
     "execution_count": 126,
     "metadata": {},
     "output_type": "execute_result"
    }
   ],
   "source": [
    "l6"
   ]
  },
  {
   "cell_type": "code",
   "execution_count": null,
   "id": "0f954c72-6573-4c7e-9585-7908b56d5e22",
   "metadata": {},
   "outputs": [],
   "source": []
  }
 ],
 "metadata": {
  "kernelspec": {
   "display_name": "Python 3 (ipykernel)",
   "language": "python",
   "name": "python3"
  },
  "language_info": {
   "codemirror_mode": {
    "name": "ipython",
    "version": 3
   },
   "file_extension": ".py",
   "mimetype": "text/x-python",
   "name": "python",
   "nbconvert_exporter": "python",
   "pygments_lexer": "ipython3",
   "version": "3.10.8"
  }
 },
 "nbformat": 4,
 "nbformat_minor": 5
}
